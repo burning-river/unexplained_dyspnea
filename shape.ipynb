{
 "cells": [
  {
   "cell_type": "code",
   "execution_count": 1,
   "id": "52a9b608-e330-4267-8240-f9ae5115ed42",
   "metadata": {},
   "outputs": [],
   "source": [
    "import os\n",
    "import SimpleITK as sitk\n",
    "import six\n",
    "from radiomics import featureextractor as fe\n",
    "import radiomics\n",
    "import nibabel as nib \n",
    "import numpy as np\n",
    "import matplotlib.pyplot as plt\n",
    "%matplotlib inline\n",
    "import glob\n",
    "import scipy\n",
    "import pandas as pd\n",
    "from collections import Counter\n",
    "from sklearn.preprocessing import MinMaxScaler\n",
    "scaler = MinMaxScaler()\n",
    "from matplotlib.figure import Figure\n",
    "import package_outlier as po\n",
    "import math\n",
    "from sklearn.linear_model import LinearRegression\n",
    "from sklearn.preprocessing import RobustScaler, StandardScaler\n",
    "from statsmodels.formula.api import ols\n",
    "from statsmodels.stats.anova import anova_lm\n",
    "import seaborn as sns\n",
    "from statsmodels.stats.outliers_influence import variance_inflation_factor as vif\n",
    "from scipy.stats import pearsonr"
   ]
  },
  {
   "cell_type": "code",
   "execution_count": 2,
   "id": "601447df-50fb-4b8b-a048-d7023c63ac6d",
   "metadata": {},
   "outputs": [],
   "source": [
    "def nii_to_arr(nii_file):\n",
    "    sitk_img = sitk.ReadImage(nii_file)\n",
    "    origin = sitk_img.GetOrigin()\n",
    "    spacing = sitk_img.GetSpacing()\n",
    "    assert(spacing[2] == 12.)\n",
    "    arr = sitk.GetArrayFromImage(sitk_img)\n",
    "    \n",
    "    return origin, spacing, arr"
   ]
  },
  {
   "cell_type": "code",
   "execution_count": 3,
   "id": "07ca41d7-baf6-445a-acf2-83c548f58101",
   "metadata": {},
   "outputs": [],
   "source": [
    "def extract_chamber(segmentation_file, intensity):\n",
    "    origin, spacing, img_arr = nii_to_arr(segmentation_file)\n",
    "    assert(spacing[2] == 12.)\n",
    "    img_arr_roi = np.where(img_arr == intensity, 1., 0.)\n",
    "    return origin, spacing, img_arr_roi\n",
    "\n",
    "def extract_voxel(nii_file):\n",
    "    sitk_img = sitk.ReadImage(nii_file)\n",
    "    assert(sitk_img.GetSpacing()[2])\n",
    "    return sitk_img.GetSpacing()[0]*sitk_img.GetSpacing()[1]*sitk_img.GetSpacing()[2]"
   ]
  },
  {
   "cell_type": "code",
   "execution_count": 4,
   "id": "d2f7063b-0740-4369-a392-7d1a5c7d707e",
   "metadata": {},
   "outputs": [],
   "source": [
    "def chamber_vol_func(patient_id, num_images, t_start, nnunet_images_prefix):\n",
    "\n",
    "    nnunet_folder = nnunet_path + 'EXH' + patient_id + '/REST/z_12/all_slices/'\n",
    "\n",
    "    for comp in ['LV','LVMC']:\n",
    "        vol = []\n",
    "        t_end = t_start + num_images\n",
    "        for t in range(t_start,t_end):\n",
    "            rest_maskName = nnunet_folder + nnunet_images_prefix + str(t).zfill(4) + nnunet_images_suffix\n",
    "            origin, spacing, rest_chamber = extract_chamber(rest_maskName, chamber_intensity[comp])    \n",
    "            voxel_vol = extract_voxel(rest_maskName)\n",
    "            vol.append(np.sum(rest_chamber)*voxel_vol)\n",
    "        chamber_volume_nnunet[comp] = vol\n",
    "    return chamber_volume_nnunet"
   ]
  },
  {
   "cell_type": "code",
   "execution_count": 5,
   "id": "b0293f11-f0ca-42e2-a514-a3b2ea420e4b",
   "metadata": {},
   "outputs": [],
   "source": [
    "chamber_volume_nnunet = {}\n",
    "chamber_intensity = {'LV': 3.,\n",
    "                    'LVMC': 2., \n",
    "                    }"
   ]
  },
  {
   "cell_type": "code",
   "execution_count": 6,
   "id": "aa57eb62-9acd-4291-b14b-4f756f51a228",
   "metadata": {},
   "outputs": [],
   "source": [
    "nnunet_path = '/Users/saurabh/sample/uh_images/'"
   ]
  },
  {
   "cell_type": "markdown",
   "id": "5502b73f-da93-4631-aa92-674696b4cdae",
   "metadata": {},
   "source": [
    "#### Plot volume vs time"
   ]
  },
  {
   "cell_type": "code",
   "execution_count": 7,
   "id": "a62b81bc-38fc-4c17-9503-c6aba15bbd3f",
   "metadata": {},
   "outputs": [],
   "source": [
    "nnunet_images_suffix = '.nii.gz'\n",
    "\n",
    "def plot_vol_vs_time(patient_id):\n",
    "\n",
    "    nnunet_folder = nnunet_path + 'EXH' + patient_id + '/REST/z_12/all_slices/'\n",
    "    nnunet_images_prefix = 'EXH' + patient_id + '_CINE_SET-UP-8SAX-1RTVLA-1HLA_'\n",
    "\n",
    "    if patient_id == '100B':\n",
    "        nnunet_images_prefix = 'EXH' + patient_id + '_CINE_SET-UP-8SAX-1VLA-1HLA_'\n",
    "\n",
    "    num_images = len(glob.glob(nnunet_folder+'*.gz'))\n",
    "\n",
    "    t_start = 0\n",
    "\n",
    "    chamber_volume_nnunet = chamber_vol_func(patient_id, num_images, t_start, nnunet_images_prefix)\n",
    "    plt.scatter(np.arange(num_images),chamber_volume_nnunet['LV'],label='LV')\n",
    "    plt.scatter(np.arange(num_images),chamber_volume_nnunet['LVMC'],label='LVMC')\n",
    "    #plt.xlim(0,11)\n",
    "    plt.legend();"
   ]
  },
  {
   "cell_type": "code",
   "execution_count": 8,
   "id": "90eb5248-17b3-4ccc-b094-65cc2600d0e3",
   "metadata": {},
   "outputs": [
    {
     "data": {
      "image/png": "[encoded data removed]",
      "text/plain": [
       "<Figure size 432x288 with 1 Axes>"
      ]
     },
     "metadata": {
      "needs_background": "light"
     },
     "output_type": "display_data"
    }
   ],
   "source": [
    "plot_vol_vs_time('175')"
   ]
  },
  {
   "cell_type": "markdown",
   "id": "03b33be5-1d8c-4d48-acf3-01229eaad366",
   "metadata": {},
   "source": [
    "### Volume Features"
   ]
  },
  {
   "cell_type": "code",
   "execution_count": 8,
   "id": "8e238140-335d-49e6-8a79-eb382e39b86f",
   "metadata": {},
   "outputs": [
    {
     "data": {
      "text/plain": [
       "'/Users/saurabh/Desktop/HeartProjects/Exhalted/Params/Code_EXH'"
      ]
     },
     "execution_count": 8,
     "metadata": {},
     "output_type": "execute_result"
    }
   ],
   "source": [
    "path = os.getcwd()\n",
    "path"
   ]
  },
  {
   "cell_type": "code",
   "execution_count": 10,
   "id": "54d1bf3f-4611-4ad1-b797-9a49e233b808",
   "metadata": {},
   "outputs": [
    {
     "data": {
      "text/html": [
       "<div>\n",
       "<style scoped>\n",
       "    .dataframe tbody tr th:only-of-type {\n",
       "        vertical-align: middle;\n",
       "    }\n",
       "\n",
       "    .dataframe tbody tr th {\n",
       "        vertical-align: top;\n",
       "    }\n",
       "\n",
       "    .dataframe thead th {\n",
       "        text-align: right;\n",
       "    }\n",
       "</style>\n",
       "<table border=\"1\" class=\"dataframe\">\n",
       "  <thead>\n",
       "    <tr style=\"text-align: right;\">\n",
       "      <th></th>\n",
       "      <th>patient_id</th>\n",
       "      <th>lvmc_std</th>\n",
       "      <th>lvmc_snr</th>\n",
       "      <th>lvmc_vol_es</th>\n",
       "      <th>lvmc_vol_ed</th>\n",
       "      <th>lvmc_vol_max</th>\n",
       "      <th>lvmc_vol_min</th>\n",
       "      <th>lvmc_vol_es_equal_max</th>\n",
       "      <th>lvmc_vol_max_minus_min</th>\n",
       "      <th>lv_std</th>\n",
       "      <th>lv_snr</th>\n",
       "      <th>lv_vol_es</th>\n",
       "      <th>lv_vol_ed</th>\n",
       "      <th>stroke_volume</th>\n",
       "      <th>ejection_fraction</th>\n",
       "    </tr>\n",
       "  </thead>\n",
       "  <tbody>\n",
       "    <tr>\n",
       "      <th>0</th>\n",
       "      <td>153</td>\n",
       "      <td>1362.454538</td>\n",
       "      <td>19.772862</td>\n",
       "      <td>78788.250000</td>\n",
       "      <td>85015.500000</td>\n",
       "      <td>85489.312500</td>\n",
       "      <td>73305.562500</td>\n",
       "      <td>0</td>\n",
       "      <td>0.142518</td>\n",
       "      <td>7965.467931</td>\n",
       "      <td>3.028929</td>\n",
       "      <td>39664.875000</td>\n",
       "      <td>106269.375000</td>\n",
       "      <td>66604.500000</td>\n",
       "      <td>0.626752</td>\n",
       "    </tr>\n",
       "    <tr>\n",
       "      <th>1</th>\n",
       "      <td>154</td>\n",
       "      <td>1170.807087</td>\n",
       "      <td>26.140431</td>\n",
       "      <td>109586.062500</td>\n",
       "      <td>103155.750000</td>\n",
       "      <td>109586.062500</td>\n",
       "      <td>94762.500000</td>\n",
       "      <td>1</td>\n",
       "      <td>0.135269</td>\n",
       "      <td>9425.673423</td>\n",
       "      <td>3.012396</td>\n",
       "      <td>46027.500000</td>\n",
       "      <td>130027.687500</td>\n",
       "      <td>84000.187500</td>\n",
       "      <td>0.646018</td>\n",
       "    </tr>\n",
       "    <tr>\n",
       "      <th>2</th>\n",
       "      <td>162</td>\n",
       "      <td>931.932994</td>\n",
       "      <td>27.155585</td>\n",
       "      <td>71613.375000</td>\n",
       "      <td>71071.875000</td>\n",
       "      <td>75674.625000</td>\n",
       "      <td>67416.750000</td>\n",
       "      <td>0</td>\n",
       "      <td>0.109123</td>\n",
       "      <td>4889.557224</td>\n",
       "      <td>4.245226</td>\n",
       "      <td>38920.312500</td>\n",
       "      <td>81428.062500</td>\n",
       "      <td>42507.750000</td>\n",
       "      <td>0.522028</td>\n",
       "    </tr>\n",
       "    <tr>\n",
       "      <th>3</th>\n",
       "      <td>191</td>\n",
       "      <td>628.804706</td>\n",
       "      <td>34.786485</td>\n",
       "      <td>113767.084884</td>\n",
       "      <td>103040.360091</td>\n",
       "      <td>114963.373894</td>\n",
       "      <td>103040.360091</td>\n",
       "      <td>0</td>\n",
       "      <td>0.103711</td>\n",
       "      <td>6097.426044</td>\n",
       "      <td>3.482814</td>\n",
       "      <td>58658.037807</td>\n",
       "      <td>151888.828014</td>\n",
       "      <td>93230.790206</td>\n",
       "      <td>0.613809</td>\n",
       "    </tr>\n",
       "    <tr>\n",
       "      <th>4</th>\n",
       "      <td>109</td>\n",
       "      <td>2522.159368</td>\n",
       "      <td>18.556770</td>\n",
       "      <td>111413.625000</td>\n",
       "      <td>126507.937500</td>\n",
       "      <td>135239.625000</td>\n",
       "      <td>111413.625000</td>\n",
       "      <td>0</td>\n",
       "      <td>0.176176</td>\n",
       "      <td>15817.902632</td>\n",
       "      <td>2.284888</td>\n",
       "      <td>42440.062500</td>\n",
       "      <td>153447.562500</td>\n",
       "      <td>111007.500000</td>\n",
       "      <td>0.723423</td>\n",
       "    </tr>\n",
       "  </tbody>\n",
       "</table>\n",
       "</div>"
      ],
      "text/plain": [
       "  patient_id     lvmc_std   lvmc_snr    lvmc_vol_es    lvmc_vol_ed  \\\n",
       "0        153  1362.454538  19.772862   78788.250000   85015.500000   \n",
       "1        154  1170.807087  26.140431  109586.062500  103155.750000   \n",
       "2        162   931.932994  27.155585   71613.375000   71071.875000   \n",
       "3        191   628.804706  34.786485  113767.084884  103040.360091   \n",
       "4        109  2522.159368  18.556770  111413.625000  126507.937500   \n",
       "\n",
       "    lvmc_vol_max   lvmc_vol_min  lvmc_vol_es_equal_max  \\\n",
       "0   85489.312500   73305.562500                      0   \n",
       "1  109586.062500   94762.500000                      1   \n",
       "2   75674.625000   67416.750000                      0   \n",
       "3  114963.373894  103040.360091                      0   \n",
       "4  135239.625000  111413.625000                      0   \n",
       "\n",
       "   lvmc_vol_max_minus_min        lv_std    lv_snr     lv_vol_es  \\\n",
       "0                0.142518   7965.467931  3.028929  39664.875000   \n",
       "1                0.135269   9425.673423  3.012396  46027.500000   \n",
       "2                0.109123   4889.557224  4.245226  38920.312500   \n",
       "3                0.103711   6097.426044  3.482814  58658.037807   \n",
       "4                0.176176  15817.902632  2.284888  42440.062500   \n",
       "\n",
       "       lv_vol_ed  stroke_volume  ejection_fraction  \n",
       "0  106269.375000   66604.500000           0.626752  \n",
       "1  130027.687500   84000.187500           0.646018  \n",
       "2   81428.062500   42507.750000           0.522028  \n",
       "3  151888.828014   93230.790206           0.613809  \n",
       "4  153447.562500  111007.500000           0.723423  "
      ]
     },
     "execution_count": 10,
     "metadata": {},
     "output_type": "execute_result"
    }
   ],
   "source": [
    "vol_df = pd.read_csv('vol.csv')\n",
    "vol_df.drop(columns='Unnamed: 0',inplace=True);\n",
    "vol_df.head()"
   ]
  },
  {
   "cell_type": "code",
   "execution_count": 11,
   "id": "456833a8-e066-40bc-aa60-8ffeaf8be3a0",
   "metadata": {},
   "outputs": [
    {
     "data": {
      "text/html": [
       "<div>\n",
       "<style scoped>\n",
       "    .dataframe tbody tr th:only-of-type {\n",
       "        vertical-align: middle;\n",
       "    }\n",
       "\n",
       "    .dataframe tbody tr th {\n",
       "        vertical-align: top;\n",
       "    }\n",
       "\n",
       "    .dataframe thead th {\n",
       "        text-align: right;\n",
       "    }\n",
       "</style>\n",
       "<table border=\"1\" class=\"dataframe\">\n",
       "  <thead>\n",
       "    <tr style=\"text-align: right;\">\n",
       "      <th></th>\n",
       "      <th>count</th>\n",
       "      <th>mean</th>\n",
       "      <th>std</th>\n",
       "      <th>min</th>\n",
       "      <th>25%</th>\n",
       "      <th>50%</th>\n",
       "      <th>75%</th>\n",
       "      <th>max</th>\n",
       "    </tr>\n",
       "  </thead>\n",
       "  <tbody>\n",
       "    <tr>\n",
       "      <th>lvmc_std</th>\n",
       "      <td>57.0</td>\n",
       "      <td>1797.558352</td>\n",
       "      <td>978.553481</td>\n",
       "      <td>628.804706</td>\n",
       "      <td>1153.427697</td>\n",
       "      <td>1576.147548</td>\n",
       "      <td>2157.732959</td>\n",
       "      <td>5292.798928</td>\n",
       "    </tr>\n",
       "    <tr>\n",
       "      <th>lvmc_snr</th>\n",
       "      <td>57.0</td>\n",
       "      <td>23.563425</td>\n",
       "      <td>9.398134</td>\n",
       "      <td>6.777910</td>\n",
       "      <td>16.904342</td>\n",
       "      <td>21.800929</td>\n",
       "      <td>29.353887</td>\n",
       "      <td>51.752073</td>\n",
       "    </tr>\n",
       "    <tr>\n",
       "      <th>lvmc_vol_es</th>\n",
       "      <td>57.0</td>\n",
       "      <td>119454.560966</td>\n",
       "      <td>34094.778466</td>\n",
       "      <td>66739.875000</td>\n",
       "      <td>99432.937500</td>\n",
       "      <td>111481.312500</td>\n",
       "      <td>136187.250000</td>\n",
       "      <td>245279.123421</td>\n",
       "    </tr>\n",
       "    <tr>\n",
       "      <th>lvmc_vol_ed</th>\n",
       "      <td>57.0</td>\n",
       "      <td>117516.593433</td>\n",
       "      <td>26976.081444</td>\n",
       "      <td>65995.312500</td>\n",
       "      <td>101531.250000</td>\n",
       "      <td>113095.916148</td>\n",
       "      <td>131003.510365</td>\n",
       "      <td>200697.419636</td>\n",
       "    </tr>\n",
       "    <tr>\n",
       "      <th>lvmc_vol_max</th>\n",
       "      <td>57.0</td>\n",
       "      <td>127911.039980</td>\n",
       "      <td>32967.862905</td>\n",
       "      <td>71816.437500</td>\n",
       "      <td>109586.062500</td>\n",
       "      <td>122446.687500</td>\n",
       "      <td>143159.062500</td>\n",
       "      <td>249944.650562</td>\n",
       "    </tr>\n",
       "    <tr>\n",
       "      <th>lvmc_vol_min</th>\n",
       "      <td>57.0</td>\n",
       "      <td>108822.267145</td>\n",
       "      <td>27850.475428</td>\n",
       "      <td>59294.250000</td>\n",
       "      <td>91613.147363</td>\n",
       "      <td>106018.453125</td>\n",
       "      <td>128538.562500</td>\n",
       "      <td>200697.419636</td>\n",
       "    </tr>\n",
       "    <tr>\n",
       "      <th>lvmc_vol_es_equal_max</th>\n",
       "      <td>57.0</td>\n",
       "      <td>0.192982</td>\n",
       "      <td>0.398147</td>\n",
       "      <td>0.000000</td>\n",
       "      <td>0.000000</td>\n",
       "      <td>0.000000</td>\n",
       "      <td>0.000000</td>\n",
       "      <td>1.000000</td>\n",
       "    </tr>\n",
       "    <tr>\n",
       "      <th>lvmc_vol_max_minus_min</th>\n",
       "      <td>57.0</td>\n",
       "      <td>0.147485</td>\n",
       "      <td>0.058346</td>\n",
       "      <td>0.051396</td>\n",
       "      <td>0.107206</td>\n",
       "      <td>0.135528</td>\n",
       "      <td>0.180286</td>\n",
       "      <td>0.321380</td>\n",
       "    </tr>\n",
       "    <tr>\n",
       "      <th>lv_std</th>\n",
       "      <td>57.0</td>\n",
       "      <td>8757.182215</td>\n",
       "      <td>3055.657135</td>\n",
       "      <td>1293.227392</td>\n",
       "      <td>7026.437692</td>\n",
       "      <td>9064.454540</td>\n",
       "      <td>10607.786669</td>\n",
       "      <td>15817.902632</td>\n",
       "    </tr>\n",
       "    <tr>\n",
       "      <th>lv_snr</th>\n",
       "      <td>57.0</td>\n",
       "      <td>4.544664</td>\n",
       "      <td>3.082525</td>\n",
       "      <td>2.119069</td>\n",
       "      <td>3.227912</td>\n",
       "      <td>3.573549</td>\n",
       "      <td>4.431670</td>\n",
       "      <td>16.560371</td>\n",
       "    </tr>\n",
       "    <tr>\n",
       "      <th>lv_vol_es</th>\n",
       "      <td>57.0</td>\n",
       "      <td>68155.970379</td>\n",
       "      <td>28309.300815</td>\n",
       "      <td>18546.375000</td>\n",
       "      <td>50620.781250</td>\n",
       "      <td>63152.437500</td>\n",
       "      <td>81083.981119</td>\n",
       "      <td>164954.437500</td>\n",
       "    </tr>\n",
       "    <tr>\n",
       "      <th>lv_vol_ed</th>\n",
       "      <td>57.0</td>\n",
       "      <td>151269.454938</td>\n",
       "      <td>35130.346841</td>\n",
       "      <td>81428.062500</td>\n",
       "      <td>128132.437500</td>\n",
       "      <td>146340.375000</td>\n",
       "      <td>175919.812500</td>\n",
       "      <td>236665.842547</td>\n",
       "    </tr>\n",
       "    <tr>\n",
       "      <th>stroke_volume</th>\n",
       "      <td>57.0</td>\n",
       "      <td>83113.484559</td>\n",
       "      <td>25061.198906</td>\n",
       "      <td>25112.062500</td>\n",
       "      <td>72899.437500</td>\n",
       "      <td>83120.250000</td>\n",
       "      <td>98349.937500</td>\n",
       "      <td>167041.822145</td>\n",
       "    </tr>\n",
       "    <tr>\n",
       "      <th>ejection_fraction</th>\n",
       "      <td>57.0</td>\n",
       "      <td>0.556050</td>\n",
       "      <td>0.132437</td>\n",
       "      <td>0.184401</td>\n",
       "      <td>0.493082</td>\n",
       "      <td>0.580674</td>\n",
       "      <td>0.639685</td>\n",
       "      <td>0.797187</td>\n",
       "    </tr>\n",
       "  </tbody>\n",
       "</table>\n",
       "</div>"
      ],
      "text/plain": [
       "                        count           mean           std           min  \\\n",
       "lvmc_std                 57.0    1797.558352    978.553481    628.804706   \n",
       "lvmc_snr                 57.0      23.563425      9.398134      6.777910   \n",
       "lvmc_vol_es              57.0  119454.560966  34094.778466  66739.875000   \n",
       "lvmc_vol_ed              57.0  117516.593433  26976.081444  65995.312500   \n",
       "lvmc_vol_max             57.0  127911.039980  32967.862905  71816.437500   \n",
       "lvmc_vol_min             57.0  108822.267145  27850.475428  59294.250000   \n",
       "lvmc_vol_es_equal_max    57.0       0.192982      0.398147      0.000000   \n",
       "lvmc_vol_max_minus_min   57.0       0.147485      0.058346      0.051396   \n",
       "lv_std                   57.0    8757.182215   3055.657135   1293.227392   \n",
       "lv_snr                   57.0       4.544664      3.082525      2.119069   \n",
       "lv_vol_es                57.0   68155.970379  28309.300815  18546.375000   \n",
       "lv_vol_ed                57.0  151269.454938  35130.346841  81428.062500   \n",
       "stroke_volume            57.0   83113.484559  25061.198906  25112.062500   \n",
       "ejection_fraction        57.0       0.556050      0.132437      0.184401   \n",
       "\n",
       "                                  25%            50%            75%  \\\n",
       "lvmc_std                  1153.427697    1576.147548    2157.732959   \n",
       "lvmc_snr                    16.904342      21.800929      29.353887   \n",
       "lvmc_vol_es              99432.937500  111481.312500  136187.250000   \n",
       "lvmc_vol_ed             101531.250000  113095.916148  131003.510365   \n",
       "lvmc_vol_max            109586.062500  122446.687500  143159.062500   \n",
       "lvmc_vol_min             91613.147363  106018.453125  128538.562500   \n",
       "lvmc_vol_es_equal_max        0.000000       0.000000       0.000000   \n",
       "lvmc_vol_max_minus_min       0.107206       0.135528       0.180286   \n",
       "lv_std                    7026.437692    9064.454540   10607.786669   \n",
       "lv_snr                       3.227912       3.573549       4.431670   \n",
       "lv_vol_es                50620.781250   63152.437500   81083.981119   \n",
       "lv_vol_ed               128132.437500  146340.375000  175919.812500   \n",
       "stroke_volume            72899.437500   83120.250000   98349.937500   \n",
       "ejection_fraction            0.493082       0.580674       0.639685   \n",
       "\n",
       "                                  max  \n",
       "lvmc_std                  5292.798928  \n",
       "lvmc_snr                    51.752073  \n",
       "lvmc_vol_es             245279.123421  \n",
       "lvmc_vol_ed             200697.419636  \n",
       "lvmc_vol_max            249944.650562  \n",
       "lvmc_vol_min            200697.419636  \n",
       "lvmc_vol_es_equal_max        1.000000  \n",
       "lvmc_vol_max_minus_min       0.321380  \n",
       "lv_std                   15817.902632  \n",
       "lv_snr                      16.560371  \n",
       "lv_vol_es               164954.437500  \n",
       "lv_vol_ed               236665.842547  \n",
       "stroke_volume           167041.822145  \n",
       "ejection_fraction            0.797187  "
      ]
     },
     "execution_count": 11,
     "metadata": {},
     "output_type": "execute_result"
    }
   ],
   "source": [
    "vol_df.describe().T"
   ]
  },
  {
   "cell_type": "code",
   "execution_count": 37,
   "id": "e2fb898c-1630-4011-90ca-7330c99bc342",
   "metadata": {},
   "outputs": [],
   "source": [
    "vol_columns = vol_df.columns\n",
    "numerical_columns = vol_columns.drop(['patient_id','lvmc_vol_es_equal_max']).values"
   ]
  },
  {
   "cell_type": "code",
   "execution_count": 38,
   "id": "c4b9d166-4c72-43c1-9931-a9b4c62dab7b",
   "metadata": {},
   "outputs": [
    {
     "data": {
      "text/plain": [
       "(51, 15)"
      ]
     },
     "execution_count": 38,
     "metadata": {},
     "output_type": "execute_result"
    }
   ],
   "source": [
    "vol_df.shape"
   ]
  },
  {
   "cell_type": "code",
   "execution_count": 39,
   "id": "57eacbd0-01f3-4f00-9f68-e423a70b5334",
   "metadata": {},
   "outputs": [],
   "source": [
    "vol_df_scaled = vol_df.copy(deep=True)\n",
    "vol_df_scaled[numerical_columns] = scaler.fit_transform(vol_df[numerical_columns])"
   ]
  },
  {
   "cell_type": "markdown",
   "id": "682ce7ff-a6bc-4a34-877c-69ce7f7fca25",
   "metadata": {},
   "source": [
    "#### Outlier analysis\n",
    "\n",
    "Let's look at the outliers. The purpose of doing outlier analysis is to go back and check the raw images and do appropriate corrections on the segmentations if required. Low ejection fraction cases can be excluded from further analysis since it is a known cause of dyspnea. "
   ]
  },
  {
   "cell_type": "code",
   "execution_count": 13,
   "id": "c2d02e96-16d8-4f03-8407-c30f1cdc3501",
   "metadata": {},
   "outputs": [],
   "source": [
    "def outlier_func(df, numerical_columns, num_ouliers_min):\n",
    "    '''\n",
    "    Finds features with outliers\n",
    "    '''\n",
    "    outlier_features = []\n",
    "    for feature in numerical_columns:\n",
    "        outliers = po.ModifiedZscoreOutlier(df[feature].values)\n",
    "        num_outliers = len(outliers)\n",
    "        if num_outliers > num_ouliers_min:\n",
    "            outlier_features.append(feature)\n",
    "    return outlier_features"
   ]
  },
  {
   "cell_type": "code",
   "execution_count": 14,
   "id": "0b31bf9d-9256-432d-a714-1627a347191b",
   "metadata": {},
   "outputs": [
    {
     "data": {
      "text/plain": [
       "['lv_snr', 'stroke_volume', 'ejection_fraction']"
      ]
     },
     "execution_count": 14,
     "metadata": {},
     "output_type": "execute_result"
    }
   ],
   "source": [
    "outlier_features = outlier_func(vol_df, numerical_columns, 3)\n",
    "outlier_features"
   ]
  },
  {
   "cell_type": "code",
   "execution_count": 15,
   "id": "910ce806-4f02-4f9e-9fdb-00eb0760909d",
   "metadata": {},
   "outputs": [
    {
     "data": {
      "text/plain": [
       "<AxesSubplot:>"
      ]
     },
     "execution_count": 15,
     "metadata": {},
     "output_type": "execute_result"
    },
    {
     "data": {
      "image/png": "[encoded data removed]",
      "text/plain": [
       "<Figure size 432x288 with 1 Axes>"
      ]
     },
     "metadata": {
      "needs_background": "light"
     },
     "output_type": "display_data"
    }
   ],
   "source": [
    "vol_df_scaled.boxplot(column = outlier_features[:])"
   ]
  },
  {
   "cell_type": "code",
   "execution_count": 17,
   "id": "7762893a-213b-42c7-9068-5c874857566e",
   "metadata": {},
   "outputs": [
    {
     "name": "stdout",
     "output_type": "stream",
     "text": [
      "number of outliers =  4\n"
     ]
    }
   ],
   "source": [
    "feature = 'ejection_fraction'\n",
    "outliers = po.ModifiedZscoreOutlier(vol_df[feature].values)\n",
    "num_outliers = len(outliers)\n",
    "print('number of outliers = ',num_outliers)"
   ]
  },
  {
   "cell_type": "code",
   "execution_count": 18,
   "id": "9095333a-a563-44da-8e07-7fb213af1bbb",
   "metadata": {},
   "outputs": [
    {
     "data": {
      "text/html": [
       "<div>\n",
       "<style scoped>\n",
       "    .dataframe tbody tr th:only-of-type {\n",
       "        vertical-align: middle;\n",
       "    }\n",
       "\n",
       "    .dataframe tbody tr th {\n",
       "        vertical-align: top;\n",
       "    }\n",
       "\n",
       "    .dataframe thead th {\n",
       "        text-align: right;\n",
       "    }\n",
       "</style>\n",
       "<table border=\"1\" class=\"dataframe\">\n",
       "  <thead>\n",
       "    <tr style=\"text-align: right;\">\n",
       "      <th></th>\n",
       "      <th>patient_id</th>\n",
       "      <th>lvmc_std</th>\n",
       "      <th>lvmc_snr</th>\n",
       "      <th>lvmc_vol_es</th>\n",
       "      <th>lvmc_vol_ed</th>\n",
       "      <th>lvmc_vol_max</th>\n",
       "      <th>lvmc_vol_min</th>\n",
       "      <th>lvmc_vol_es_equal_max</th>\n",
       "      <th>lvmc_vol_max_minus_min</th>\n",
       "      <th>lv_std</th>\n",
       "      <th>lv_snr</th>\n",
       "      <th>lv_vol_es</th>\n",
       "      <th>lv_vol_ed</th>\n",
       "      <th>stroke_volume</th>\n",
       "      <th>ejection_fraction</th>\n",
       "    </tr>\n",
       "  </thead>\n",
       "  <tbody>\n",
       "    <tr>\n",
       "      <th>50</th>\n",
       "      <td>188</td>\n",
       "      <td>1153.427697</td>\n",
       "      <td>51.752073</td>\n",
       "      <td>138101.296538</td>\n",
       "      <td>131003.510365</td>\n",
       "      <td>138101.296538</td>\n",
       "      <td>131003.510365</td>\n",
       "      <td>1</td>\n",
       "      <td>0.051396</td>\n",
       "      <td>5913.262444</td>\n",
       "      <td>12.932917</td>\n",
       "      <td>148442.441956</td>\n",
       "      <td>182004.159358</td>\n",
       "      <td>33561.717402</td>\n",
       "      <td>0.184401</td>\n",
       "    </tr>\n",
       "    <tr>\n",
       "      <th>20</th>\n",
       "      <td>114</td>\n",
       "      <td>1034.658434</td>\n",
       "      <td>17.811026</td>\n",
       "      <td>85760.062500</td>\n",
       "      <td>100583.625000</td>\n",
       "      <td>100583.625000</td>\n",
       "      <td>82308.000000</td>\n",
       "      <td>0</td>\n",
       "      <td>0.181696</td>\n",
       "      <td>1293.227392</td>\n",
       "      <td>16.560371</td>\n",
       "      <td>92190.375000</td>\n",
       "      <td>117302.437500</td>\n",
       "      <td>25112.062500</td>\n",
       "      <td>0.214080</td>\n",
       "    </tr>\n",
       "    <tr>\n",
       "      <th>9</th>\n",
       "      <td>100B</td>\n",
       "      <td>2806.696077</td>\n",
       "      <td>11.717112</td>\n",
       "      <td>122988.187500</td>\n",
       "      <td>164616.000000</td>\n",
       "      <td>164616.000000</td>\n",
       "      <td>118114.687500</td>\n",
       "      <td>0</td>\n",
       "      <td>0.282484</td>\n",
       "      <td>2768.218732</td>\n",
       "      <td>16.263933</td>\n",
       "      <td>164954.437500</td>\n",
       "      <td>215178.562500</td>\n",
       "      <td>50224.125000</td>\n",
       "      <td>0.233407</td>\n",
       "    </tr>\n",
       "    <tr>\n",
       "      <th>12</th>\n",
       "      <td>123</td>\n",
       "      <td>632.677214</td>\n",
       "      <td>35.794174</td>\n",
       "      <td>104794.921875</td>\n",
       "      <td>103072.265625</td>\n",
       "      <td>112374.609375</td>\n",
       "      <td>99684.375000</td>\n",
       "      <td>0</td>\n",
       "      <td>0.112928</td>\n",
       "      <td>1969.364777</td>\n",
       "      <td>13.761918</td>\n",
       "      <td>102096.093750</td>\n",
       "      <td>136032.421875</td>\n",
       "      <td>33936.328125</td>\n",
       "      <td>0.249472</td>\n",
       "    </tr>\n",
       "    <tr>\n",
       "      <th>54</th>\n",
       "      <td>119</td>\n",
       "      <td>1790.748163</td>\n",
       "      <td>21.044772</td>\n",
       "      <td>137337.937500</td>\n",
       "      <td>135984.187500</td>\n",
       "      <td>155748.937500</td>\n",
       "      <td>133547.437500</td>\n",
       "      <td>0</td>\n",
       "      <td>0.142547</td>\n",
       "      <td>3033.372628</td>\n",
       "      <td>8.487487</td>\n",
       "      <td>78179.062500</td>\n",
       "      <td>116693.250000</td>\n",
       "      <td>38514.187500</td>\n",
       "      <td>0.330046</td>\n",
       "    </tr>\n",
       "  </tbody>\n",
       "</table>\n",
       "</div>"
      ],
      "text/plain": [
       "   patient_id     lvmc_std   lvmc_snr    lvmc_vol_es    lvmc_vol_ed  \\\n",
       "50        188  1153.427697  51.752073  138101.296538  131003.510365   \n",
       "20        114  1034.658434  17.811026   85760.062500  100583.625000   \n",
       "9        100B  2806.696077  11.717112  122988.187500  164616.000000   \n",
       "12        123   632.677214  35.794174  104794.921875  103072.265625   \n",
       "54        119  1790.748163  21.044772  137337.937500  135984.187500   \n",
       "\n",
       "     lvmc_vol_max   lvmc_vol_min  lvmc_vol_es_equal_max  \\\n",
       "50  138101.296538  131003.510365                      1   \n",
       "20  100583.625000   82308.000000                      0   \n",
       "9   164616.000000  118114.687500                      0   \n",
       "12  112374.609375   99684.375000                      0   \n",
       "54  155748.937500  133547.437500                      0   \n",
       "\n",
       "    lvmc_vol_max_minus_min       lv_std     lv_snr      lv_vol_es  \\\n",
       "50                0.051396  5913.262444  12.932917  148442.441956   \n",
       "20                0.181696  1293.227392  16.560371   92190.375000   \n",
       "9                 0.282484  2768.218732  16.263933  164954.437500   \n",
       "12                0.112928  1969.364777  13.761918  102096.093750   \n",
       "54                0.142547  3033.372628   8.487487   78179.062500   \n",
       "\n",
       "        lv_vol_ed  stroke_volume  ejection_fraction  \n",
       "50  182004.159358   33561.717402           0.184401  \n",
       "20  117302.437500   25112.062500           0.214080  \n",
       "9   215178.562500   50224.125000           0.233407  \n",
       "12  136032.421875   33936.328125           0.249472  \n",
       "54  116693.250000   38514.187500           0.330046  "
      ]
     },
     "execution_count": 18,
     "metadata": {},
     "output_type": "execute_result"
    }
   ],
   "source": [
    "vol_df.sort_values(by=[feature],ascending=True).head()"
   ]
  },
  {
   "cell_type": "code",
   "execution_count": 16,
   "id": "d2b7b816-c6df-4df0-850a-91ab146a4145",
   "metadata": {},
   "outputs": [],
   "source": [
    "vol_df = vol_df.drop(index=50)"
   ]
  },
  {
   "cell_type": "code",
   "execution_count": 20,
   "id": "8d724c40-262c-4fd8-a448-e830bd7272c0",
   "metadata": {},
   "outputs": [
    {
     "data": {
      "text/html": [
       "<div>\n",
       "<style scoped>\n",
       "    .dataframe tbody tr th:only-of-type {\n",
       "        vertical-align: middle;\n",
       "    }\n",
       "\n",
       "    .dataframe tbody tr th {\n",
       "        vertical-align: top;\n",
       "    }\n",
       "\n",
       "    .dataframe thead th {\n",
       "        text-align: right;\n",
       "    }\n",
       "</style>\n",
       "<table border=\"1\" class=\"dataframe\">\n",
       "  <thead>\n",
       "    <tr style=\"text-align: right;\">\n",
       "      <th></th>\n",
       "      <th>patient_id</th>\n",
       "      <th>lvmc_std</th>\n",
       "      <th>lvmc_snr</th>\n",
       "      <th>lvmc_vol_es</th>\n",
       "      <th>lvmc_vol_ed</th>\n",
       "      <th>lvmc_vol_max</th>\n",
       "      <th>lvmc_vol_min</th>\n",
       "      <th>lvmc_vol_es_equal_max</th>\n",
       "      <th>lvmc_vol_max_minus_min</th>\n",
       "      <th>lv_std</th>\n",
       "      <th>lv_snr</th>\n",
       "      <th>lv_vol_es</th>\n",
       "      <th>lv_vol_ed</th>\n",
       "      <th>stroke_volume</th>\n",
       "      <th>ejection_fraction</th>\n",
       "    </tr>\n",
       "  </thead>\n",
       "  <tbody>\n",
       "    <tr>\n",
       "      <th>20</th>\n",
       "      <td>114</td>\n",
       "      <td>1034.658434</td>\n",
       "      <td>17.811026</td>\n",
       "      <td>85760.062500</td>\n",
       "      <td>100583.625000</td>\n",
       "      <td>100583.625000</td>\n",
       "      <td>82308.0000</td>\n",
       "      <td>0</td>\n",
       "      <td>0.181696</td>\n",
       "      <td>1293.227392</td>\n",
       "      <td>16.560371</td>\n",
       "      <td>92190.37500</td>\n",
       "      <td>117302.437500</td>\n",
       "      <td>25112.062500</td>\n",
       "      <td>0.214080</td>\n",
       "    </tr>\n",
       "    <tr>\n",
       "      <th>9</th>\n",
       "      <td>100B</td>\n",
       "      <td>2806.696077</td>\n",
       "      <td>11.717112</td>\n",
       "      <td>122988.187500</td>\n",
       "      <td>164616.000000</td>\n",
       "      <td>164616.000000</td>\n",
       "      <td>118114.6875</td>\n",
       "      <td>0</td>\n",
       "      <td>0.282484</td>\n",
       "      <td>2768.218732</td>\n",
       "      <td>16.263933</td>\n",
       "      <td>164954.43750</td>\n",
       "      <td>215178.562500</td>\n",
       "      <td>50224.125000</td>\n",
       "      <td>0.233407</td>\n",
       "    </tr>\n",
       "    <tr>\n",
       "      <th>12</th>\n",
       "      <td>123</td>\n",
       "      <td>632.677214</td>\n",
       "      <td>35.794174</td>\n",
       "      <td>104794.921875</td>\n",
       "      <td>103072.265625</td>\n",
       "      <td>112374.609375</td>\n",
       "      <td>99684.3750</td>\n",
       "      <td>0</td>\n",
       "      <td>0.112928</td>\n",
       "      <td>1969.364777</td>\n",
       "      <td>13.761918</td>\n",
       "      <td>102096.09375</td>\n",
       "      <td>136032.421875</td>\n",
       "      <td>33936.328125</td>\n",
       "      <td>0.249472</td>\n",
       "    </tr>\n",
       "    <tr>\n",
       "      <th>54</th>\n",
       "      <td>119</td>\n",
       "      <td>1790.748163</td>\n",
       "      <td>21.044772</td>\n",
       "      <td>137337.937500</td>\n",
       "      <td>135984.187500</td>\n",
       "      <td>155748.937500</td>\n",
       "      <td>133547.4375</td>\n",
       "      <td>0</td>\n",
       "      <td>0.142547</td>\n",
       "      <td>3033.372628</td>\n",
       "      <td>8.487487</td>\n",
       "      <td>78179.06250</td>\n",
       "      <td>116693.250000</td>\n",
       "      <td>38514.187500</td>\n",
       "      <td>0.330046</td>\n",
       "    </tr>\n",
       "    <tr>\n",
       "      <th>48</th>\n",
       "      <td>111</td>\n",
       "      <td>1603.417244</td>\n",
       "      <td>15.159323</td>\n",
       "      <td>117975.000000</td>\n",
       "      <td>121875.000000</td>\n",
       "      <td>130275.000000</td>\n",
       "      <td>106575.0000</td>\n",
       "      <td>0</td>\n",
       "      <td>0.181923</td>\n",
       "      <td>3565.792521</td>\n",
       "      <td>6.507337</td>\n",
       "      <td>88800.00000</td>\n",
       "      <td>142875.000000</td>\n",
       "      <td>54075.000000</td>\n",
       "      <td>0.378478</td>\n",
       "    </tr>\n",
       "  </tbody>\n",
       "</table>\n",
       "</div>"
      ],
      "text/plain": [
       "   patient_id     lvmc_std   lvmc_snr    lvmc_vol_es    lvmc_vol_ed  \\\n",
       "20        114  1034.658434  17.811026   85760.062500  100583.625000   \n",
       "9        100B  2806.696077  11.717112  122988.187500  164616.000000   \n",
       "12        123   632.677214  35.794174  104794.921875  103072.265625   \n",
       "54        119  1790.748163  21.044772  137337.937500  135984.187500   \n",
       "48        111  1603.417244  15.159323  117975.000000  121875.000000   \n",
       "\n",
       "     lvmc_vol_max  lvmc_vol_min  lvmc_vol_es_equal_max  \\\n",
       "20  100583.625000    82308.0000                      0   \n",
       "9   164616.000000   118114.6875                      0   \n",
       "12  112374.609375    99684.3750                      0   \n",
       "54  155748.937500   133547.4375                      0   \n",
       "48  130275.000000   106575.0000                      0   \n",
       "\n",
       "    lvmc_vol_max_minus_min       lv_std     lv_snr     lv_vol_es  \\\n",
       "20                0.181696  1293.227392  16.560371   92190.37500   \n",
       "9                 0.282484  2768.218732  16.263933  164954.43750   \n",
       "12                0.112928  1969.364777  13.761918  102096.09375   \n",
       "54                0.142547  3033.372628   8.487487   78179.06250   \n",
       "48                0.181923  3565.792521   6.507337   88800.00000   \n",
       "\n",
       "        lv_vol_ed  stroke_volume  ejection_fraction  \n",
       "20  117302.437500   25112.062500           0.214080  \n",
       "9   215178.562500   50224.125000           0.233407  \n",
       "12  136032.421875   33936.328125           0.249472  \n",
       "54  116693.250000   38514.187500           0.330046  \n",
       "48  142875.000000   54075.000000           0.378478  "
      ]
     },
     "execution_count": 20,
     "metadata": {},
     "output_type": "execute_result"
    }
   ],
   "source": [
    "vol_df[vol_df['ejection_fraction'] < 0.4].sort_values(by=[feature],ascending=True)"
   ]
  },
  {
   "cell_type": "code",
   "execution_count": 17,
   "id": "42fadd96-7643-4a9d-a53c-c6c8bc058581",
   "metadata": {},
   "outputs": [
    {
     "data": {
      "text/plain": [
       "array(['100B', '123', '114', '111', '119'], dtype=object)"
      ]
     },
     "execution_count": 17,
     "metadata": {},
     "output_type": "execute_result"
    }
   ],
   "source": [
    "low_lv_ef = vol_df[vol_df['ejection_fraction'] < 0.4].patient_id.values\n",
    "low_lv_ef"
   ]
  },
  {
   "cell_type": "code",
   "execution_count": 18,
   "id": "2115f6c5-9ca3-48ea-9f5c-02292c2e94b7",
   "metadata": {},
   "outputs": [
    {
     "data": {
      "text/plain": [
       "(51, 15)"
      ]
     },
     "execution_count": 18,
     "metadata": {},
     "output_type": "execute_result"
    }
   ],
   "source": [
    "vol_df = vol_df[~vol_df['patient_id'].isin(low_lv_ef)]\n",
    "vol_df.shape"
   ]
  },
  {
   "cell_type": "code",
   "execution_count": 19,
   "id": "4a3e8c53-790f-4ca7-a8ec-692f8d092df4",
   "metadata": {},
   "outputs": [],
   "source": [
    "cpet_file = path + '/ExerciseMRIEvaluatio_DATA_LABELS_2021-03-16_1304.xlsx'\n",
    "cpet_data = pd.read_excel(cpet_file)"
   ]
  },
  {
   "cell_type": "code",
   "execution_count": 20,
   "id": "d1248e9c-8a8c-4c87-b1ae-186c8a0b2ae3",
   "metadata": {},
   "outputs": [
    {
     "data": {
      "text/plain": [
       "(67, 662)"
      ]
     },
     "execution_count": 20,
     "metadata": {},
     "output_type": "execute_result"
    }
   ],
   "source": [
    "cpet_data.dropna(subset=['VO2 (MAX):'],inplace=True)\n",
    "cpet_data.dropna(subset=['VO2 %Predicted '],inplace=True)\n",
    "cpet_data.shape"
   ]
  },
  {
   "cell_type": "code",
   "execution_count": 21,
   "id": "790ee647-895f-4328-8ad4-34d64cd9a62f",
   "metadata": {},
   "outputs": [],
   "source": [
    "cpet_data.loc[cpet_data['VO2 %Predicted '] < 80., 'dyspnea'] = int(1)\n",
    "cpet_data.loc[cpet_data['VO2 %Predicted '] >= 80., 'dyspnea'] = int(0)"
   ]
  },
  {
   "cell_type": "code",
   "execution_count": 22,
   "id": "b997bc8b-7f3f-41c6-acac-9948e7e51c63",
   "metadata": {},
   "outputs": [
    {
     "data": {
      "text/plain": [
       "Counter({1.0: 43, 0.0: 24})"
      ]
     },
     "execution_count": 22,
     "metadata": {},
     "output_type": "execute_result"
    }
   ],
   "source": [
    "Counter(cpet_data['dyspnea'])"
   ]
  },
  {
   "cell_type": "code",
   "execution_count": null,
   "id": "f42e2076-3f11-4977-a142-a5af1fc85211",
   "metadata": {
    "scrolled": true,
    "tags": []
   },
   "outputs": [],
   "source": [
    "cpet_data.columns.values"
   ]
  },
  {
   "cell_type": "code",
   "execution_count": 27,
   "id": "7d50276b-a681-4f5e-9daf-d369ba64e6cf",
   "metadata": {},
   "outputs": [
    {
     "data": {
      "text/html": [
       "<div>\n",
       "<style scoped>\n",
       "    .dataframe tbody tr th:only-of-type {\n",
       "        vertical-align: middle;\n",
       "    }\n",
       "\n",
       "    .dataframe tbody tr th {\n",
       "        vertical-align: top;\n",
       "    }\n",
       "\n",
       "    .dataframe thead th {\n",
       "        text-align: right;\n",
       "    }\n",
       "</style>\n",
       "<table border=\"1\" class=\"dataframe\">\n",
       "  <thead>\n",
       "    <tr style=\"text-align: right;\">\n",
       "      <th></th>\n",
       "      <th>Record ID</th>\n",
       "      <th>PetCO2</th>\n",
       "      <th>PetCO2.2</th>\n",
       "      <th>VO2 (MAX):</th>\n",
       "      <th>Weight (kg):</th>\n",
       "      <th>VO2/kg (MAX):</th>\n",
       "    </tr>\n",
       "  </thead>\n",
       "  <tbody>\n",
       "    <tr>\n",
       "      <th>0</th>\n",
       "      <td>100</td>\n",
       "      <td>17.0</td>\n",
       "      <td>26.0</td>\n",
       "      <td>2.05</td>\n",
       "      <td>77.7</td>\n",
       "      <td>26.4</td>\n",
       "    </tr>\n",
       "    <tr>\n",
       "      <th>1</th>\n",
       "      <td>101</td>\n",
       "      <td>19.0</td>\n",
       "      <td>25.0</td>\n",
       "      <td>1.52</td>\n",
       "      <td>75.3</td>\n",
       "      <td>20.1</td>\n",
       "    </tr>\n",
       "    <tr>\n",
       "      <th>2</th>\n",
       "      <td>103</td>\n",
       "      <td>22.0</td>\n",
       "      <td>39.0</td>\n",
       "      <td>2.36</td>\n",
       "      <td>142.7</td>\n",
       "      <td>16.6</td>\n",
       "    </tr>\n",
       "    <tr>\n",
       "      <th>3</th>\n",
       "      <td>105</td>\n",
       "      <td>17.0</td>\n",
       "      <td>30.0</td>\n",
       "      <td>2.53</td>\n",
       "      <td>116.6</td>\n",
       "      <td>21.7</td>\n",
       "    </tr>\n",
       "    <tr>\n",
       "      <th>4</th>\n",
       "      <td>109</td>\n",
       "      <td>24.0</td>\n",
       "      <td>27.0</td>\n",
       "      <td>1.23</td>\n",
       "      <td>137.7</td>\n",
       "      <td>8.9</td>\n",
       "    </tr>\n",
       "    <tr>\n",
       "      <th>...</th>\n",
       "      <td>...</td>\n",
       "      <td>...</td>\n",
       "      <td>...</td>\n",
       "      <td>...</td>\n",
       "      <td>...</td>\n",
       "      <td>...</td>\n",
       "    </tr>\n",
       "    <tr>\n",
       "      <th>73</th>\n",
       "      <td>197</td>\n",
       "      <td>32.0</td>\n",
       "      <td>35.0</td>\n",
       "      <td>1.83</td>\n",
       "      <td>64.9</td>\n",
       "      <td>28.2</td>\n",
       "    </tr>\n",
       "    <tr>\n",
       "      <th>74</th>\n",
       "      <td>198</td>\n",
       "      <td>34.0</td>\n",
       "      <td>34.0</td>\n",
       "      <td>1.56</td>\n",
       "      <td>72.7</td>\n",
       "      <td>21.5</td>\n",
       "    </tr>\n",
       "    <tr>\n",
       "      <th>75</th>\n",
       "      <td>199</td>\n",
       "      <td>32.0</td>\n",
       "      <td>43.0</td>\n",
       "      <td>1.75</td>\n",
       "      <td>76.9</td>\n",
       "      <td>22.7</td>\n",
       "    </tr>\n",
       "    <tr>\n",
       "      <th>76</th>\n",
       "      <td>200</td>\n",
       "      <td>29.0</td>\n",
       "      <td>39.0</td>\n",
       "      <td>1.63</td>\n",
       "      <td>78.4</td>\n",
       "      <td>20.8</td>\n",
       "    </tr>\n",
       "    <tr>\n",
       "      <th>77</th>\n",
       "      <td>201</td>\n",
       "      <td>29.0</td>\n",
       "      <td>33.0</td>\n",
       "      <td>1.92</td>\n",
       "      <td>92.2</td>\n",
       "      <td>20.8</td>\n",
       "    </tr>\n",
       "  </tbody>\n",
       "</table>\n",
       "<p>67 rows × 6 columns</p>\n",
       "</div>"
      ],
      "text/plain": [
       "   Record ID  PetCO2  PetCO2.2  VO2 (MAX):  Weight (kg):  VO2/kg (MAX):\n",
       "0        100    17.0      26.0        2.05          77.7           26.4\n",
       "1        101    19.0      25.0        1.52          75.3           20.1\n",
       "2        103    22.0      39.0        2.36         142.7           16.6\n",
       "3        105    17.0      30.0        2.53         116.6           21.7\n",
       "4        109    24.0      27.0        1.23         137.7            8.9\n",
       "..       ...     ...       ...         ...           ...            ...\n",
       "73       197    32.0      35.0        1.83          64.9           28.2\n",
       "74       198    34.0      34.0        1.56          72.7           21.5\n",
       "75       199    32.0      43.0        1.75          76.9           22.7\n",
       "76       200    29.0      39.0        1.63          78.4           20.8\n",
       "77       201    29.0      33.0        1.92          92.2           20.8\n",
       "\n",
       "[67 rows x 6 columns]"
      ]
     },
     "execution_count": 27,
     "metadata": {},
     "output_type": "execute_result"
    }
   ],
   "source": [
    "cpet_data[['Record ID', 'PetCO2', 'PetCO2.2', 'VO2 (MAX):', 'Weight (kg):', 'VO2/kg (MAX):']]"
   ]
  },
  {
   "cell_type": "markdown",
   "id": "3e9a10c7-b8c3-4bdc-81d0-14e26a8eafb4",
   "metadata": {},
   "source": [
    "#### U Test with volumetric features"
   ]
  },
  {
   "cell_type": "code",
   "execution_count": 23,
   "id": "4cca75c5-1495-4127-961a-6a512a167ff4",
   "metadata": {},
   "outputs": [],
   "source": [
    "def u_test_func(df, numerical_columns):\n",
    "    '''\n",
    "    Performs Mann Whitney u test\n",
    "    '''\n",
    "    num_rows = df.shape[0]\n",
    "    u_test_features = []\n",
    "\n",
    "    for feature in numerical_columns:\n",
    "        dyspnea_arr = []\n",
    "        normal_arr = []\n",
    "\n",
    "        for n in range(num_rows):\n",
    "            arr = df.iloc[n][feature]\n",
    "            pid = df.iloc[n]['patient_id']\n",
    "            num_pid = int(pid[0:3])\n",
    "            cpet_record = cpet_data[cpet_data['Record ID'].values == num_pid]\n",
    "            condition = cpet_record['dyspnea']\n",
    "            if condition.values[0] == 1.:\n",
    "                dyspnea_arr.append(arr)\n",
    "            else:\n",
    "                normal_arr.append(arr)\n",
    "        res = scipy.stats.mannwhitneyu(dyspnea_arr,normal_arr)\n",
    "        u_test_features.append((feature,res.pvalue))    \n",
    "    return u_test_features, dyspnea_arr, normal_arr"
   ]
  },
  {
   "cell_type": "code",
   "execution_count": 40,
   "id": "18e1d756-8875-4a1a-81ca-314f0298fa95",
   "metadata": {},
   "outputs": [],
   "source": [
    "u_test_vol_features, _, _ = u_test_func(vol_df, numerical_columns)"
   ]
  },
  {
   "cell_type": "code",
   "execution_count": 41,
   "id": "3a5fa0d4-627b-461a-8d04-70f9857fdefb",
   "metadata": {},
   "outputs": [
    {
     "name": "stdout",
     "output_type": "stream",
     "text": [
      "significant features: (feature name, p-value)\n",
      " [('lvmc_vol_ed', 0.0879), ('lv_std', 0.0499)]\n"
     ]
    }
   ],
   "source": [
    "significant_feat = [ent for ent in u_test_vol_features if ent[1] < 0.09]\n",
    "print('significant features: (feature name, p-value)\\n', [(ent[0], round(ent[1],4)) for ent in significant_feat])"
   ]
  },
  {
   "cell_type": "code",
   "execution_count": 42,
   "id": "5bf0f5a2-17e2-4dfc-afd6-5b4f2c94ecca",
   "metadata": {},
   "outputs": [
    {
     "data": {
      "text/plain": [
       "['lvmc_vol_ed', 'lv_std']"
      ]
     },
     "execution_count": 42,
     "metadata": {},
     "output_type": "execute_result"
    }
   ],
   "source": [
    "important_features = []\n",
    "important_features.extend([feat[0] for feat in significant_feat])\n",
    "important_features"
   ]
  },
  {
   "cell_type": "code",
   "execution_count": 43,
   "id": "c5deb3b1-75fc-4ac5-a753-a59a76a6de4c",
   "metadata": {},
   "outputs": [],
   "source": [
    "def box_plot_func(title1, title2, df, feature1, feature2, y1, y2):\n",
    "    fig = Figure(figsize=(15,5))\n",
    "    ax = fig.add_subplot(1,2,1)\n",
    "    ax.set_title(title1,fontsize = 14)\n",
    "    ax.set_xlabel('Measured PkVO$_{2}$ as percentage of predicted PkVO$_{2}$',fontsize=14)\n",
    "    u_test_vals, dyspnea_arr, normal_arr = u_test_func(df, [feature1])\n",
    "    ax.boxplot([dyspnea_arr, normal_arr])\n",
    "    ax.set_xticklabels(labels=['Below 80%','Above 80%'],fontsize=14)\n",
    "    ax.text(1.2,y1,f'p = {round(u_test_vals[0][1],2)}',fontsize=14)\n",
    "\n",
    "    ax = fig.add_subplot(1,2,2)\n",
    "    ax.set_title(title2,fontsize = 14)\n",
    "    ax.set_xlabel('Measured PkVO$_{2}$ as percentage of predicted PkVO$_{2}$',fontsize=14)\n",
    "    u_test_vals, dyspnea_arr, normal_arr = u_test_func(df, [feature2])\n",
    "    ax.boxplot([dyspnea_arr, normal_arr])\n",
    "    ax.set_xticklabels(labels=['Below 80%','Above 80%'],fontsize=14)\n",
    "    ax.text(1.2,y2,f'p = {round(u_test_vals[0][1],2)}',fontsize=14)\n",
    "\n",
    "    return fig"
   ]
  },
  {
   "cell_type": "code",
   "execution_count": 44,
   "id": "98b4af01-81e8-429d-834f-f6194fea6147",
   "metadata": {},
   "outputs": [
    {
     "data": {
      "image/png": "[encoded data removed]",
      "text/plain": [
       "<Figure size 1080x360 with 2 Axes>"
      ]
     },
     "execution_count": 44,
     "metadata": {},
     "output_type": "execute_result"
    }
   ],
   "source": [
    "box_plot_func('LV volume, standard dev', 'LVMC volume, ED',  vol_df, 'lv_std', 'lvmc_vol_ed', 14000, 180000)"
   ]
  },
  {
   "cell_type": "markdown",
   "id": "f23197c2-f8c7-47a1-b2e2-f5ec8b82a792",
   "metadata": {},
   "source": [
    "#### Correlation analysis"
   ]
  },
  {
   "cell_type": "code",
   "execution_count": 45,
   "id": "4135b5a0-4b72-4179-8cb7-0cb7821fb96f",
   "metadata": {},
   "outputs": [],
   "source": [
    "pids = vol_df.patient_id.values\n",
    "pkvo2_vals = []\n",
    "petco2_vals = []\n",
    "for pid in pids:\n",
    "    num_pid = int(pid[0:3])\n",
    "    cpet_record = cpet_data[cpet_data['Record ID'].values == num_pid]\n",
    "    pkvo2_vals.append(cpet_record['VO2 (MAX):'].values[0])\n",
    "    petco2_vals.append(cpet_record['PetCO2.2'].values[0])    "
   ]
  },
  {
   "cell_type": "code",
   "execution_count": 46,
   "id": "abaa56e1-c414-469e-b9ad-c23d779334ae",
   "metadata": {},
   "outputs": [],
   "source": [
    "vol_df['pkvo2'] = pkvo2_vals\n",
    "vol_df['petco2'] = petco2_vals"
   ]
  },
  {
   "cell_type": "code",
   "execution_count": 47,
   "id": "94a2c035-a1fb-4b4d-b99f-8fd9f8473904",
   "metadata": {},
   "outputs": [
    {
     "name": "stdout",
     "output_type": "stream",
     "text": [
      "significant features: \n",
      "(feature name, R^2, p-value)\n",
      "\n",
      "('lvmc_vol_min', 0.279, '6.75e-05')\n",
      "('lv_vol_es', 0.263, '1.20e-04')\n",
      "('lvmc_vol_ed', 0.255, '1.57e-04')\n",
      "('lv_vol_ed', 0.234, '3.23e-04')\n",
      "('lvmc_vol_es', 0.224, '4.60e-04')\n",
      "('lvmc_vol_max', 0.211, '6.93e-04')\n",
      "('lv_snr', 0.131, '9.13e-03')\n",
      "('ejection_fraction', 0.107, '1.93e-02')\n"
     ]
    }
   ],
   "source": [
    "response = pkvo2_vals\n",
    "predictors = numerical_columns\n",
    "pearson_r_vals = []\n",
    "for predictor in predictors:\n",
    "    pearson_val = pearsonr(vol_df[predictor],response)\n",
    "    pearson_r_vals.append((predictor, round(pearson_val[0]**2,3), \"{:.2e}\".format(pearson_val[1])))\n",
    "print('significant features: \\n(feature name, R^2, p-value)\\n')\n",
    "[print(ent) for ent in sorted(pearson_r_vals, key=lambda x: x[1], reverse=True) if ent[1] > 0.1];"
   ]
  },
  {
   "cell_type": "code",
   "execution_count": 48,
   "id": "3d452d2b-c537-4278-815c-e9603f611d72",
   "metadata": {},
   "outputs": [
    {
     "data": {
      "text/plain": [
       "['lvmc_vol_ed', 'lv_std', 'lvmc_vol_min']"
      ]
     },
     "execution_count": 48,
     "metadata": {},
     "output_type": "execute_result"
    }
   ],
   "source": [
    "important_features.append('lvmc_vol_min')\n",
    "important_features"
   ]
  },
  {
   "cell_type": "code",
   "execution_count": 49,
   "id": "24cbefc1-61d8-4b08-be4e-e70a8166ed50",
   "metadata": {},
   "outputs": [
    {
     "name": "stdout",
     "output_type": "stream",
     "text": [
      "patient ids with missing Pet CO2 \n",
      " ['135']\n"
     ]
    }
   ],
   "source": [
    "null_petco2_pids = vol_df[vol_df['petco2'].isna()].patient_id.values\n",
    "print('patient ids with missing Pet CO2 \\n', null_petco2_pids)"
   ]
  },
  {
   "cell_type": "code",
   "execution_count": 50,
   "id": "02a9ad6e-4d2b-4b17-86b8-089b6ca4a320",
   "metadata": {},
   "outputs": [
    {
     "name": "stdout",
     "output_type": "stream",
     "text": [
      "significant features: \n",
      "(feature name, R^2, p-value)\n",
      "\n",
      "('lv_vol_ed', 0.321, 1.8e-05)\n",
      "('stroke_volume', 0.238, 0.000328)\n",
      "('lv_vol_es', 0.184, 0.001898)\n",
      "('lvmc_vol_max', 0.151, 0.005288)\n",
      "('lvmc_vol_es', 0.146, 0.006191)\n",
      "('lvmc_vol_min', 0.141, 0.007303)\n",
      "('lvmc_vol_ed', 0.13, 0.010188)\n"
     ]
    }
   ],
   "source": [
    "response = vol_df[~vol_df['patient_id'].isin(null_petco2_pids)]['petco2']\n",
    "predictors = numerical_columns\n",
    "pearson_r_vals = []\n",
    "for predictor in predictors:\n",
    "    pearson_val = pearsonr(vol_df[~vol_df['patient_id'].isin(null_petco2_pids)][predictor],response)\n",
    "    pearson_r_vals.append((predictor, round(pearson_val[0]**2,3), round(pearson_val[1],6)))\n",
    "print('significant features: \\n(feature name, R^2, p-value)\\n')\n",
    "[print(ent) for ent in sorted(pearson_r_vals, key=lambda x: x[1], reverse=True) if ent[1] > 0.1];"
   ]
  },
  {
   "cell_type": "code",
   "execution_count": 51,
   "id": "cfe9da74-86a3-452e-ab57-3bfbea10b074",
   "metadata": {},
   "outputs": [],
   "source": [
    "important_features.extend(['lv_vol_ed', 'stroke_volume', 'lvmc_vol_max'])"
   ]
  },
  {
   "cell_type": "markdown",
   "id": "4e0f5f7b-1762-4088-95ad-9b99ed82e0df",
   "metadata": {},
   "source": [
    "### Pyradiomics 3d features"
   ]
  },
  {
   "cell_type": "code",
   "execution_count": 52,
   "id": "ef097128-d3f7-4c19-9ac7-87a91f543d8d",
   "metadata": {},
   "outputs": [
    {
     "data": {
      "text/html": [
       "<div>\n",
       "<style scoped>\n",
       "    .dataframe tbody tr th:only-of-type {\n",
       "        vertical-align: middle;\n",
       "    }\n",
       "\n",
       "    .dataframe tbody tr th {\n",
       "        vertical-align: top;\n",
       "    }\n",
       "\n",
       "    .dataframe thead th {\n",
       "        text-align: right;\n",
       "    }\n",
       "</style>\n",
       "<table border=\"1\" class=\"dataframe\">\n",
       "  <thead>\n",
       "    <tr style=\"text-align: right;\">\n",
       "      <th></th>\n",
       "      <th>min_original_shape_Elongation</th>\n",
       "      <th>min_original_shape_Flatness</th>\n",
       "      <th>min_original_shape_LeastAxisLength</th>\n",
       "      <th>min_original_shape_MajorAxisLength</th>\n",
       "      <th>min_original_shape_Maximum2DDiameterColumn</th>\n",
       "      <th>min_original_shape_Maximum2DDiameterRow</th>\n",
       "      <th>min_original_shape_Maximum2DDiameterSlice</th>\n",
       "      <th>min_original_shape_Maximum3DDiameter</th>\n",
       "      <th>min_original_shape_MeshVolume</th>\n",
       "      <th>min_original_shape_MinorAxisLength</th>\n",
       "      <th>...</th>\n",
       "      <th>ed_val_original_shape_Maximum2DDiameterRow</th>\n",
       "      <th>ed_val_original_shape_Maximum2DDiameterSlice</th>\n",
       "      <th>ed_val_original_shape_Maximum3DDiameter</th>\n",
       "      <th>ed_val_original_shape_MeshVolume</th>\n",
       "      <th>ed_val_original_shape_MinorAxisLength</th>\n",
       "      <th>ed_val_original_shape_Sphericity</th>\n",
       "      <th>ed_val_original_shape_SurfaceArea</th>\n",
       "      <th>ed_val_original_shape_SurfaceVolumeRatio</th>\n",
       "      <th>ed_val_original_shape_VoxelVolume</th>\n",
       "      <th>patient_id</th>\n",
       "    </tr>\n",
       "  </thead>\n",
       "  <tbody>\n",
       "    <tr>\n",
       "      <th>52</th>\n",
       "      <td>0.506334</td>\n",
       "      <td>0.495642</td>\n",
       "      <td>35.047752</td>\n",
       "      <td>63.474620</td>\n",
       "      <td>68.597103</td>\n",
       "      <td>69.779228</td>\n",
       "      <td>42.085107</td>\n",
       "      <td>71.850213</td>\n",
       "      <td>56400.609375</td>\n",
       "      <td>36.507579</td>\n",
       "      <td>...</td>\n",
       "      <td>95.353372</td>\n",
       "      <td>62.476496</td>\n",
       "      <td>97.227906</td>\n",
       "      <td>155348.453125</td>\n",
       "      <td>51.860836</td>\n",
       "      <td>0.759987</td>\n",
       "      <td>18388.619097</td>\n",
       "      <td>0.118370</td>\n",
       "      <td>156831.9375</td>\n",
       "      <td>181</td>\n",
       "    </tr>\n",
       "    <tr>\n",
       "      <th>53</th>\n",
       "      <td>0.433687</td>\n",
       "      <td>0.405421</td>\n",
       "      <td>36.375446</td>\n",
       "      <td>73.163911</td>\n",
       "      <td>83.735073</td>\n",
       "      <td>81.412530</td>\n",
       "      <td>48.904243</td>\n",
       "      <td>88.452318</td>\n",
       "      <td>80641.195312</td>\n",
       "      <td>39.807814</td>\n",
       "      <td>...</td>\n",
       "      <td>98.924529</td>\n",
       "      <td>65.689254</td>\n",
       "      <td>103.712343</td>\n",
       "      <td>159982.226562</td>\n",
       "      <td>57.096478</td>\n",
       "      <td>0.781472</td>\n",
       "      <td>18236.940063</td>\n",
       "      <td>0.113994</td>\n",
       "      <td>161434.6875</td>\n",
       "      <td>121</td>\n",
       "    </tr>\n",
       "    <tr>\n",
       "      <th>54</th>\n",
       "      <td>0.442772</td>\n",
       "      <td>0.411883</td>\n",
       "      <td>39.077575</td>\n",
       "      <td>75.216261</td>\n",
       "      <td>82.547808</td>\n",
       "      <td>86.256884</td>\n",
       "      <td>51.379106</td>\n",
       "      <td>86.778454</td>\n",
       "      <td>76836.593750</td>\n",
       "      <td>42.008184</td>\n",
       "      <td>...</td>\n",
       "      <td>94.252652</td>\n",
       "      <td>59.375000</td>\n",
       "      <td>95.707644</td>\n",
       "      <td>115302.835938</td>\n",
       "      <td>49.954742</td>\n",
       "      <td>0.753739</td>\n",
       "      <td>15199.286437</td>\n",
       "      <td>0.131821</td>\n",
       "      <td>116693.2500</td>\n",
       "      <td>119</td>\n",
       "    </tr>\n",
       "    <tr>\n",
       "      <th>55</th>\n",
       "      <td>0.534887</td>\n",
       "      <td>0.501297</td>\n",
       "      <td>38.785281</td>\n",
       "      <td>71.689403</td>\n",
       "      <td>78.340702</td>\n",
       "      <td>80.331442</td>\n",
       "      <td>51.269204</td>\n",
       "      <td>81.585557</td>\n",
       "      <td>76698.398438</td>\n",
       "      <td>41.384085</td>\n",
       "      <td>...</td>\n",
       "      <td>95.353372</td>\n",
       "      <td>68.009650</td>\n",
       "      <td>96.412282</td>\n",
       "      <td>174357.359375</td>\n",
       "      <td>56.197915</td>\n",
       "      <td>0.750116</td>\n",
       "      <td>20120.974777</td>\n",
       "      <td>0.115401</td>\n",
       "      <td>175919.8125</td>\n",
       "      <td>126</td>\n",
       "    </tr>\n",
       "    <tr>\n",
       "      <th>56</th>\n",
       "      <td>0.352793</td>\n",
       "      <td>0.329828</td>\n",
       "      <td>26.018235</td>\n",
       "      <td>77.215350</td>\n",
       "      <td>72.351680</td>\n",
       "      <td>81.412530</td>\n",
       "      <td>36.252802</td>\n",
       "      <td>81.723715</td>\n",
       "      <td>26059.687500</td>\n",
       "      <td>27.829834</td>\n",
       "      <td>...</td>\n",
       "      <td>98.894199</td>\n",
       "      <td>58.223841</td>\n",
       "      <td>101.761517</td>\n",
       "      <td>107138.031250</td>\n",
       "      <td>47.723800</td>\n",
       "      <td>0.663028</td>\n",
       "      <td>16453.116964</td>\n",
       "      <td>0.153569</td>\n",
       "      <td>108773.8125</td>\n",
       "      <td>113B</td>\n",
       "    </tr>\n",
       "  </tbody>\n",
       "</table>\n",
       "<p>5 rows × 113 columns</p>\n",
       "</div>"
      ],
      "text/plain": [
       "    min_original_shape_Elongation  min_original_shape_Flatness  \\\n",
       "52                       0.506334                     0.495642   \n",
       "53                       0.433687                     0.405421   \n",
       "54                       0.442772                     0.411883   \n",
       "55                       0.534887                     0.501297   \n",
       "56                       0.352793                     0.329828   \n",
       "\n",
       "    min_original_shape_LeastAxisLength  min_original_shape_MajorAxisLength  \\\n",
       "52                           35.047752                           63.474620   \n",
       "53                           36.375446                           73.163911   \n",
       "54                           39.077575                           75.216261   \n",
       "55                           38.785281                           71.689403   \n",
       "56                           26.018235                           77.215350   \n",
       "\n",
       "    min_original_shape_Maximum2DDiameterColumn  \\\n",
       "52                                   68.597103   \n",
       "53                                   83.735073   \n",
       "54                                   82.547808   \n",
       "55                                   78.340702   \n",
       "56                                   72.351680   \n",
       "\n",
       "    min_original_shape_Maximum2DDiameterRow  \\\n",
       "52                                69.779228   \n",
       "53                                81.412530   \n",
       "54                                86.256884   \n",
       "55                                80.331442   \n",
       "56                                81.412530   \n",
       "\n",
       "    min_original_shape_Maximum2DDiameterSlice  \\\n",
       "52                                  42.085107   \n",
       "53                                  48.904243   \n",
       "54                                  51.379106   \n",
       "55                                  51.269204   \n",
       "56                                  36.252802   \n",
       "\n",
       "    min_original_shape_Maximum3DDiameter  min_original_shape_MeshVolume  \\\n",
       "52                             71.850213                   56400.609375   \n",
       "53                             88.452318                   80641.195312   \n",
       "54                             86.778454                   76836.593750   \n",
       "55                             81.585557                   76698.398438   \n",
       "56                             81.723715                   26059.687500   \n",
       "\n",
       "    min_original_shape_MinorAxisLength  ...  \\\n",
       "52                           36.507579  ...   \n",
       "53                           39.807814  ...   \n",
       "54                           42.008184  ...   \n",
       "55                           41.384085  ...   \n",
       "56                           27.829834  ...   \n",
       "\n",
       "    ed_val_original_shape_Maximum2DDiameterRow  \\\n",
       "52                                   95.353372   \n",
       "53                                   98.924529   \n",
       "54                                   94.252652   \n",
       "55                                   95.353372   \n",
       "56                                   98.894199   \n",
       "\n",
       "    ed_val_original_shape_Maximum2DDiameterSlice  \\\n",
       "52                                     62.476496   \n",
       "53                                     65.689254   \n",
       "54                                     59.375000   \n",
       "55                                     68.009650   \n",
       "56                                     58.223841   \n",
       "\n",
       "    ed_val_original_shape_Maximum3DDiameter  ed_val_original_shape_MeshVolume  \\\n",
       "52                                97.227906                     155348.453125   \n",
       "53                               103.712343                     159982.226562   \n",
       "54                                95.707644                     115302.835938   \n",
       "55                                96.412282                     174357.359375   \n",
       "56                               101.761517                     107138.031250   \n",
       "\n",
       "    ed_val_original_shape_MinorAxisLength  ed_val_original_shape_Sphericity  \\\n",
       "52                              51.860836                          0.759987   \n",
       "53                              57.096478                          0.781472   \n",
       "54                              49.954742                          0.753739   \n",
       "55                              56.197915                          0.750116   \n",
       "56                              47.723800                          0.663028   \n",
       "\n",
       "    ed_val_original_shape_SurfaceArea  \\\n",
       "52                       18388.619097   \n",
       "53                       18236.940063   \n",
       "54                       15199.286437   \n",
       "55                       20120.974777   \n",
       "56                       16453.116964   \n",
       "\n",
       "    ed_val_original_shape_SurfaceVolumeRatio  \\\n",
       "52                                  0.118370   \n",
       "53                                  0.113994   \n",
       "54                                  0.131821   \n",
       "55                                  0.115401   \n",
       "56                                  0.153569   \n",
       "\n",
       "    ed_val_original_shape_VoxelVolume  patient_id  \n",
       "52                        156831.9375         181  \n",
       "53                        161434.6875         121  \n",
       "54                        116693.2500         119  \n",
       "55                        175919.8125         126  \n",
       "56                        108773.8125        113B  \n",
       "\n",
       "[5 rows x 113 columns]"
      ]
     },
     "execution_count": 52,
     "metadata": {},
     "output_type": "execute_result"
    }
   ],
   "source": [
    "pyrads_3d_df = pd.read_csv('pyrads_3d.csv')\n",
    "pyrads_3d_df.drop(columns='Unnamed: 0',inplace=True);\n",
    "pyrads_3d_df.tail()"
   ]
  },
  {
   "cell_type": "code",
   "execution_count": 65,
   "id": "5ca0ee2a-1429-4ec7-ae14-66fd905d5e33",
   "metadata": {},
   "outputs": [
    {
     "data": {
      "text/html": [
       "<div>\n",
       "<style scoped>\n",
       "    .dataframe tbody tr th:only-of-type {\n",
       "        vertical-align: middle;\n",
       "    }\n",
       "\n",
       "    .dataframe tbody tr th {\n",
       "        vertical-align: top;\n",
       "    }\n",
       "\n",
       "    .dataframe thead th {\n",
       "        text-align: right;\n",
       "    }\n",
       "</style>\n",
       "<table border=\"1\" class=\"dataframe\">\n",
       "  <thead>\n",
       "    <tr style=\"text-align: right;\">\n",
       "      <th></th>\n",
       "      <th>count</th>\n",
       "      <th>mean</th>\n",
       "      <th>std</th>\n",
       "      <th>min</th>\n",
       "      <th>25%</th>\n",
       "      <th>50%</th>\n",
       "      <th>75%</th>\n",
       "      <th>max</th>\n",
       "    </tr>\n",
       "  </thead>\n",
       "  <tbody>\n",
       "    <tr>\n",
       "      <th>min_original_shape_Elongation</th>\n",
       "      <td>57.0</td>\n",
       "      <td>0.484974</td>\n",
       "      <td>0.063580</td>\n",
       "      <td>0.337322</td>\n",
       "      <td>0.449481</td>\n",
       "      <td>0.493708</td>\n",
       "      <td>0.534887</td>\n",
       "      <td>0.599829</td>\n",
       "    </tr>\n",
       "    <tr>\n",
       "      <th>min_original_shape_Flatness</th>\n",
       "      <td>57.0</td>\n",
       "      <td>0.433950</td>\n",
       "      <td>0.056031</td>\n",
       "      <td>0.315769</td>\n",
       "      <td>0.399846</td>\n",
       "      <td>0.440029</td>\n",
       "      <td>0.485829</td>\n",
       "      <td>0.533986</td>\n",
       "    </tr>\n",
       "    <tr>\n",
       "      <th>min_original_shape_LeastAxisLength</th>\n",
       "      <td>57.0</td>\n",
       "      <td>34.939201</td>\n",
       "      <td>5.283151</td>\n",
       "      <td>23.784889</td>\n",
       "      <td>31.718557</td>\n",
       "      <td>34.641259</td>\n",
       "      <td>38.210702</td>\n",
       "      <td>49.817307</td>\n",
       "    </tr>\n",
       "    <tr>\n",
       "      <th>min_original_shape_MajorAxisLength</th>\n",
       "      <td>57.0</td>\n",
       "      <td>74.823154</td>\n",
       "      <td>10.610705</td>\n",
       "      <td>51.937018</td>\n",
       "      <td>66.514456</td>\n",
       "      <td>73.629509</td>\n",
       "      <td>82.730094</td>\n",
       "      <td>101.394964</td>\n",
       "    </tr>\n",
       "    <tr>\n",
       "      <th>min_original_shape_Maximum2DDiameterColumn</th>\n",
       "      <td>57.0</td>\n",
       "      <td>81.483519</td>\n",
       "      <td>10.445174</td>\n",
       "      <td>62.936476</td>\n",
       "      <td>75.815978</td>\n",
       "      <td>79.306762</td>\n",
       "      <td>88.131216</td>\n",
       "      <td>110.193083</td>\n",
       "    </tr>\n",
       "    <tr>\n",
       "      <th>...</th>\n",
       "      <td>...</td>\n",
       "      <td>...</td>\n",
       "      <td>...</td>\n",
       "      <td>...</td>\n",
       "      <td>...</td>\n",
       "      <td>...</td>\n",
       "      <td>...</td>\n",
       "      <td>...</td>\n",
       "    </tr>\n",
       "    <tr>\n",
       "      <th>ed_val_original_shape_MinorAxisLength</th>\n",
       "      <td>57.0</td>\n",
       "      <td>52.770056</td>\n",
       "      <td>4.563227</td>\n",
       "      <td>42.437262</td>\n",
       "      <td>49.954742</td>\n",
       "      <td>52.213807</td>\n",
       "      <td>55.639177</td>\n",
       "      <td>63.041983</td>\n",
       "    </tr>\n",
       "    <tr>\n",
       "      <th>ed_val_original_shape_Sphericity</th>\n",
       "      <td>57.0</td>\n",
       "      <td>0.743139</td>\n",
       "      <td>0.042845</td>\n",
       "      <td>0.624884</td>\n",
       "      <td>0.723229</td>\n",
       "      <td>0.753739</td>\n",
       "      <td>0.773154</td>\n",
       "      <td>0.806397</td>\n",
       "    </tr>\n",
       "    <tr>\n",
       "      <th>ed_val_original_shape_SurfaceArea</th>\n",
       "      <td>57.0</td>\n",
       "      <td>18330.127847</td>\n",
       "      <td>3231.018300</td>\n",
       "      <td>12633.063217</td>\n",
       "      <td>16270.985150</td>\n",
       "      <td>17507.641426</td>\n",
       "      <td>20510.673146</td>\n",
       "      <td>27561.485427</td>\n",
       "    </tr>\n",
       "    <tr>\n",
       "      <th>ed_val_original_shape_SurfaceVolumeRatio</th>\n",
       "      <td>57.0</td>\n",
       "      <td>0.124394</td>\n",
       "      <td>0.012305</td>\n",
       "      <td>0.105672</td>\n",
       "      <td>0.115210</td>\n",
       "      <td>0.122641</td>\n",
       "      <td>0.129681</td>\n",
       "      <td>0.159521</td>\n",
       "    </tr>\n",
       "    <tr>\n",
       "      <th>ed_val_original_shape_VoxelVolume</th>\n",
       "      <td>57.0</td>\n",
       "      <td>151269.454938</td>\n",
       "      <td>35130.346841</td>\n",
       "      <td>81428.062500</td>\n",
       "      <td>128132.437500</td>\n",
       "      <td>146340.375000</td>\n",
       "      <td>175919.812500</td>\n",
       "      <td>236665.842547</td>\n",
       "    </tr>\n",
       "  </tbody>\n",
       "</table>\n",
       "<p>112 rows × 8 columns</p>\n",
       "</div>"
      ],
      "text/plain": [
       "                                            count           mean  \\\n",
       "min_original_shape_Elongation                57.0       0.484974   \n",
       "min_original_shape_Flatness                  57.0       0.433950   \n",
       "min_original_shape_LeastAxisLength           57.0      34.939201   \n",
       "min_original_shape_MajorAxisLength           57.0      74.823154   \n",
       "min_original_shape_Maximum2DDiameterColumn   57.0      81.483519   \n",
       "...                                           ...            ...   \n",
       "ed_val_original_shape_MinorAxisLength        57.0      52.770056   \n",
       "ed_val_original_shape_Sphericity             57.0       0.743139   \n",
       "ed_val_original_shape_SurfaceArea            57.0   18330.127847   \n",
       "ed_val_original_shape_SurfaceVolumeRatio     57.0       0.124394   \n",
       "ed_val_original_shape_VoxelVolume            57.0  151269.454938   \n",
       "\n",
       "                                                     std           min  \\\n",
       "min_original_shape_Elongation                   0.063580      0.337322   \n",
       "min_original_shape_Flatness                     0.056031      0.315769   \n",
       "min_original_shape_LeastAxisLength              5.283151     23.784889   \n",
       "min_original_shape_MajorAxisLength             10.610705     51.937018   \n",
       "min_original_shape_Maximum2DDiameterColumn     10.445174     62.936476   \n",
       "...                                                  ...           ...   \n",
       "ed_val_original_shape_MinorAxisLength           4.563227     42.437262   \n",
       "ed_val_original_shape_Sphericity                0.042845      0.624884   \n",
       "ed_val_original_shape_SurfaceArea            3231.018300  12633.063217   \n",
       "ed_val_original_shape_SurfaceVolumeRatio        0.012305      0.105672   \n",
       "ed_val_original_shape_VoxelVolume           35130.346841  81428.062500   \n",
       "\n",
       "                                                      25%            50%  \\\n",
       "min_original_shape_Elongation                    0.449481       0.493708   \n",
       "min_original_shape_Flatness                      0.399846       0.440029   \n",
       "min_original_shape_LeastAxisLength              31.718557      34.641259   \n",
       "min_original_shape_MajorAxisLength              66.514456      73.629509   \n",
       "min_original_shape_Maximum2DDiameterColumn      75.815978      79.306762   \n",
       "...                                                   ...            ...   \n",
       "ed_val_original_shape_MinorAxisLength           49.954742      52.213807   \n",
       "ed_val_original_shape_Sphericity                 0.723229       0.753739   \n",
       "ed_val_original_shape_SurfaceArea            16270.985150   17507.641426   \n",
       "ed_val_original_shape_SurfaceVolumeRatio         0.115210       0.122641   \n",
       "ed_val_original_shape_VoxelVolume           128132.437500  146340.375000   \n",
       "\n",
       "                                                      75%            max  \n",
       "min_original_shape_Elongation                    0.534887       0.599829  \n",
       "min_original_shape_Flatness                      0.485829       0.533986  \n",
       "min_original_shape_LeastAxisLength              38.210702      49.817307  \n",
       "min_original_shape_MajorAxisLength              82.730094     101.394964  \n",
       "min_original_shape_Maximum2DDiameterColumn      88.131216     110.193083  \n",
       "...                                                   ...            ...  \n",
       "ed_val_original_shape_MinorAxisLength           55.639177      63.041983  \n",
       "ed_val_original_shape_Sphericity                 0.773154       0.806397  \n",
       "ed_val_original_shape_SurfaceArea            20510.673146   27561.485427  \n",
       "ed_val_original_shape_SurfaceVolumeRatio         0.129681       0.159521  \n",
       "ed_val_original_shape_VoxelVolume           175919.812500  236665.842547  \n",
       "\n",
       "[112 rows x 8 columns]"
      ]
     },
     "execution_count": 65,
     "metadata": {},
     "output_type": "execute_result"
    }
   ],
   "source": [
    "pyrads_3d_df.describe().T"
   ]
  },
  {
   "cell_type": "code",
   "execution_count": 30,
   "id": "78a1e77c-537b-4288-9000-be31c56037c9",
   "metadata": {},
   "outputs": [],
   "source": [
    "low_lv_ef = np.append(low_lv_ef,'188')"
   ]
  },
  {
   "cell_type": "code",
   "execution_count": 53,
   "id": "1b2d50a5-e07d-4fcf-a475-1ebe9edc6483",
   "metadata": {},
   "outputs": [
    {
     "data": {
      "text/plain": [
       "(51, 113)"
      ]
     },
     "execution_count": 53,
     "metadata": {},
     "output_type": "execute_result"
    }
   ],
   "source": [
    "pyrads_3d_df = pyrads_3d_df[~pyrads_3d_df['patient_id'].isin(low_lv_ef)]\n",
    "pyrads_3d_df.shape"
   ]
  },
  {
   "cell_type": "code",
   "execution_count": 54,
   "id": "8998514f-7e7f-4351-b92d-e859a729f6e0",
   "metadata": {},
   "outputs": [],
   "source": [
    "pyrads_3d_columns = pyrads_3d_df.columns\n",
    "numerical_columns = pyrads_3d_columns.drop(['patient_id']).values"
   ]
  },
  {
   "cell_type": "code",
   "execution_count": 55,
   "id": "f7e068a0-6ad1-4715-8a6f-22ce77a4bbbf",
   "metadata": {},
   "outputs": [
    {
     "data": {
      "text/plain": [
       "['std_dev_original_shape_Maximum2DDiameterSlice',\n",
       " 'snr_original_shape_MajorAxisLength',\n",
       " 'snr_original_shape_Maximum2DDiameterRow',\n",
       " 'snr_original_shape_Maximum2DDiameterSlice',\n",
       " 'snr_original_shape_Sphericity']"
      ]
     },
     "execution_count": 55,
     "metadata": {},
     "output_type": "execute_result"
    }
   ],
   "source": [
    "outlier_features = outlier_func(pyrads_3d_df, numerical_columns, 4)\n",
    "outlier_features"
   ]
  },
  {
   "cell_type": "code",
   "execution_count": 56,
   "id": "0223ede4-3a36-458c-9164-0a0647236551",
   "metadata": {},
   "outputs": [],
   "source": [
    "pyrads_3d_df_scaled = pyrads_3d_df.copy(deep=True)\n",
    "pyrads_3d_df_scaled[numerical_columns] = scaler.fit_transform(pyrads_3d_df[numerical_columns])"
   ]
  },
  {
   "cell_type": "code",
   "execution_count": 45,
   "id": "3c650d74-5fcc-40df-886f-dd7d987496f7",
   "metadata": {},
   "outputs": [
    {
     "data": {
      "text/plain": [
       "<AxesSubplot:>"
      ]
     },
     "execution_count": 45,
     "metadata": {},
     "output_type": "execute_result"
    },
    {
     "data": {
      "image/png": "[encoded data removed]",
      "text/plain": [
       "<Figure size 720x360 with 1 Axes>"
      ]
     },
     "metadata": {
      "needs_background": "light"
     },
     "output_type": "display_data"
    }
   ],
   "source": [
    "pyrads_3d_df_scaled.boxplot(column = outlier_features[0:3], figsize = (10,5))"
   ]
  },
  {
   "cell_type": "code",
   "execution_count": 46,
   "id": "adbff437-ba8b-4ef2-9c19-157b9de7b581",
   "metadata": {},
   "outputs": [
    {
     "data": {
      "text/plain": [
       "<AxesSubplot:>"
      ]
     },
     "execution_count": 46,
     "metadata": {},
     "output_type": "execute_result"
    },
    {
     "data": {
      "image/png": "[encoded data removed]",
      "text/plain": [
       "<Figure size 720x360 with 1 Axes>"
      ]
     },
     "metadata": {
      "needs_background": "light"
     },
     "output_type": "display_data"
    }
   ],
   "source": [
    "pyrads_3d_df_scaled.boxplot(column = outlier_features[3:], figsize = (10,5))"
   ]
  },
  {
   "cell_type": "code",
   "execution_count": 59,
   "id": "6d94de18-3e81-4675-9a8e-3f233bc3ed15",
   "metadata": {},
   "outputs": [],
   "source": [
    "u_test_pyrads_3d_features, _, _ = u_test_func(pyrads_3d_df, numerical_columns)"
   ]
  },
  {
   "cell_type": "code",
   "execution_count": 60,
   "id": "18066029-158f-40e6-aa08-07d2e5c733aa",
   "metadata": {},
   "outputs": [
    {
     "name": "stdout",
     "output_type": "stream",
     "text": [
      "significant features: (feature name, p-value)\n",
      "median_original_shape_Sphericity 0.023\n",
      "mean_original_shape_Sphericity 0.03\n",
      "max_original_shape_SurfaceArea 0.039\n",
      "es_val_original_shape_Sphericity 0.041\n",
      "mean_original_shape_SurfaceArea 0.044\n",
      "ed_val_original_shape_SurfaceArea 0.044\n",
      "min_original_shape_Sphericity 0.05\n"
     ]
    }
   ],
   "source": [
    "significant_feat = [ent for ent in u_test_pyrads_3d_features if ent[1] < 0.05]\n",
    "print('significant features: (feature name, p-value)')\n",
    "[print(ent[0], round(ent[1],3)) for ent in sorted(significant_feat, key = lambda x: x[1])];"
   ]
  },
  {
   "cell_type": "code",
   "execution_count": 50,
   "id": "dd66bffb-1a33-44e2-bd2e-0a738be313fd",
   "metadata": {},
   "outputs": [
    {
     "data": {
      "text/plain": [
       "['lvmc_vol_ed',\n",
       " 'lv_std',\n",
       " 'lvmc_vol_min',\n",
       " 'lv_vol_ed',\n",
       " 'stroke_volume',\n",
       " 'lvmc_vol_max',\n",
       " 'min_original_shape_Sphericity',\n",
       " 'max_original_shape_SurfaceArea',\n",
       " 'mean_original_shape_Sphericity',\n",
       " 'mean_original_shape_SurfaceArea',\n",
       " 'median_original_shape_Sphericity',\n",
       " 'es_val_original_shape_Sphericity',\n",
       " 'ed_val_original_shape_SurfaceArea']"
      ]
     },
     "execution_count": 50,
     "metadata": {},
     "output_type": "execute_result"
    }
   ],
   "source": [
    "important_features.extend([feat[0] for feat in significant_feat])\n",
    "important_features"
   ]
  },
  {
   "cell_type": "code",
   "execution_count": 51,
   "id": "57149180-bc3e-4b71-ae6b-d95412b95ab9",
   "metadata": {},
   "outputs": [],
   "source": [
    "pids = pyrads_3d_df.patient_id.values\n",
    "pkvo2_vals = []\n",
    "petco2_vals = []\n",
    "for pid in pids:\n",
    "    num_pid = int(pid[0:3])\n",
    "    cpet_record = cpet_data[cpet_data['Record ID'].values == num_pid]\n",
    "    pkvo2_vals.append(cpet_record['VO2 (MAX):'].values[0])\n",
    "    petco2_vals.append(cpet_record['PetCO2.2'].values[0])  \n",
    "    \n",
    "pyrads_3d_df['pkvo2'] = pkvo2_vals\n",
    "pyrads_3d_df['petco2'] = petco2_vals"
   ]
  },
  {
   "cell_type": "code",
   "execution_count": 52,
   "id": "b0146984-1501-4785-b4bf-8a66303c5830",
   "metadata": {
    "scrolled": true,
    "tags": []
   },
   "outputs": [
    {
     "name": "stdout",
     "output_type": "stream",
     "text": [
      "('min_original_shape_VoxelVolume', 0.263, 0.00012)\n",
      "('es_val_original_shape_VoxelVolume', 0.263, 0.00012)\n",
      "('min_original_shape_MeshVolume', 0.262, 0.000125)\n",
      "('es_val_original_shape_MeshVolume', 0.262, 0.000125)\n",
      "('mean_original_shape_VoxelVolume', 0.252, 0.000176)\n",
      "('mean_original_shape_MeshVolume', 0.251, 0.000182)\n",
      "('median_original_shape_MeshVolume', 0.25, 0.000189)\n",
      "('median_original_shape_VoxelVolume', 0.25, 0.000188)\n",
      "('median_original_shape_SurfaceVolumeRatio', 0.246, 0.000217)\n",
      "('mean_original_shape_SurfaceVolumeRatio', 0.244, 0.000233)\n",
      "('max_original_shape_VoxelVolume', 0.234, 0.000323)\n",
      "('ed_val_original_shape_VoxelVolume', 0.234, 0.000323)\n",
      "('min_original_shape_SurfaceArea', 0.232, 0.000348)\n",
      "('max_original_shape_MeshVolume', 0.232, 0.000341)\n",
      "('ed_val_original_shape_MeshVolume', 0.232, 0.000341)\n",
      "('median_original_shape_LeastAxisLength', 0.229, 0.000385)\n",
      "('es_val_original_shape_SurfaceArea', 0.229, 0.000386)\n",
      "('max_original_shape_SurfaceVolumeRatio', 0.228, 0.000398)\n",
      "('es_val_original_shape_SurfaceVolumeRatio', 0.223, 0.000465)\n",
      "('mean_original_shape_LeastAxisLength', 0.218, 0.000555)\n",
      "('median_original_shape_MinorAxisLength', 0.218, 0.000558)\n",
      "('mean_original_shape_SurfaceArea', 0.201, 0.000962)\n",
      "('median_original_shape_SurfaceArea', 0.188, 0.001475)\n",
      "('ed_val_original_shape_SurfaceArea', 0.187, 0.001529)\n",
      "('es_val_original_shape_LeastAxisLength', 0.185, 0.001658)\n",
      "('ed_val_original_shape_Maximum3DDiameter', 0.185, 0.001642)\n",
      "('min_original_shape_LeastAxisLength', 0.184, 0.001708)\n",
      "('mean_original_shape_MinorAxisLength', 0.184, 0.001682)\n",
      "('max_original_shape_Maximum2DDiameterColumn', 0.183, 0.001734)\n",
      "('ed_val_original_shape_Maximum2DDiameterColumn', 0.183, 0.001742)\n",
      "('ed_val_original_shape_SurfaceVolumeRatio', 0.18, 0.001893)\n",
      "('median_original_shape_Maximum2DDiameterSlice', 0.179, 0.001964)\n",
      "('max_original_shape_SurfaceArea', 0.178, 0.002041)\n",
      "('min_original_shape_SurfaceVolumeRatio', 0.177, 0.002118)\n",
      "('max_original_shape_LeastAxisLength', 0.175, 0.002274)\n",
      "('min_original_shape_MajorAxisLength', 0.173, 0.002394)\n",
      "('mean_original_shape_Maximum2DDiameterColumn', 0.172, 0.002471)\n",
      "('std_dev_original_shape_SurfaceVolumeRatio', 0.169, 0.002694)\n",
      "('es_val_original_shape_Maximum2DDiameterColumn', 0.169, 0.00272)\n",
      "('ed_val_original_shape_LeastAxisLength', 0.167, 0.002885)\n",
      "('ed_val_original_shape_MinorAxisLength', 0.161, 0.003476)\n",
      "('es_val_original_shape_MajorAxisLength', 0.159, 0.003749)\n",
      "('mean_original_shape_Maximum3DDiameter', 0.158, 0.003931)\n",
      "('es_val_original_shape_MinorAxisLength', 0.153, 0.004516)\n",
      "('min_original_shape_Maximum2DDiameterColumn', 0.151, 0.004827)\n",
      "('min_original_shape_MinorAxisLength', 0.147, 0.005485)\n",
      "('max_original_shape_Maximum2DDiameterRow', 0.14, 0.006786)\n",
      "('median_original_shape_Maximum3DDiameter', 0.14, 0.006768)\n",
      "('median_original_shape_Maximum2DDiameterColumn', 0.138, 0.00736)\n",
      "('ed_val_original_shape_Maximum2DDiameterRow', 0.138, 0.007169)\n",
      "('mean_original_shape_Maximum2DDiameterRow', 0.133, 0.008434)\n",
      "('min_original_shape_Maximum3DDiameter', 0.132, 0.008652)\n",
      "('snr_original_shape_MeshVolume', 0.132, 0.008665)\n",
      "('snr_original_shape_VoxelVolume', 0.131, 0.009128)\n",
      "('max_original_shape_MinorAxisLength', 0.128, 0.009856)\n",
      "('mean_original_shape_MajorAxisLength', 0.128, 0.009806)\n",
      "('es_val_original_shape_Maximum3DDiameter', 0.128, 0.009883)\n",
      "('mean_original_shape_Maximum2DDiameterSlice', 0.122, 0.012045)\n",
      "('std_dev_original_shape_Sphericity', 0.122, 0.011885)\n",
      "('ed_val_original_shape_Maximum2DDiameterSlice', 0.122, 0.011876)\n",
      "('es_val_original_shape_Maximum2DDiameterRow', 0.12, 0.012761)\n",
      "('min_original_shape_Maximum2DDiameterRow', 0.119, 0.013321)\n",
      "('median_original_shape_Maximum2DDiameterRow', 0.117, 0.014182)\n",
      "('snr_original_shape_LeastAxisLength', 0.117, 0.014225)\n",
      "('snr_original_shape_SurfaceArea', 0.117, 0.014004)\n",
      "('es_val_original_shape_Maximum2DDiameterSlice', 0.108, 0.018751)\n",
      "('ed_val_original_shape_MajorAxisLength', 0.105, 0.020087)\n",
      "('min_original_shape_Maximum2DDiameterSlice', 0.104, 0.020695)\n",
      "('snr_original_shape_SurfaceVolumeRatio', 0.104, 0.020714)\n"
     ]
    }
   ],
   "source": [
    "response = pkvo2_vals\n",
    "predictors = numerical_columns\n",
    "pearson_r_vals = []\n",
    "for predictor in predictors:\n",
    "    pearson_val = pearsonr(pyrads_3d_df[predictor],response)\n",
    "    pearson_r_vals.append((predictor, round(pearson_val[0]**2,3), round(pearson_val[1],6)))\n",
    "[print(ent) for ent in sorted(pearson_r_vals, key=lambda x: x[1], reverse=True) if ent[1] > 0.1];"
   ]
  },
  {
   "cell_type": "code",
   "execution_count": 53,
   "id": "5f828de0-84f1-4a10-9992-e57f5c9d2cc8",
   "metadata": {},
   "outputs": [],
   "source": [
    "important_features.extend(['min_original_shape_VoxelVolume', 'mean_original_shape_LeastAxisLength', \\\n",
    "        'median_original_shape_SurfaceVolumeRatio', 'median_original_shape_MinorAxisLength',\\\n",
    "        'ed_val_original_shape_Maximum3DDiameter', 'max_original_shape_Maximum2DDiameterColumn'])"
   ]
  },
  {
   "cell_type": "code",
   "execution_count": 54,
   "id": "04110595-0019-47e0-afb1-bcae671f2bbb",
   "metadata": {
    "scrolled": true,
    "tags": []
   },
   "outputs": [
    {
     "name": "stdout",
     "output_type": "stream",
     "text": [
      "significant features: \n",
      "(feature name, R^2, p-value)\n",
      "\n",
      "('max_original_shape_Maximum2DDiameterRow', 0.409, 1e-06)\n",
      "('ed_val_original_shape_Maximum2DDiameterRow', 0.399, 1e-06)\n",
      "('ed_val_original_shape_Maximum3DDiameter', 0.382, 2e-06)\n",
      "('mean_original_shape_Maximum2DDiameterRow', 0.359, 4e-06)\n",
      "('mean_original_shape_Maximum3DDiameter', 0.337, 1e-05)\n",
      "('median_original_shape_Maximum2DDiameterRow', 0.327, 1.4e-05)\n",
      "('max_original_shape_MeshVolume', 0.321, 1.8e-05)\n",
      "('max_original_shape_VoxelVolume', 0.321, 1.8e-05)\n",
      "('ed_val_original_shape_MeshVolume', 0.321, 1.8e-05)\n",
      "('ed_val_original_shape_VoxelVolume', 0.321, 1.8e-05)\n",
      "('max_original_shape_Maximum2DDiameterColumn', 0.314, 2.3e-05)\n",
      "('median_original_shape_Maximum3DDiameter', 0.311, 2.6e-05)\n",
      "('mean_original_shape_MajorAxisLength', 0.31, 2.7e-05)\n",
      "('ed_val_original_shape_Maximum2DDiameterColumn', 0.294, 4.7e-05)\n",
      "('ed_val_original_shape_MajorAxisLength', 0.289, 5.7e-05)\n",
      "('mean_original_shape_Maximum2DDiameterColumn', 0.288, 5.8e-05)\n",
      "('max_original_shape_MajorAxisLength', 0.285, 6.5e-05)\n",
      "('median_original_shape_MajorAxisLength', 0.28, 7.9e-05)\n",
      "('max_original_shape_SurfaceArea', 0.277, 8.6e-05)\n",
      "('ed_val_original_shape_SurfaceArea', 0.277, 8.7e-05)\n",
      "('mean_original_shape_MeshVolume', 0.264, 0.000138)\n",
      "('mean_original_shape_VoxelVolume', 0.263, 0.000141)\n",
      "('es_val_original_shape_Maximum2DDiameterRow', 0.256, 0.00018)\n",
      "('min_original_shape_Maximum2DDiameterRow', 0.255, 0.000186)\n",
      "('median_original_shape_Maximum2DDiameterColumn', 0.252, 0.000206)\n",
      "('es_val_original_shape_Maximum3DDiameter', 0.252, 0.000205)\n",
      "('min_original_shape_Maximum3DDiameter', 0.247, 0.000241)\n",
      "('es_val_original_shape_MajorAxisLength', 0.247, 0.000243)\n",
      "('mean_original_shape_SurfaceArea', 0.242, 0.000287)\n",
      "('median_original_shape_MeshVolume', 0.239, 0.000318)\n",
      "('median_original_shape_VoxelVolume', 0.238, 0.000325)\n",
      "('min_original_shape_MajorAxisLength', 0.235, 0.000364)\n",
      "('min_original_shape_Maximum2DDiameterColumn', 0.227, 0.000472)\n",
      "('es_val_original_shape_Maximum2DDiameterColumn', 0.225, 0.000494)\n",
      "('median_original_shape_SurfaceArea', 0.221, 0.000563)\n",
      "('ed_val_original_shape_LeastAxisLength', 0.218, 0.000639)\n",
      "('min_original_shape_SurfaceVolumeRatio', 0.212, 0.000778)\n",
      "('ed_val_original_shape_SurfaceVolumeRatio', 0.212, 0.000775)\n",
      "('max_original_shape_Maximum3DDiameter', 0.206, 0.000933)\n",
      "('max_original_shape_LeastAxisLength', 0.205, 0.00096)\n",
      "('mean_original_shape_LeastAxisLength', 0.201, 0.001103)\n"
     ]
    }
   ],
   "source": [
    "response = pyrads_3d_df[~pyrads_3d_df['patient_id'].isin(null_petco2_pids)]['petco2']\n",
    "predictors = numerical_columns\n",
    "pearson_r_vals = []\n",
    "for predictor in predictors:\n",
    "    pearson_val = pearsonr(pyrads_3d_df[~pyrads_3d_df['patient_id'].isin(null_petco2_pids)][predictor],response)\n",
    "    pearson_r_vals.append((predictor, round(pearson_val[0]**2,3), round(pearson_val[1],6)))\n",
    "print('significant features: \\n(feature name, R^2, p-value)\\n')\n",
    "[print(ent) for ent in sorted(pearson_r_vals, key=lambda x: x[1], reverse=True) if ent[1] > 0.2];"
   ]
  },
  {
   "cell_type": "code",
   "execution_count": 55,
   "id": "ae1c5f44-8909-4ab4-9386-f11ebaecf2fd",
   "metadata": {},
   "outputs": [],
   "source": [
    "important_features.extend(['max_original_shape_Maximum2DDiameterRow', 'mean_original_shape_Maximum3DDiameter',\\\n",
    "            'max_original_shape_MeshVolume', 'max_original_shape_Maximum2DDiameterColumn',\\\n",
    "            'ed_val_original_shape_MajorAxisLength'])"
   ]
  },
  {
   "cell_type": "code",
   "execution_count": 61,
   "id": "611344d9-7eb8-43c5-991c-230d32ad74de",
   "metadata": {},
   "outputs": [
    {
     "data": {
      "image/png": "[encoded data removed]",
      "text/plain": [
       "<Figure size 1080x360 with 2 Axes>"
      ]
     },
     "execution_count": 61,
     "metadata": {},
     "output_type": "execute_result"
    }
   ],
   "source": [
    "box_plot_func('Median Sphericity', 'Max Surface Area',  pyrads_3d_df, \\\n",
    "        'median_original_shape_Sphericity', 'max_original_shape_SurfaceArea', 0.78, 24000)"
   ]
  },
  {
   "cell_type": "markdown",
   "id": "eef89d42-9973-4777-9958-92e1cb7a349f",
   "metadata": {},
   "source": [
    "### 3D Fractal features"
   ]
  },
  {
   "cell_type": "code",
   "execution_count": 62,
   "id": "9ac3ac40-6252-42df-816a-920fe16dbeac",
   "metadata": {},
   "outputs": [
    {
     "data": {
      "text/html": [
       "<div>\n",
       "<style scoped>\n",
       "    .dataframe tbody tr th:only-of-type {\n",
       "        vertical-align: middle;\n",
       "    }\n",
       "\n",
       "    .dataframe tbody tr th {\n",
       "        vertical-align: top;\n",
       "    }\n",
       "\n",
       "    .dataframe thead th {\n",
       "        text-align: right;\n",
       "    }\n",
       "</style>\n",
       "<table border=\"1\" class=\"dataframe\">\n",
       "  <thead>\n",
       "    <tr style=\"text-align: right;\">\n",
       "      <th></th>\n",
       "      <th>lv_max_slope</th>\n",
       "      <th>lv_max_inc</th>\n",
       "      <th>lv_min_slope</th>\n",
       "      <th>lv_min_inc</th>\n",
       "      <th>lv_mean_slope</th>\n",
       "      <th>lv_mean_inc</th>\n",
       "      <th>lv_median_slope</th>\n",
       "      <th>lv_median_inc</th>\n",
       "      <th>lv_ed_slope</th>\n",
       "      <th>lv_ed_inc</th>\n",
       "      <th>...</th>\n",
       "      <th>lvmc_min_inc</th>\n",
       "      <th>lvmc_mean_slope</th>\n",
       "      <th>lvmc_mean_inc</th>\n",
       "      <th>lvmc_median_slope</th>\n",
       "      <th>lvmc_median_inc</th>\n",
       "      <th>lvmc_ed_slope</th>\n",
       "      <th>lvmc_ed_inc</th>\n",
       "      <th>lvmc_es_slope</th>\n",
       "      <th>lvmc_es_inc</th>\n",
       "      <th>patient_id</th>\n",
       "    </tr>\n",
       "  </thead>\n",
       "  <tbody>\n",
       "    <tr>\n",
       "      <th>0</th>\n",
       "      <td>2.479988</td>\n",
       "      <td>7.346413</td>\n",
       "      <td>1.963456</td>\n",
       "      <td>6.064861</td>\n",
       "      <td>2.275728</td>\n",
       "      <td>6.760670</td>\n",
       "      <td>2.342396</td>\n",
       "      <td>6.886595</td>\n",
       "      <td>2.458897</td>\n",
       "      <td>7.346413</td>\n",
       "      <td>...</td>\n",
       "      <td>6.965695</td>\n",
       "      <td>2.273299</td>\n",
       "      <td>7.181236</td>\n",
       "      <td>2.275288</td>\n",
       "      <td>7.238113</td>\n",
       "      <td>2.239110</td>\n",
       "      <td>7.315423</td>\n",
       "      <td>2.271066</td>\n",
       "      <td>7.039687</td>\n",
       "      <td>153</td>\n",
       "    </tr>\n",
       "    <tr>\n",
       "      <th>1</th>\n",
       "      <td>2.413301</td>\n",
       "      <td>7.404196</td>\n",
       "      <td>2.186582</td>\n",
       "      <td>6.476394</td>\n",
       "      <td>2.322058</td>\n",
       "      <td>7.036596</td>\n",
       "      <td>2.344578</td>\n",
       "      <td>7.186857</td>\n",
       "      <td>2.413301</td>\n",
       "      <td>7.404196</td>\n",
       "      <td>...</td>\n",
       "      <td>7.484620</td>\n",
       "      <td>2.338499</td>\n",
       "      <td>7.544748</td>\n",
       "      <td>2.324051</td>\n",
       "      <td>7.543040</td>\n",
       "      <td>2.324051</td>\n",
       "      <td>7.531694</td>\n",
       "      <td>2.377132</td>\n",
       "      <td>7.528839</td>\n",
       "      <td>154</td>\n",
       "    </tr>\n",
       "    <tr>\n",
       "      <th>2</th>\n",
       "      <td>2.366648</td>\n",
       "      <td>7.101825</td>\n",
       "      <td>2.074160</td>\n",
       "      <td>6.248441</td>\n",
       "      <td>2.213915</td>\n",
       "      <td>6.648769</td>\n",
       "      <td>2.183091</td>\n",
       "      <td>6.642925</td>\n",
       "      <td>2.366648</td>\n",
       "      <td>7.101825</td>\n",
       "      <td>...</td>\n",
       "      <td>6.980443</td>\n",
       "      <td>2.232655</td>\n",
       "      <td>7.121495</td>\n",
       "      <td>2.242075</td>\n",
       "      <td>7.118396</td>\n",
       "      <td>2.310661</td>\n",
       "      <td>7.293535</td>\n",
       "      <td>2.249362</td>\n",
       "      <td>7.070714</td>\n",
       "      <td>162</td>\n",
       "    </tr>\n",
       "    <tr>\n",
       "      <th>3</th>\n",
       "      <td>2.558215</td>\n",
       "      <td>8.257276</td>\n",
       "      <td>2.322868</td>\n",
       "      <td>7.386463</td>\n",
       "      <td>2.478927</td>\n",
       "      <td>7.865453</td>\n",
       "      <td>2.493921</td>\n",
       "      <td>7.980278</td>\n",
       "      <td>2.558215</td>\n",
       "      <td>8.257276</td>\n",
       "      <td>...</td>\n",
       "      <td>7.982848</td>\n",
       "      <td>2.421854</td>\n",
       "      <td>8.162983</td>\n",
       "      <td>2.426577</td>\n",
       "      <td>8.204169</td>\n",
       "      <td>2.409906</td>\n",
       "      <td>8.211593</td>\n",
       "      <td>2.420886</td>\n",
       "      <td>8.054498</td>\n",
       "      <td>191</td>\n",
       "    </tr>\n",
       "    <tr>\n",
       "      <th>4</th>\n",
       "      <td>2.557690</td>\n",
       "      <td>7.792839</td>\n",
       "      <td>2.048207</td>\n",
       "      <td>6.216915</td>\n",
       "      <td>2.405354</td>\n",
       "      <td>7.158140</td>\n",
       "      <td>2.426958</td>\n",
       "      <td>7.246218</td>\n",
       "      <td>2.555350</td>\n",
       "      <td>7.792839</td>\n",
       "      <td>...</td>\n",
       "      <td>7.537170</td>\n",
       "      <td>2.417745</td>\n",
       "      <td>7.761672</td>\n",
       "      <td>2.432243</td>\n",
       "      <td>7.819010</td>\n",
       "      <td>2.437533</td>\n",
       "      <td>7.942699</td>\n",
       "      <td>2.347765</td>\n",
       "      <td>7.537170</td>\n",
       "      <td>109</td>\n",
       "    </tr>\n",
       "  </tbody>\n",
       "</table>\n",
       "<p>5 rows × 25 columns</p>\n",
       "</div>"
      ],
      "text/plain": [
       "   lv_max_slope  lv_max_inc  lv_min_slope  lv_min_inc  lv_mean_slope  \\\n",
       "0      2.479988    7.346413      1.963456    6.064861       2.275728   \n",
       "1      2.413301    7.404196      2.186582    6.476394       2.322058   \n",
       "2      2.366648    7.101825      2.074160    6.248441       2.213915   \n",
       "3      2.558215    8.257276      2.322868    7.386463       2.478927   \n",
       "4      2.557690    7.792839      2.048207    6.216915       2.405354   \n",
       "\n",
       "   lv_mean_inc  lv_median_slope  lv_median_inc  lv_ed_slope  lv_ed_inc  ...  \\\n",
       "0     6.760670         2.342396       6.886595     2.458897   7.346413  ...   \n",
       "1     7.036596         2.344578       7.186857     2.413301   7.404196  ...   \n",
       "2     6.648769         2.183091       6.642925     2.366648   7.101825  ...   \n",
       "3     7.865453         2.493921       7.980278     2.558215   8.257276  ...   \n",
       "4     7.158140         2.426958       7.246218     2.555350   7.792839  ...   \n",
       "\n",
       "   lvmc_min_inc  lvmc_mean_slope  lvmc_mean_inc  lvmc_median_slope  \\\n",
       "0      6.965695         2.273299       7.181236           2.275288   \n",
       "1      7.484620         2.338499       7.544748           2.324051   \n",
       "2      6.980443         2.232655       7.121495           2.242075   \n",
       "3      7.982848         2.421854       8.162983           2.426577   \n",
       "4      7.537170         2.417745       7.761672           2.432243   \n",
       "\n",
       "   lvmc_median_inc  lvmc_ed_slope  lvmc_ed_inc  lvmc_es_slope  lvmc_es_inc  \\\n",
       "0         7.238113       2.239110     7.315423       2.271066     7.039687   \n",
       "1         7.543040       2.324051     7.531694       2.377132     7.528839   \n",
       "2         7.118396       2.310661     7.293535       2.249362     7.070714   \n",
       "3         8.204169       2.409906     8.211593       2.420886     8.054498   \n",
       "4         7.819010       2.437533     7.942699       2.347765     7.537170   \n",
       "\n",
       "   patient_id  \n",
       "0         153  \n",
       "1         154  \n",
       "2         162  \n",
       "3         191  \n",
       "4         109  \n",
       "\n",
       "[5 rows x 25 columns]"
      ]
     },
     "execution_count": 62,
     "metadata": {},
     "output_type": "execute_result"
    }
   ],
   "source": [
    "fractals_3d_df = pd.read_csv('fractals_3d.csv')\n",
    "fractals_3d_df.drop(columns='Unnamed: 0',inplace=True);\n",
    "fractals_3d_df.head()"
   ]
  },
  {
   "cell_type": "code",
   "execution_count": 63,
   "id": "d4a96cea-10e4-4a2b-b0a0-cab5f23f3918",
   "metadata": {},
   "outputs": [
    {
     "data": {
      "text/plain": [
       "(51, 25)"
      ]
     },
     "execution_count": 63,
     "metadata": {},
     "output_type": "execute_result"
    }
   ],
   "source": [
    "fractals_3d_df = fractals_3d_df[~fractals_3d_df['patient_id'].isin(low_lv_ef)]\n",
    "fractals_3d_df.shape"
   ]
  },
  {
   "cell_type": "code",
   "execution_count": 64,
   "id": "899f0dbc-7e06-4d88-a5e9-66ff5793c464",
   "metadata": {},
   "outputs": [],
   "source": [
    "fractals_3d_columns = fractals_3d_df.columns\n",
    "numerical_columns = fractals_3d_columns.drop(['patient_id']).values"
   ]
  },
  {
   "cell_type": "code",
   "execution_count": 65,
   "id": "ac749abd-0c52-4eb5-8909-3e2137993e1e",
   "metadata": {},
   "outputs": [
    {
     "data": {
      "text/plain": [
       "['lv_ed_inc', 'lvmc_es_inc']"
      ]
     },
     "execution_count": 65,
     "metadata": {},
     "output_type": "execute_result"
    }
   ],
   "source": [
    "outlier_features = outlier_func(fractals_3d_df, numerical_columns, 4)\n",
    "outlier_features"
   ]
  },
  {
   "cell_type": "code",
   "execution_count": 66,
   "id": "18d185ec-ac73-4b85-ad5e-037d84a57345",
   "metadata": {},
   "outputs": [],
   "source": [
    "fractals_3d_df_scaled = fractals_3d_df.copy(deep=True)\n",
    "fractals_3d_df_scaled[numerical_columns] = scaler.fit_transform(fractals_3d_df[numerical_columns])"
   ]
  },
  {
   "cell_type": "code",
   "execution_count": 61,
   "id": "a1f606ca-a603-4ba7-a11a-9cca5206e2b3",
   "metadata": {},
   "outputs": [
    {
     "data": {
      "text/plain": [
       "<AxesSubplot:>"
      ]
     },
     "execution_count": 61,
     "metadata": {},
     "output_type": "execute_result"
    },
    {
     "data": {
      "image/png": "[encoded data removed]",
      "text/plain": [
       "<Figure size 432x288 with 1 Axes>"
      ]
     },
     "metadata": {
      "needs_background": "light"
     },
     "output_type": "display_data"
    }
   ],
   "source": [
    "fractals_3d_df_scaled.boxplot(column = list(outlier_features))"
   ]
  },
  {
   "cell_type": "markdown",
   "id": "e8a03861-f42e-4b21-9a0c-095f05c505fc",
   "metadata": {},
   "source": [
    "#### U test with 3d fractal features"
   ]
  },
  {
   "cell_type": "code",
   "execution_count": 67,
   "id": "dfd01c0c-83fa-4554-a57a-90581b3f4d75",
   "metadata": {},
   "outputs": [],
   "source": [
    "u_test_fractals_3d_features, _, _ = u_test_func(fractals_3d_df, numerical_columns)"
   ]
  },
  {
   "cell_type": "code",
   "execution_count": 68,
   "id": "68dd3e5d-3bb3-46b1-b984-c1a470009ae4",
   "metadata": {},
   "outputs": [
    {
     "name": "stdout",
     "output_type": "stream",
     "text": [
      "significant features: (feature name, p-value)\n",
      "lv_min_slope 0.071\n",
      "lvmc_min_slope 0.071\n"
     ]
    }
   ],
   "source": [
    "significant_feat = [ent for ent in u_test_fractals_3d_features if ent[1] < 0.08]\n",
    "print('significant features: (feature name, p-value)')\n",
    "[print(ent[0], round(ent[1],3)) for ent in sorted(significant_feat, key = lambda x: x[1])];"
   ]
  },
  {
   "cell_type": "code",
   "execution_count": 64,
   "id": "4812c4e0-8c80-4bb7-99fb-1d6e455226d2",
   "metadata": {
    "scrolled": true,
    "tags": []
   },
   "outputs": [
    {
     "data": {
      "text/plain": [
       "['lvmc_vol_ed',\n",
       " 'lv_std',\n",
       " 'lvmc_vol_min',\n",
       " 'lv_vol_ed',\n",
       " 'stroke_volume',\n",
       " 'lvmc_vol_max',\n",
       " 'min_original_shape_Sphericity',\n",
       " 'max_original_shape_SurfaceArea',\n",
       " 'mean_original_shape_Sphericity',\n",
       " 'mean_original_shape_SurfaceArea',\n",
       " 'median_original_shape_Sphericity',\n",
       " 'es_val_original_shape_Sphericity',\n",
       " 'ed_val_original_shape_SurfaceArea',\n",
       " 'min_original_shape_VoxelVolume',\n",
       " 'mean_original_shape_LeastAxisLength',\n",
       " 'median_original_shape_SurfaceVolumeRatio',\n",
       " 'median_original_shape_MinorAxisLength',\n",
       " 'ed_val_original_shape_Maximum3DDiameter',\n",
       " 'max_original_shape_Maximum2DDiameterColumn',\n",
       " 'max_original_shape_Maximum2DDiameterRow',\n",
       " 'mean_original_shape_Maximum3DDiameter',\n",
       " 'max_original_shape_MeshVolume',\n",
       " 'max_original_shape_Maximum2DDiameterColumn',\n",
       " 'ed_val_original_shape_MajorAxisLength',\n",
       " 'lv_min_slope',\n",
       " 'lvmc_min_slope']"
      ]
     },
     "execution_count": 64,
     "metadata": {},
     "output_type": "execute_result"
    }
   ],
   "source": [
    "important_features.extend([feat[0] for feat in significant_feat])\n",
    "important_features"
   ]
  },
  {
   "cell_type": "code",
   "execution_count": 66,
   "id": "af71fe30-4112-42aa-b1c1-c6d9840da9b5",
   "metadata": {},
   "outputs": [],
   "source": [
    "pids = fractals_3d_df.patient_id.values\n",
    "pkvo2_vals = []\n",
    "petco2_vals = []\n",
    "for pid in pids:\n",
    "    num_pid = int(pid[0:3])\n",
    "    cpet_record = cpet_data[cpet_data['Record ID'].values == num_pid]\n",
    "    pkvo2_vals.append(cpet_record['VO2 (MAX):'].values[0])\n",
    "    petco2_vals.append(cpet_record['PetCO2.2'].values[0])    \n",
    "    \n",
    "fractals_3d_df['pkvo2'] = pkvo2_vals\n",
    "fractals_3d_df['petco2'] = petco2_vals"
   ]
  },
  {
   "cell_type": "code",
   "execution_count": 67,
   "id": "906a1799-29e8-45a8-8680-d00fa334197d",
   "metadata": {},
   "outputs": [
    {
     "name": "stdout",
     "output_type": "stream",
     "text": [
      "significant features: (feature name, p-value)\n"
     ]
    }
   ],
   "source": [
    "response = pkvo2_vals\n",
    "predictors = numerical_columns\n",
    "pearson_r_vals = []\n",
    "for predictor in predictors:\n",
    "    pearson_val = pearsonr(fractals_3d_df[predictor],response)\n",
    "    pearson_r_vals.append((predictor, round(pearson_val[0]**2,3), round(pearson_val[1],3)))\n",
    "print('significant features: (feature name, p-value)')\n",
    "[print(ent) for ent in sorted(pearson_r_vals, key=lambda x: x[1], reverse=True) if ent[1] > 0.1];"
   ]
  },
  {
   "cell_type": "code",
   "execution_count": 68,
   "id": "d2462830-99a6-4299-82ff-0418c9c3e173",
   "metadata": {},
   "outputs": [
    {
     "name": "stdout",
     "output_type": "stream",
     "text": [
      "significant features: \n",
      "(feature name, R^2, p-value)\n",
      "\n"
     ]
    }
   ],
   "source": [
    "response = fractals_3d_df[~fractals_3d_df['patient_id'].isin(null_petco2_pids)]['petco2']\n",
    "predictors = numerical_columns\n",
    "pearson_r_vals = []\n",
    "for predictor in predictors:\n",
    "    pearson_val = pearsonr(fractals_3d_df[~fractals_3d_df['patient_id'].isin(null_petco2_pids)][predictor],response)\n",
    "    pearson_r_vals.append((predictor, round(pearson_val[0]**2,3), round(pearson_val[1],6)))\n",
    "print('significant features: \\n(feature name, R^2, p-value)\\n')\n",
    "[print(ent) for ent in sorted(pearson_r_vals, key=lambda x: x[1], reverse=True) if ent[1] > 0.2];"
   ]
  },
  {
   "cell_type": "code",
   "execution_count": 69,
   "id": "52f9fb87-f95e-4a5c-b348-81b518ce4a27",
   "metadata": {},
   "outputs": [
    {
     "data": {
      "image/png": "[encoded data removed]",
      "text/plain": [
       "<Figure size 1080x360 with 2 Axes>"
      ]
     },
     "execution_count": 69,
     "metadata": {},
     "output_type": "execute_result"
    }
   ],
   "source": [
    "box_plot_func('LV minimum fractal dimension', 'LVMC minimum fractal dimension',  fractals_3d_df, \\\n",
    "        'lv_min_slope', 'lvmc_min_slope', 2.7, 2.75)"
   ]
  },
  {
   "cell_type": "markdown",
   "id": "99b8e3eb-e96c-4cce-a144-1ce278ae435c",
   "metadata": {},
   "source": [
    "## Multivariate Analysis"
   ]
  },
  {
   "cell_type": "code",
   "execution_count": 69,
   "id": "12b96be7-f93d-483f-9a51-7a3dee62207e",
   "metadata": {},
   "outputs": [
    {
     "data": {
      "text/plain": [
       "['lvmc_vol_max',\n",
       " 'mean_original_shape_LeastAxisLength',\n",
       " 'max_original_shape_MeshVolume',\n",
       " 'ed_val_original_shape_SurfaceArea',\n",
       " 'mean_original_shape_SurfaceArea',\n",
       " 'max_original_shape_SurfaceArea',\n",
       " 'max_original_shape_Maximum2DDiameterRow',\n",
       " 'lv_std',\n",
       " 'min_original_shape_VoxelVolume',\n",
       " 'mean_original_shape_Sphericity',\n",
       " 'min_original_shape_Sphericity',\n",
       " 'lvmc_min_slope',\n",
       " 'max_original_shape_Maximum2DDiameterColumn',\n",
       " 'lvmc_vol_min',\n",
       " 'median_original_shape_SurfaceVolumeRatio',\n",
       " 'lvmc_vol_ed',\n",
       " 'mean_original_shape_Maximum3DDiameter',\n",
       " 'lv_min_slope',\n",
       " 'median_original_shape_Sphericity',\n",
       " 'es_val_original_shape_Sphericity',\n",
       " 'ed_val_original_shape_MajorAxisLength',\n",
       " 'ed_val_original_shape_Maximum3DDiameter',\n",
       " 'median_original_shape_MinorAxisLength',\n",
       " 'stroke_volume',\n",
       " 'lv_vol_ed']"
      ]
     },
     "execution_count": 69,
     "metadata": {},
     "output_type": "execute_result"
    }
   ],
   "source": [
    "important_features = list(set(important_features))\n",
    "important_features"
   ]
  },
  {
   "cell_type": "code",
   "execution_count": 70,
   "id": "e154e678-acf2-403d-8581-724b90523ab4",
   "metadata": {},
   "outputs": [
    {
     "data": {
      "text/html": [
       "<div>\n",
       "<style scoped>\n",
       "    .dataframe tbody tr th:only-of-type {\n",
       "        vertical-align: middle;\n",
       "    }\n",
       "\n",
       "    .dataframe tbody tr th {\n",
       "        vertical-align: top;\n",
       "    }\n",
       "\n",
       "    .dataframe thead th {\n",
       "        text-align: right;\n",
       "    }\n",
       "</style>\n",
       "<table border=\"1\" class=\"dataframe\">\n",
       "  <thead>\n",
       "    <tr style=\"text-align: right;\">\n",
       "      <th></th>\n",
       "      <th>patient_id</th>\n",
       "      <th>mean_original_shape_Sphericity</th>\n",
       "      <th>max_original_shape_MeshVolume</th>\n",
       "      <th>mean_original_shape_LeastAxisLength</th>\n",
       "      <th>min_original_shape_Sphericity</th>\n",
       "      <th>max_original_shape_Maximum2DDiameterColumn</th>\n",
       "      <th>ed_val_original_shape_SurfaceArea</th>\n",
       "      <th>ed_val_original_shape_Maximum3DDiameter</th>\n",
       "      <th>mean_original_shape_SurfaceArea</th>\n",
       "      <th>median_original_shape_MinorAxisLength</th>\n",
       "      <th>max_original_shape_SurfaceArea</th>\n",
       "      <th>max_original_shape_Maximum2DDiameterRow</th>\n",
       "      <th>mean_original_shape_Maximum3DDiameter</th>\n",
       "      <th>median_original_shape_SurfaceVolumeRatio</th>\n",
       "      <th>median_original_shape_Sphericity</th>\n",
       "      <th>es_val_original_shape_Sphericity</th>\n",
       "      <th>ed_val_original_shape_MajorAxisLength</th>\n",
       "      <th>min_original_shape_VoxelVolume</th>\n",
       "    </tr>\n",
       "  </thead>\n",
       "  <tbody>\n",
       "    <tr>\n",
       "      <th>0</th>\n",
       "      <td>153</td>\n",
       "      <td>0.748110</td>\n",
       "      <td>104904.343750</td>\n",
       "      <td>35.280432</td>\n",
       "      <td>0.723153</td>\n",
       "      <td>89.494501</td>\n",
       "      <td>14611.078910</td>\n",
       "      <td>93.411054</td>\n",
       "      <td>10936.135230</td>\n",
       "      <td>39.435757</td>\n",
       "      <td>14611.078910</td>\n",
       "      <td>92.195445</td>\n",
       "      <td>86.670798</td>\n",
       "      <td>0.153127</td>\n",
       "      <td>0.748158</td>\n",
       "      <td>0.723153</td>\n",
       "      <td>79.810201</td>\n",
       "      <td>39664.875000</td>\n",
       "    </tr>\n",
       "    <tr>\n",
       "      <th>1</th>\n",
       "      <td>154</td>\n",
       "      <td>0.760355</td>\n",
       "      <td>128671.117188</td>\n",
       "      <td>40.655252</td>\n",
       "      <td>0.732408</td>\n",
       "      <td>91.242209</td>\n",
       "      <td>15848.950767</td>\n",
       "      <td>92.011718</td>\n",
       "      <td>12814.214611</td>\n",
       "      <td>47.963631</td>\n",
       "      <td>15848.950767</td>\n",
       "      <td>89.494501</td>\n",
       "      <td>84.667249</td>\n",
       "      <td>0.134614</td>\n",
       "      <td>0.767928</td>\n",
       "      <td>0.734934</td>\n",
       "      <td>80.581778</td>\n",
       "      <td>46027.500000</td>\n",
       "    </tr>\n",
       "    <tr>\n",
       "      <th>2</th>\n",
       "      <td>162</td>\n",
       "      <td>0.718751</td>\n",
       "      <td>80063.031250</td>\n",
       "      <td>33.123916</td>\n",
       "      <td>0.677365</td>\n",
       "      <td>82.547808</td>\n",
       "      <td>12633.063217</td>\n",
       "      <td>85.237261</td>\n",
       "      <td>9945.222198</td>\n",
       "      <td>37.743858</td>\n",
       "      <td>12633.063217</td>\n",
       "      <td>81.412530</td>\n",
       "      <td>82.550290</td>\n",
       "      <td>0.174758</td>\n",
       "      <td>0.712053</td>\n",
       "      <td>0.704503</td>\n",
       "      <td>76.028604</td>\n",
       "      <td>38920.312500</td>\n",
       "    </tr>\n",
       "    <tr>\n",
       "      <th>3</th>\n",
       "      <td>191</td>\n",
       "      <td>0.683184</td>\n",
       "      <td>150684.231441</td>\n",
       "      <td>41.059555</td>\n",
       "      <td>0.646605</td>\n",
       "      <td>108.751222</td>\n",
       "      <td>19440.135711</td>\n",
       "      <td>120.465067</td>\n",
       "      <td>15551.672444</td>\n",
       "      <td>43.245158</td>\n",
       "      <td>19440.135711</td>\n",
       "      <td>120.244185</td>\n",
       "      <td>112.610973</td>\n",
       "      <td>0.145488</td>\n",
       "      <td>0.685203</td>\n",
       "      <td>0.646605</td>\n",
       "      <td>102.319481</td>\n",
       "      <td>58658.037807</td>\n",
       "    </tr>\n",
       "    <tr>\n",
       "      <th>4</th>\n",
       "      <td>109</td>\n",
       "      <td>0.720003</td>\n",
       "      <td>151871.007812</td>\n",
       "      <td>38.089976</td>\n",
       "      <td>0.664806</td>\n",
       "      <td>100.842777</td>\n",
       "      <td>18885.775024</td>\n",
       "      <td>102.946360</td>\n",
       "      <td>13585.015101</td>\n",
       "      <td>44.172514</td>\n",
       "      <td>18885.775024</td>\n",
       "      <td>101.595091</td>\n",
       "      <td>88.857282</td>\n",
       "      <td>0.149964</td>\n",
       "      <td>0.728897</td>\n",
       "      <td>0.737380</td>\n",
       "      <td>89.894066</td>\n",
       "      <td>42440.062500</td>\n",
       "    </tr>\n",
       "  </tbody>\n",
       "</table>\n",
       "</div>"
      ],
      "text/plain": [
       "  patient_id  mean_original_shape_Sphericity  max_original_shape_MeshVolume  \\\n",
       "0        153                        0.748110                  104904.343750   \n",
       "1        154                        0.760355                  128671.117188   \n",
       "2        162                        0.718751                   80063.031250   \n",
       "3        191                        0.683184                  150684.231441   \n",
       "4        109                        0.720003                  151871.007812   \n",
       "\n",
       "   mean_original_shape_LeastAxisLength  min_original_shape_Sphericity  \\\n",
       "0                            35.280432                       0.723153   \n",
       "1                            40.655252                       0.732408   \n",
       "2                            33.123916                       0.677365   \n",
       "3                            41.059555                       0.646605   \n",
       "4                            38.089976                       0.664806   \n",
       "\n",
       "   max_original_shape_Maximum2DDiameterColumn  \\\n",
       "0                                   89.494501   \n",
       "1                                   91.242209   \n",
       "2                                   82.547808   \n",
       "3                                  108.751222   \n",
       "4                                  100.842777   \n",
       "\n",
       "   ed_val_original_shape_SurfaceArea  ed_val_original_shape_Maximum3DDiameter  \\\n",
       "0                       14611.078910                                93.411054   \n",
       "1                       15848.950767                                92.011718   \n",
       "2                       12633.063217                                85.237261   \n",
       "3                       19440.135711                               120.465067   \n",
       "4                       18885.775024                               102.946360   \n",
       "\n",
       "   mean_original_shape_SurfaceArea  median_original_shape_MinorAxisLength  \\\n",
       "0                     10936.135230                              39.435757   \n",
       "1                     12814.214611                              47.963631   \n",
       "2                      9945.222198                              37.743858   \n",
       "3                     15551.672444                              43.245158   \n",
       "4                     13585.015101                              44.172514   \n",
       "\n",
       "   max_original_shape_SurfaceArea  max_original_shape_Maximum2DDiameterRow  \\\n",
       "0                    14611.078910                                92.195445   \n",
       "1                    15848.950767                                89.494501   \n",
       "2                    12633.063217                                81.412530   \n",
       "3                    19440.135711                               120.244185   \n",
       "4                    18885.775024                               101.595091   \n",
       "\n",
       "   mean_original_shape_Maximum3DDiameter  \\\n",
       "0                              86.670798   \n",
       "1                              84.667249   \n",
       "2                              82.550290   \n",
       "3                             112.610973   \n",
       "4                              88.857282   \n",
       "\n",
       "   median_original_shape_SurfaceVolumeRatio  median_original_shape_Sphericity  \\\n",
       "0                                  0.153127                          0.748158   \n",
       "1                                  0.134614                          0.767928   \n",
       "2                                  0.174758                          0.712053   \n",
       "3                                  0.145488                          0.685203   \n",
       "4                                  0.149964                          0.728897   \n",
       "\n",
       "   es_val_original_shape_Sphericity  ed_val_original_shape_MajorAxisLength  \\\n",
       "0                          0.723153                              79.810201   \n",
       "1                          0.734934                              80.581778   \n",
       "2                          0.704503                              76.028604   \n",
       "3                          0.646605                             102.319481   \n",
       "4                          0.737380                              89.894066   \n",
       "\n",
       "   min_original_shape_VoxelVolume  \n",
       "0                    39664.875000  \n",
       "1                    46027.500000  \n",
       "2                    38920.312500  \n",
       "3                    58658.037807  \n",
       "4                    42440.062500  "
      ]
     },
     "execution_count": 70,
     "metadata": {},
     "output_type": "execute_result"
    }
   ],
   "source": [
    "pyrads_df = pd.read_csv('pyrads_3d.csv')\n",
    "pyrads_df.drop(columns=['Unnamed: 0'],inplace=True)\n",
    "common_features = list(set(pyrads_df.columns.values) & set(important_features))\n",
    "pyrads_df_imp = pyrads_df[['patient_id']+common_features]\n",
    "pyrads_df_imp.head()"
   ]
  },
  {
   "cell_type": "code",
   "execution_count": 71,
   "id": "32bbccb9-265b-4ff3-9418-a155a9831911",
   "metadata": {},
   "outputs": [
    {
     "data": {
      "text/html": [
       "<div>\n",
       "<style scoped>\n",
       "    .dataframe tbody tr th:only-of-type {\n",
       "        vertical-align: middle;\n",
       "    }\n",
       "\n",
       "    .dataframe tbody tr th {\n",
       "        vertical-align: top;\n",
       "    }\n",
       "\n",
       "    .dataframe thead th {\n",
       "        text-align: right;\n",
       "    }\n",
       "</style>\n",
       "<table border=\"1\" class=\"dataframe\">\n",
       "  <thead>\n",
       "    <tr style=\"text-align: right;\">\n",
       "      <th></th>\n",
       "      <th>patient_id</th>\n",
       "      <th>lvmc_vol_max</th>\n",
       "      <th>lvmc_vol_min</th>\n",
       "      <th>lvmc_vol_ed</th>\n",
       "      <th>lv_std</th>\n",
       "      <th>stroke_volume</th>\n",
       "      <th>lv_vol_ed</th>\n",
       "    </tr>\n",
       "  </thead>\n",
       "  <tbody>\n",
       "    <tr>\n",
       "      <th>0</th>\n",
       "      <td>153</td>\n",
       "      <td>85489.312500</td>\n",
       "      <td>73305.562500</td>\n",
       "      <td>85015.500000</td>\n",
       "      <td>7965.467931</td>\n",
       "      <td>66604.500000</td>\n",
       "      <td>106269.375000</td>\n",
       "    </tr>\n",
       "    <tr>\n",
       "      <th>1</th>\n",
       "      <td>154</td>\n",
       "      <td>109586.062500</td>\n",
       "      <td>94762.500000</td>\n",
       "      <td>103155.750000</td>\n",
       "      <td>9425.673423</td>\n",
       "      <td>84000.187500</td>\n",
       "      <td>130027.687500</td>\n",
       "    </tr>\n",
       "    <tr>\n",
       "      <th>2</th>\n",
       "      <td>162</td>\n",
       "      <td>75674.625000</td>\n",
       "      <td>67416.750000</td>\n",
       "      <td>71071.875000</td>\n",
       "      <td>4889.557224</td>\n",
       "      <td>42507.750000</td>\n",
       "      <td>81428.062500</td>\n",
       "    </tr>\n",
       "    <tr>\n",
       "      <th>3</th>\n",
       "      <td>191</td>\n",
       "      <td>114963.373894</td>\n",
       "      <td>103040.360091</td>\n",
       "      <td>103040.360091</td>\n",
       "      <td>6097.426044</td>\n",
       "      <td>93230.790206</td>\n",
       "      <td>151888.828014</td>\n",
       "    </tr>\n",
       "    <tr>\n",
       "      <th>4</th>\n",
       "      <td>109</td>\n",
       "      <td>135239.625000</td>\n",
       "      <td>111413.625000</td>\n",
       "      <td>126507.937500</td>\n",
       "      <td>15817.902632</td>\n",
       "      <td>111007.500000</td>\n",
       "      <td>153447.562500</td>\n",
       "    </tr>\n",
       "  </tbody>\n",
       "</table>\n",
       "</div>"
      ],
      "text/plain": [
       "  patient_id   lvmc_vol_max   lvmc_vol_min    lvmc_vol_ed        lv_std  \\\n",
       "0        153   85489.312500   73305.562500   85015.500000   7965.467931   \n",
       "1        154  109586.062500   94762.500000  103155.750000   9425.673423   \n",
       "2        162   75674.625000   67416.750000   71071.875000   4889.557224   \n",
       "3        191  114963.373894  103040.360091  103040.360091   6097.426044   \n",
       "4        109  135239.625000  111413.625000  126507.937500  15817.902632   \n",
       "\n",
       "   stroke_volume      lv_vol_ed  \n",
       "0   66604.500000  106269.375000  \n",
       "1   84000.187500  130027.687500  \n",
       "2   42507.750000   81428.062500  \n",
       "3   93230.790206  151888.828014  \n",
       "4  111007.500000  153447.562500  "
      ]
     },
     "execution_count": 71,
     "metadata": {},
     "output_type": "execute_result"
    }
   ],
   "source": [
    "vol_df = pd.read_csv('vol.csv')\n",
    "vol_df.drop(columns=['Unnamed: 0'],inplace=True)\n",
    "common_features = list(set(vol_df.columns.values) & set(important_features))\n",
    "vol_df_imp = vol_df[['patient_id']+common_features]\n",
    "vol_df_imp.head()"
   ]
  },
  {
   "cell_type": "code",
   "execution_count": 72,
   "id": "20c52299-644f-4cd2-a05c-d33036b2a594",
   "metadata": {},
   "outputs": [
    {
     "data": {
      "text/html": [
       "<div>\n",
       "<style scoped>\n",
       "    .dataframe tbody tr th:only-of-type {\n",
       "        vertical-align: middle;\n",
       "    }\n",
       "\n",
       "    .dataframe tbody tr th {\n",
       "        vertical-align: top;\n",
       "    }\n",
       "\n",
       "    .dataframe thead th {\n",
       "        text-align: right;\n",
       "    }\n",
       "</style>\n",
       "<table border=\"1\" class=\"dataframe\">\n",
       "  <thead>\n",
       "    <tr style=\"text-align: right;\">\n",
       "      <th></th>\n",
       "      <th>patient_id</th>\n",
       "      <th>mean_original_shape_Sphericity</th>\n",
       "      <th>max_original_shape_MeshVolume</th>\n",
       "      <th>mean_original_shape_LeastAxisLength</th>\n",
       "      <th>min_original_shape_Sphericity</th>\n",
       "      <th>max_original_shape_Maximum2DDiameterColumn</th>\n",
       "      <th>ed_val_original_shape_SurfaceArea</th>\n",
       "      <th>ed_val_original_shape_Maximum3DDiameter</th>\n",
       "      <th>mean_original_shape_SurfaceArea</th>\n",
       "      <th>median_original_shape_MinorAxisLength</th>\n",
       "      <th>...</th>\n",
       "      <th>median_original_shape_Sphericity</th>\n",
       "      <th>es_val_original_shape_Sphericity</th>\n",
       "      <th>ed_val_original_shape_MajorAxisLength</th>\n",
       "      <th>min_original_shape_VoxelVolume</th>\n",
       "      <th>lvmc_vol_max</th>\n",
       "      <th>lvmc_vol_min</th>\n",
       "      <th>lvmc_vol_ed</th>\n",
       "      <th>lv_std</th>\n",
       "      <th>stroke_volume</th>\n",
       "      <th>lv_vol_ed</th>\n",
       "    </tr>\n",
       "  </thead>\n",
       "  <tbody>\n",
       "    <tr>\n",
       "      <th>0</th>\n",
       "      <td>153</td>\n",
       "      <td>0.748110</td>\n",
       "      <td>104904.343750</td>\n",
       "      <td>35.280432</td>\n",
       "      <td>0.723153</td>\n",
       "      <td>89.494501</td>\n",
       "      <td>14611.078910</td>\n",
       "      <td>93.411054</td>\n",
       "      <td>10936.135230</td>\n",
       "      <td>39.435757</td>\n",
       "      <td>...</td>\n",
       "      <td>0.748158</td>\n",
       "      <td>0.723153</td>\n",
       "      <td>79.810201</td>\n",
       "      <td>39664.875000</td>\n",
       "      <td>85489.312500</td>\n",
       "      <td>73305.562500</td>\n",
       "      <td>85015.500000</td>\n",
       "      <td>7965.467931</td>\n",
       "      <td>66604.500000</td>\n",
       "      <td>106269.375000</td>\n",
       "    </tr>\n",
       "    <tr>\n",
       "      <th>1</th>\n",
       "      <td>154</td>\n",
       "      <td>0.760355</td>\n",
       "      <td>128671.117188</td>\n",
       "      <td>40.655252</td>\n",
       "      <td>0.732408</td>\n",
       "      <td>91.242209</td>\n",
       "      <td>15848.950767</td>\n",
       "      <td>92.011718</td>\n",
       "      <td>12814.214611</td>\n",
       "      <td>47.963631</td>\n",
       "      <td>...</td>\n",
       "      <td>0.767928</td>\n",
       "      <td>0.734934</td>\n",
       "      <td>80.581778</td>\n",
       "      <td>46027.500000</td>\n",
       "      <td>109586.062500</td>\n",
       "      <td>94762.500000</td>\n",
       "      <td>103155.750000</td>\n",
       "      <td>9425.673423</td>\n",
       "      <td>84000.187500</td>\n",
       "      <td>130027.687500</td>\n",
       "    </tr>\n",
       "    <tr>\n",
       "      <th>2</th>\n",
       "      <td>162</td>\n",
       "      <td>0.718751</td>\n",
       "      <td>80063.031250</td>\n",
       "      <td>33.123916</td>\n",
       "      <td>0.677365</td>\n",
       "      <td>82.547808</td>\n",
       "      <td>12633.063217</td>\n",
       "      <td>85.237261</td>\n",
       "      <td>9945.222198</td>\n",
       "      <td>37.743858</td>\n",
       "      <td>...</td>\n",
       "      <td>0.712053</td>\n",
       "      <td>0.704503</td>\n",
       "      <td>76.028604</td>\n",
       "      <td>38920.312500</td>\n",
       "      <td>75674.625000</td>\n",
       "      <td>67416.750000</td>\n",
       "      <td>71071.875000</td>\n",
       "      <td>4889.557224</td>\n",
       "      <td>42507.750000</td>\n",
       "      <td>81428.062500</td>\n",
       "    </tr>\n",
       "    <tr>\n",
       "      <th>3</th>\n",
       "      <td>191</td>\n",
       "      <td>0.683184</td>\n",
       "      <td>150684.231441</td>\n",
       "      <td>41.059555</td>\n",
       "      <td>0.646605</td>\n",
       "      <td>108.751222</td>\n",
       "      <td>19440.135711</td>\n",
       "      <td>120.465067</td>\n",
       "      <td>15551.672444</td>\n",
       "      <td>43.245158</td>\n",
       "      <td>...</td>\n",
       "      <td>0.685203</td>\n",
       "      <td>0.646605</td>\n",
       "      <td>102.319481</td>\n",
       "      <td>58658.037807</td>\n",
       "      <td>114963.373894</td>\n",
       "      <td>103040.360091</td>\n",
       "      <td>103040.360091</td>\n",
       "      <td>6097.426044</td>\n",
       "      <td>93230.790206</td>\n",
       "      <td>151888.828014</td>\n",
       "    </tr>\n",
       "    <tr>\n",
       "      <th>4</th>\n",
       "      <td>109</td>\n",
       "      <td>0.720003</td>\n",
       "      <td>151871.007812</td>\n",
       "      <td>38.089976</td>\n",
       "      <td>0.664806</td>\n",
       "      <td>100.842777</td>\n",
       "      <td>18885.775024</td>\n",
       "      <td>102.946360</td>\n",
       "      <td>13585.015101</td>\n",
       "      <td>44.172514</td>\n",
       "      <td>...</td>\n",
       "      <td>0.728897</td>\n",
       "      <td>0.737380</td>\n",
       "      <td>89.894066</td>\n",
       "      <td>42440.062500</td>\n",
       "      <td>135239.625000</td>\n",
       "      <td>111413.625000</td>\n",
       "      <td>126507.937500</td>\n",
       "      <td>15817.902632</td>\n",
       "      <td>111007.500000</td>\n",
       "      <td>153447.562500</td>\n",
       "    </tr>\n",
       "  </tbody>\n",
       "</table>\n",
       "<p>5 rows × 24 columns</p>\n",
       "</div>"
      ],
      "text/plain": [
       "  patient_id  mean_original_shape_Sphericity  max_original_shape_MeshVolume  \\\n",
       "0        153                        0.748110                  104904.343750   \n",
       "1        154                        0.760355                  128671.117188   \n",
       "2        162                        0.718751                   80063.031250   \n",
       "3        191                        0.683184                  150684.231441   \n",
       "4        109                        0.720003                  151871.007812   \n",
       "\n",
       "   mean_original_shape_LeastAxisLength  min_original_shape_Sphericity  \\\n",
       "0                            35.280432                       0.723153   \n",
       "1                            40.655252                       0.732408   \n",
       "2                            33.123916                       0.677365   \n",
       "3                            41.059555                       0.646605   \n",
       "4                            38.089976                       0.664806   \n",
       "\n",
       "   max_original_shape_Maximum2DDiameterColumn  \\\n",
       "0                                   89.494501   \n",
       "1                                   91.242209   \n",
       "2                                   82.547808   \n",
       "3                                  108.751222   \n",
       "4                                  100.842777   \n",
       "\n",
       "   ed_val_original_shape_SurfaceArea  ed_val_original_shape_Maximum3DDiameter  \\\n",
       "0                       14611.078910                                93.411054   \n",
       "1                       15848.950767                                92.011718   \n",
       "2                       12633.063217                                85.237261   \n",
       "3                       19440.135711                               120.465067   \n",
       "4                       18885.775024                               102.946360   \n",
       "\n",
       "   mean_original_shape_SurfaceArea  median_original_shape_MinorAxisLength  \\\n",
       "0                     10936.135230                              39.435757   \n",
       "1                     12814.214611                              47.963631   \n",
       "2                      9945.222198                              37.743858   \n",
       "3                     15551.672444                              43.245158   \n",
       "4                     13585.015101                              44.172514   \n",
       "\n",
       "   ...  median_original_shape_Sphericity  es_val_original_shape_Sphericity  \\\n",
       "0  ...                          0.748158                          0.723153   \n",
       "1  ...                          0.767928                          0.734934   \n",
       "2  ...                          0.712053                          0.704503   \n",
       "3  ...                          0.685203                          0.646605   \n",
       "4  ...                          0.728897                          0.737380   \n",
       "\n",
       "   ed_val_original_shape_MajorAxisLength  min_original_shape_VoxelVolume  \\\n",
       "0                              79.810201                    39664.875000   \n",
       "1                              80.581778                    46027.500000   \n",
       "2                              76.028604                    38920.312500   \n",
       "3                             102.319481                    58658.037807   \n",
       "4                              89.894066                    42440.062500   \n",
       "\n",
       "    lvmc_vol_max   lvmc_vol_min    lvmc_vol_ed        lv_std  stroke_volume  \\\n",
       "0   85489.312500   73305.562500   85015.500000   7965.467931   66604.500000   \n",
       "1  109586.062500   94762.500000  103155.750000   9425.673423   84000.187500   \n",
       "2   75674.625000   67416.750000   71071.875000   4889.557224   42507.750000   \n",
       "3  114963.373894  103040.360091  103040.360091   6097.426044   93230.790206   \n",
       "4  135239.625000  111413.625000  126507.937500  15817.902632  111007.500000   \n",
       "\n",
       "       lv_vol_ed  \n",
       "0  106269.375000  \n",
       "1  130027.687500  \n",
       "2   81428.062500  \n",
       "3  151888.828014  \n",
       "4  153447.562500  \n",
       "\n",
       "[5 rows x 24 columns]"
      ]
     },
     "execution_count": 72,
     "metadata": {},
     "output_type": "execute_result"
    }
   ],
   "source": [
    "important_features_df = pd.merge(pyrads_df_imp, vol_df_imp, on=\"patient_id\", how=\"left\")\n",
    "important_features_df.head()"
   ]
  },
  {
   "cell_type": "code",
   "execution_count": 73,
   "id": "996bbc0a-1e16-4fbf-a5d8-7753f3390f54",
   "metadata": {},
   "outputs": [
    {
     "data": {
      "text/html": [
       "<div>\n",
       "<style scoped>\n",
       "    .dataframe tbody tr th:only-of-type {\n",
       "        vertical-align: middle;\n",
       "    }\n",
       "\n",
       "    .dataframe tbody tr th {\n",
       "        vertical-align: top;\n",
       "    }\n",
       "\n",
       "    .dataframe thead th {\n",
       "        text-align: right;\n",
       "    }\n",
       "</style>\n",
       "<table border=\"1\" class=\"dataframe\">\n",
       "  <thead>\n",
       "    <tr style=\"text-align: right;\">\n",
       "      <th></th>\n",
       "      <th>patient_id</th>\n",
       "      <th>lv_min_slope</th>\n",
       "      <th>lvmc_min_slope</th>\n",
       "    </tr>\n",
       "  </thead>\n",
       "  <tbody>\n",
       "    <tr>\n",
       "      <th>0</th>\n",
       "      <td>153</td>\n",
       "      <td>1.963456</td>\n",
       "      <td>2.224151</td>\n",
       "    </tr>\n",
       "    <tr>\n",
       "      <th>1</th>\n",
       "      <td>154</td>\n",
       "      <td>2.186582</td>\n",
       "      <td>2.288623</td>\n",
       "    </tr>\n",
       "    <tr>\n",
       "      <th>2</th>\n",
       "      <td>162</td>\n",
       "      <td>2.074160</td>\n",
       "      <td>2.137551</td>\n",
       "    </tr>\n",
       "    <tr>\n",
       "      <th>3</th>\n",
       "      <td>191</td>\n",
       "      <td>2.322868</td>\n",
       "      <td>2.354578</td>\n",
       "    </tr>\n",
       "    <tr>\n",
       "      <th>4</th>\n",
       "      <td>109</td>\n",
       "      <td>2.048207</td>\n",
       "      <td>2.335396</td>\n",
       "    </tr>\n",
       "  </tbody>\n",
       "</table>\n",
       "</div>"
      ],
      "text/plain": [
       "  patient_id  lv_min_slope  lvmc_min_slope\n",
       "0        153      1.963456        2.224151\n",
       "1        154      2.186582        2.288623\n",
       "2        162      2.074160        2.137551\n",
       "3        191      2.322868        2.354578\n",
       "4        109      2.048207        2.335396"
      ]
     },
     "execution_count": 73,
     "metadata": {},
     "output_type": "execute_result"
    }
   ],
   "source": [
    "fractals_3d_df = pd.read_csv('fractals_3d.csv')\n",
    "fractals_3d_df.drop(columns=['Unnamed: 0'],inplace=True)\n",
    "common_features = list(set(fractals_3d_df.columns.values) & set(important_features))\n",
    "fractals_3d_df_imp = fractals_3d_df[['patient_id']+common_features]\n",
    "fractals_3d_df_imp.head()"
   ]
  },
  {
   "cell_type": "code",
   "execution_count": 74,
   "id": "52803d50-53c2-4398-936c-bd5d80dbc6d6",
   "metadata": {},
   "outputs": [
    {
     "data": {
      "text/html": [
       "<div>\n",
       "<style scoped>\n",
       "    .dataframe tbody tr th:only-of-type {\n",
       "        vertical-align: middle;\n",
       "    }\n",
       "\n",
       "    .dataframe tbody tr th {\n",
       "        vertical-align: top;\n",
       "    }\n",
       "\n",
       "    .dataframe thead th {\n",
       "        text-align: right;\n",
       "    }\n",
       "</style>\n",
       "<table border=\"1\" class=\"dataframe\">\n",
       "  <thead>\n",
       "    <tr style=\"text-align: right;\">\n",
       "      <th></th>\n",
       "      <th>patient_id</th>\n",
       "      <th>mean_original_shape_Sphericity</th>\n",
       "      <th>max_original_shape_MeshVolume</th>\n",
       "      <th>mean_original_shape_LeastAxisLength</th>\n",
       "      <th>min_original_shape_Sphericity</th>\n",
       "      <th>max_original_shape_Maximum2DDiameterColumn</th>\n",
       "      <th>ed_val_original_shape_SurfaceArea</th>\n",
       "      <th>ed_val_original_shape_Maximum3DDiameter</th>\n",
       "      <th>mean_original_shape_SurfaceArea</th>\n",
       "      <th>median_original_shape_MinorAxisLength</th>\n",
       "      <th>...</th>\n",
       "      <th>ed_val_original_shape_MajorAxisLength</th>\n",
       "      <th>min_original_shape_VoxelVolume</th>\n",
       "      <th>lvmc_vol_max</th>\n",
       "      <th>lvmc_vol_min</th>\n",
       "      <th>lvmc_vol_ed</th>\n",
       "      <th>lv_std</th>\n",
       "      <th>stroke_volume</th>\n",
       "      <th>lv_vol_ed</th>\n",
       "      <th>lv_min_slope</th>\n",
       "      <th>lvmc_min_slope</th>\n",
       "    </tr>\n",
       "  </thead>\n",
       "  <tbody>\n",
       "    <tr>\n",
       "      <th>0</th>\n",
       "      <td>153</td>\n",
       "      <td>0.748110</td>\n",
       "      <td>104904.343750</td>\n",
       "      <td>35.280432</td>\n",
       "      <td>0.723153</td>\n",
       "      <td>89.494501</td>\n",
       "      <td>14611.078910</td>\n",
       "      <td>93.411054</td>\n",
       "      <td>10936.135230</td>\n",
       "      <td>39.435757</td>\n",
       "      <td>...</td>\n",
       "      <td>79.810201</td>\n",
       "      <td>39664.875000</td>\n",
       "      <td>85489.312500</td>\n",
       "      <td>73305.562500</td>\n",
       "      <td>85015.500000</td>\n",
       "      <td>7965.467931</td>\n",
       "      <td>66604.500000</td>\n",
       "      <td>106269.375000</td>\n",
       "      <td>1.963456</td>\n",
       "      <td>2.224151</td>\n",
       "    </tr>\n",
       "    <tr>\n",
       "      <th>1</th>\n",
       "      <td>154</td>\n",
       "      <td>0.760355</td>\n",
       "      <td>128671.117188</td>\n",
       "      <td>40.655252</td>\n",
       "      <td>0.732408</td>\n",
       "      <td>91.242209</td>\n",
       "      <td>15848.950767</td>\n",
       "      <td>92.011718</td>\n",
       "      <td>12814.214611</td>\n",
       "      <td>47.963631</td>\n",
       "      <td>...</td>\n",
       "      <td>80.581778</td>\n",
       "      <td>46027.500000</td>\n",
       "      <td>109586.062500</td>\n",
       "      <td>94762.500000</td>\n",
       "      <td>103155.750000</td>\n",
       "      <td>9425.673423</td>\n",
       "      <td>84000.187500</td>\n",
       "      <td>130027.687500</td>\n",
       "      <td>2.186582</td>\n",
       "      <td>2.288623</td>\n",
       "    </tr>\n",
       "    <tr>\n",
       "      <th>2</th>\n",
       "      <td>162</td>\n",
       "      <td>0.718751</td>\n",
       "      <td>80063.031250</td>\n",
       "      <td>33.123916</td>\n",
       "      <td>0.677365</td>\n",
       "      <td>82.547808</td>\n",
       "      <td>12633.063217</td>\n",
       "      <td>85.237261</td>\n",
       "      <td>9945.222198</td>\n",
       "      <td>37.743858</td>\n",
       "      <td>...</td>\n",
       "      <td>76.028604</td>\n",
       "      <td>38920.312500</td>\n",
       "      <td>75674.625000</td>\n",
       "      <td>67416.750000</td>\n",
       "      <td>71071.875000</td>\n",
       "      <td>4889.557224</td>\n",
       "      <td>42507.750000</td>\n",
       "      <td>81428.062500</td>\n",
       "      <td>2.074160</td>\n",
       "      <td>2.137551</td>\n",
       "    </tr>\n",
       "    <tr>\n",
       "      <th>3</th>\n",
       "      <td>191</td>\n",
       "      <td>0.683184</td>\n",
       "      <td>150684.231441</td>\n",
       "      <td>41.059555</td>\n",
       "      <td>0.646605</td>\n",
       "      <td>108.751222</td>\n",
       "      <td>19440.135711</td>\n",
       "      <td>120.465067</td>\n",
       "      <td>15551.672444</td>\n",
       "      <td>43.245158</td>\n",
       "      <td>...</td>\n",
       "      <td>102.319481</td>\n",
       "      <td>58658.037807</td>\n",
       "      <td>114963.373894</td>\n",
       "      <td>103040.360091</td>\n",
       "      <td>103040.360091</td>\n",
       "      <td>6097.426044</td>\n",
       "      <td>93230.790206</td>\n",
       "      <td>151888.828014</td>\n",
       "      <td>2.322868</td>\n",
       "      <td>2.354578</td>\n",
       "    </tr>\n",
       "    <tr>\n",
       "      <th>4</th>\n",
       "      <td>109</td>\n",
       "      <td>0.720003</td>\n",
       "      <td>151871.007812</td>\n",
       "      <td>38.089976</td>\n",
       "      <td>0.664806</td>\n",
       "      <td>100.842777</td>\n",
       "      <td>18885.775024</td>\n",
       "      <td>102.946360</td>\n",
       "      <td>13585.015101</td>\n",
       "      <td>44.172514</td>\n",
       "      <td>...</td>\n",
       "      <td>89.894066</td>\n",
       "      <td>42440.062500</td>\n",
       "      <td>135239.625000</td>\n",
       "      <td>111413.625000</td>\n",
       "      <td>126507.937500</td>\n",
       "      <td>15817.902632</td>\n",
       "      <td>111007.500000</td>\n",
       "      <td>153447.562500</td>\n",
       "      <td>2.048207</td>\n",
       "      <td>2.335396</td>\n",
       "    </tr>\n",
       "  </tbody>\n",
       "</table>\n",
       "<p>5 rows × 26 columns</p>\n",
       "</div>"
      ],
      "text/plain": [
       "  patient_id  mean_original_shape_Sphericity  max_original_shape_MeshVolume  \\\n",
       "0        153                        0.748110                  104904.343750   \n",
       "1        154                        0.760355                  128671.117188   \n",
       "2        162                        0.718751                   80063.031250   \n",
       "3        191                        0.683184                  150684.231441   \n",
       "4        109                        0.720003                  151871.007812   \n",
       "\n",
       "   mean_original_shape_LeastAxisLength  min_original_shape_Sphericity  \\\n",
       "0                            35.280432                       0.723153   \n",
       "1                            40.655252                       0.732408   \n",
       "2                            33.123916                       0.677365   \n",
       "3                            41.059555                       0.646605   \n",
       "4                            38.089976                       0.664806   \n",
       "\n",
       "   max_original_shape_Maximum2DDiameterColumn  \\\n",
       "0                                   89.494501   \n",
       "1                                   91.242209   \n",
       "2                                   82.547808   \n",
       "3                                  108.751222   \n",
       "4                                  100.842777   \n",
       "\n",
       "   ed_val_original_shape_SurfaceArea  ed_val_original_shape_Maximum3DDiameter  \\\n",
       "0                       14611.078910                                93.411054   \n",
       "1                       15848.950767                                92.011718   \n",
       "2                       12633.063217                                85.237261   \n",
       "3                       19440.135711                               120.465067   \n",
       "4                       18885.775024                               102.946360   \n",
       "\n",
       "   mean_original_shape_SurfaceArea  median_original_shape_MinorAxisLength  \\\n",
       "0                     10936.135230                              39.435757   \n",
       "1                     12814.214611                              47.963631   \n",
       "2                      9945.222198                              37.743858   \n",
       "3                     15551.672444                              43.245158   \n",
       "4                     13585.015101                              44.172514   \n",
       "\n",
       "   ...  ed_val_original_shape_MajorAxisLength  min_original_shape_VoxelVolume  \\\n",
       "0  ...                              79.810201                    39664.875000   \n",
       "1  ...                              80.581778                    46027.500000   \n",
       "2  ...                              76.028604                    38920.312500   \n",
       "3  ...                             102.319481                    58658.037807   \n",
       "4  ...                              89.894066                    42440.062500   \n",
       "\n",
       "    lvmc_vol_max   lvmc_vol_min    lvmc_vol_ed        lv_std  stroke_volume  \\\n",
       "0   85489.312500   73305.562500   85015.500000   7965.467931   66604.500000   \n",
       "1  109586.062500   94762.500000  103155.750000   9425.673423   84000.187500   \n",
       "2   75674.625000   67416.750000   71071.875000   4889.557224   42507.750000   \n",
       "3  114963.373894  103040.360091  103040.360091   6097.426044   93230.790206   \n",
       "4  135239.625000  111413.625000  126507.937500  15817.902632  111007.500000   \n",
       "\n",
       "       lv_vol_ed  lv_min_slope  lvmc_min_slope  \n",
       "0  106269.375000      1.963456        2.224151  \n",
       "1  130027.687500      2.186582        2.288623  \n",
       "2   81428.062500      2.074160        2.137551  \n",
       "3  151888.828014      2.322868        2.354578  \n",
       "4  153447.562500      2.048207        2.335396  \n",
       "\n",
       "[5 rows x 26 columns]"
      ]
     },
     "execution_count": 74,
     "metadata": {},
     "output_type": "execute_result"
    }
   ],
   "source": [
    "important_features_df = pd.merge(important_features_df, fractals_3d_df_imp, on=\"patient_id\", how=\"left\")\n",
    "important_features_df.head()"
   ]
  },
  {
   "cell_type": "code",
   "execution_count": 75,
   "id": "11edf6b0-320d-47ba-b9f0-2ff990ba74cf",
   "metadata": {},
   "outputs": [
    {
     "data": {
      "text/plain": [
       "(51, 26)"
      ]
     },
     "execution_count": 75,
     "metadata": {},
     "output_type": "execute_result"
    }
   ],
   "source": [
    "important_features_df = important_features_df[~important_features_df['patient_id'].isin(low_lv_ef)].copy(deep=True)\n",
    "important_features_df.shape"
   ]
  },
  {
   "cell_type": "code",
   "execution_count": 76,
   "id": "3debe81e-0fa0-4505-8316-19616c08a43c",
   "metadata": {},
   "outputs": [
    {
     "data": {
      "text/plain": [
       "Index(['patient_id', 'mean_original_shape_Sphericity',\n",
       "       'max_original_shape_MeshVolume', 'mean_original_shape_LeastAxisLength',\n",
       "       'min_original_shape_Sphericity',\n",
       "       'max_original_shape_Maximum2DDiameterColumn',\n",
       "       'ed_val_original_shape_SurfaceArea',\n",
       "       'ed_val_original_shape_Maximum3DDiameter',\n",
       "       'mean_original_shape_SurfaceArea',\n",
       "       'median_original_shape_MinorAxisLength',\n",
       "       'max_original_shape_SurfaceArea',\n",
       "       'max_original_shape_Maximum2DDiameterRow',\n",
       "       'mean_original_shape_Maximum3DDiameter',\n",
       "       'median_original_shape_SurfaceVolumeRatio',\n",
       "       'median_original_shape_Sphericity', 'es_val_original_shape_Sphericity',\n",
       "       'ed_val_original_shape_MajorAxisLength',\n",
       "       'min_original_shape_VoxelVolume', 'lvmc_vol_max', 'lvmc_vol_min',\n",
       "       'lvmc_vol_ed', 'lv_std', 'stroke_volume', 'lv_vol_ed', 'lv_min_slope',\n",
       "       'lvmc_min_slope'],\n",
       "      dtype='object')"
      ]
     },
     "execution_count": 76,
     "metadata": {},
     "output_type": "execute_result"
    }
   ],
   "source": [
    "important_features_columns = important_features_df.columns\n",
    "important_features_columns"
   ]
  },
  {
   "cell_type": "code",
   "execution_count": 77,
   "id": "cd6f5ade-ca31-4caf-95f8-8a20d553a988",
   "metadata": {},
   "outputs": [],
   "source": [
    "numerical_columns = important_features_columns.drop('patient_id').values\n",
    "important_features_df_scaled = important_features_df.copy(deep=True)\n",
    "important_features_df_scaled[numerical_columns] = scaler.fit_transform(important_features_df[numerical_columns])"
   ]
  },
  {
   "cell_type": "code",
   "execution_count": 78,
   "id": "34776ef8-1d8f-4c01-ba2a-dd93100da0d5",
   "metadata": {},
   "outputs": [
    {
     "data": {
      "text/plain": [
       "<AxesSubplot:>"
      ]
     },
     "execution_count": 78,
     "metadata": {},
     "output_type": "execute_result"
    },
    {
     "data": {
      "image/png": "[encoded data removed]",
      "text/plain": [
       "<Figure size 432x288 with 1 Axes>"
      ]
     },
     "metadata": {
      "needs_background": "light"
     },
     "output_type": "display_data"
    }
   ],
   "source": [
    "important_features_df_scaled.boxplot(column = list(numerical_columns)[0:4])"
   ]
  },
  {
   "cell_type": "code",
   "execution_count": 79,
   "id": "80ceb01a-6e84-412e-b482-cf33203e8618",
   "metadata": {},
   "outputs": [
    {
     "data": {
      "text/plain": [
       "<AxesSubplot:>"
      ]
     },
     "execution_count": 79,
     "metadata": {},
     "output_type": "execute_result"
    },
    {
     "data": {
      "image/png": "[encoded data removed]",
      "text/plain": [
       "<Figure size 432x288 with 1 Axes>"
      ]
     },
     "metadata": {
      "needs_background": "light"
     },
     "output_type": "display_data"
    }
   ],
   "source": [
    "important_features_df_scaled.boxplot(column = list(numerical_columns)[4:8])"
   ]
  },
  {
   "cell_type": "code",
   "execution_count": 81,
   "id": "0cc79be0-5f64-4293-b21b-75e2d219fb6a",
   "metadata": {},
   "outputs": [],
   "source": [
    "vo2_max = []\n",
    "num_rows = important_features_df.shape[0]\n",
    "for n in range(num_rows):\n",
    "    pid = important_features_df.iloc[n]['patient_id']\n",
    "    num_pid = int(pid[0:3])\n",
    "    cpet_record = cpet_data[cpet_data['Record ID'].values == num_pid]\n",
    "    vo2_max.append((pid,cpet_record['VO2 (MAX):'].values[0],\\\n",
    "                               cpet_record['dyspnea'].values[0],\\\n",
    "                          cpet_record['PetCO2.2'].values[0]))"
   ]
  },
  {
   "cell_type": "code",
   "execution_count": 82,
   "id": "c9eb23b7-6588-4cf5-ae35-b08e136f3f2f",
   "metadata": {},
   "outputs": [],
   "source": [
    "important_features_df['pkvo2'] = [ent[1] for ent in vo2_max]\n",
    "important_features_df['dyspnea'] = [ent[2] for ent in vo2_max]\n",
    "important_features_df['petco2'] = [ent[3] for ent in vo2_max]"
   ]
  },
  {
   "cell_type": "code",
   "execution_count": 83,
   "id": "99c52128-de87-4954-9f01-d246af597495",
   "metadata": {},
   "outputs": [
    {
     "data": {
      "text/html": [
       "<div>\n",
       "<style scoped>\n",
       "    .dataframe tbody tr th:only-of-type {\n",
       "        vertical-align: middle;\n",
       "    }\n",
       "\n",
       "    .dataframe tbody tr th {\n",
       "        vertical-align: top;\n",
       "    }\n",
       "\n",
       "    .dataframe thead th {\n",
       "        text-align: right;\n",
       "    }\n",
       "</style>\n",
       "<table border=\"1\" class=\"dataframe\">\n",
       "  <thead>\n",
       "    <tr style=\"text-align: right;\">\n",
       "      <th></th>\n",
       "      <th>patient_id</th>\n",
       "      <th>mean_original_shape_Sphericity</th>\n",
       "      <th>max_original_shape_MeshVolume</th>\n",
       "      <th>mean_original_shape_LeastAxisLength</th>\n",
       "      <th>min_original_shape_Sphericity</th>\n",
       "      <th>max_original_shape_Maximum2DDiameterColumn</th>\n",
       "      <th>ed_val_original_shape_SurfaceArea</th>\n",
       "      <th>ed_val_original_shape_Maximum3DDiameter</th>\n",
       "      <th>mean_original_shape_SurfaceArea</th>\n",
       "      <th>median_original_shape_MinorAxisLength</th>\n",
       "      <th>...</th>\n",
       "      <th>lvmc_vol_min</th>\n",
       "      <th>lvmc_vol_ed</th>\n",
       "      <th>lv_std</th>\n",
       "      <th>stroke_volume</th>\n",
       "      <th>lv_vol_ed</th>\n",
       "      <th>lv_min_slope</th>\n",
       "      <th>lvmc_min_slope</th>\n",
       "      <th>pkvo2</th>\n",
       "      <th>dyspnea</th>\n",
       "      <th>petco2</th>\n",
       "    </tr>\n",
       "  </thead>\n",
       "  <tbody>\n",
       "    <tr>\n",
       "      <th>0</th>\n",
       "      <td>153</td>\n",
       "      <td>0.748110</td>\n",
       "      <td>104904.343750</td>\n",
       "      <td>35.280432</td>\n",
       "      <td>0.723153</td>\n",
       "      <td>89.494501</td>\n",
       "      <td>14611.078910</td>\n",
       "      <td>93.411054</td>\n",
       "      <td>10936.135230</td>\n",
       "      <td>39.435757</td>\n",
       "      <td>...</td>\n",
       "      <td>73305.562500</td>\n",
       "      <td>85015.500000</td>\n",
       "      <td>7965.467931</td>\n",
       "      <td>66604.500000</td>\n",
       "      <td>106269.375000</td>\n",
       "      <td>1.963456</td>\n",
       "      <td>2.224151</td>\n",
       "      <td>1.14</td>\n",
       "      <td>1.0</td>\n",
       "      <td>22.0</td>\n",
       "    </tr>\n",
       "    <tr>\n",
       "      <th>1</th>\n",
       "      <td>154</td>\n",
       "      <td>0.760355</td>\n",
       "      <td>128671.117188</td>\n",
       "      <td>40.655252</td>\n",
       "      <td>0.732408</td>\n",
       "      <td>91.242209</td>\n",
       "      <td>15848.950767</td>\n",
       "      <td>92.011718</td>\n",
       "      <td>12814.214611</td>\n",
       "      <td>47.963631</td>\n",
       "      <td>...</td>\n",
       "      <td>94762.500000</td>\n",
       "      <td>103155.750000</td>\n",
       "      <td>9425.673423</td>\n",
       "      <td>84000.187500</td>\n",
       "      <td>130027.687500</td>\n",
       "      <td>2.186582</td>\n",
       "      <td>2.288623</td>\n",
       "      <td>1.87</td>\n",
       "      <td>0.0</td>\n",
       "      <td>30.0</td>\n",
       "    </tr>\n",
       "    <tr>\n",
       "      <th>2</th>\n",
       "      <td>162</td>\n",
       "      <td>0.718751</td>\n",
       "      <td>80063.031250</td>\n",
       "      <td>33.123916</td>\n",
       "      <td>0.677365</td>\n",
       "      <td>82.547808</td>\n",
       "      <td>12633.063217</td>\n",
       "      <td>85.237261</td>\n",
       "      <td>9945.222198</td>\n",
       "      <td>37.743858</td>\n",
       "      <td>...</td>\n",
       "      <td>67416.750000</td>\n",
       "      <td>71071.875000</td>\n",
       "      <td>4889.557224</td>\n",
       "      <td>42507.750000</td>\n",
       "      <td>81428.062500</td>\n",
       "      <td>2.074160</td>\n",
       "      <td>2.137551</td>\n",
       "      <td>0.59</td>\n",
       "      <td>1.0</td>\n",
       "      <td>14.0</td>\n",
       "    </tr>\n",
       "    <tr>\n",
       "      <th>3</th>\n",
       "      <td>191</td>\n",
       "      <td>0.683184</td>\n",
       "      <td>150684.231441</td>\n",
       "      <td>41.059555</td>\n",
       "      <td>0.646605</td>\n",
       "      <td>108.751222</td>\n",
       "      <td>19440.135711</td>\n",
       "      <td>120.465067</td>\n",
       "      <td>15551.672444</td>\n",
       "      <td>43.245158</td>\n",
       "      <td>...</td>\n",
       "      <td>103040.360091</td>\n",
       "      <td>103040.360091</td>\n",
       "      <td>6097.426044</td>\n",
       "      <td>93230.790206</td>\n",
       "      <td>151888.828014</td>\n",
       "      <td>2.322868</td>\n",
       "      <td>2.354578</td>\n",
       "      <td>1.67</td>\n",
       "      <td>1.0</td>\n",
       "      <td>36.0</td>\n",
       "    </tr>\n",
       "    <tr>\n",
       "      <th>4</th>\n",
       "      <td>109</td>\n",
       "      <td>0.720003</td>\n",
       "      <td>151871.007812</td>\n",
       "      <td>38.089976</td>\n",
       "      <td>0.664806</td>\n",
       "      <td>100.842777</td>\n",
       "      <td>18885.775024</td>\n",
       "      <td>102.946360</td>\n",
       "      <td>13585.015101</td>\n",
       "      <td>44.172514</td>\n",
       "      <td>...</td>\n",
       "      <td>111413.625000</td>\n",
       "      <td>126507.937500</td>\n",
       "      <td>15817.902632</td>\n",
       "      <td>111007.500000</td>\n",
       "      <td>153447.562500</td>\n",
       "      <td>2.048207</td>\n",
       "      <td>2.335396</td>\n",
       "      <td>1.23</td>\n",
       "      <td>1.0</td>\n",
       "      <td>27.0</td>\n",
       "    </tr>\n",
       "  </tbody>\n",
       "</table>\n",
       "<p>5 rows × 29 columns</p>\n",
       "</div>"
      ],
      "text/plain": [
       "  patient_id  mean_original_shape_Sphericity  max_original_shape_MeshVolume  \\\n",
       "0        153                        0.748110                  104904.343750   \n",
       "1        154                        0.760355                  128671.117188   \n",
       "2        162                        0.718751                   80063.031250   \n",
       "3        191                        0.683184                  150684.231441   \n",
       "4        109                        0.720003                  151871.007812   \n",
       "\n",
       "   mean_original_shape_LeastAxisLength  min_original_shape_Sphericity  \\\n",
       "0                            35.280432                       0.723153   \n",
       "1                            40.655252                       0.732408   \n",
       "2                            33.123916                       0.677365   \n",
       "3                            41.059555                       0.646605   \n",
       "4                            38.089976                       0.664806   \n",
       "\n",
       "   max_original_shape_Maximum2DDiameterColumn  \\\n",
       "0                                   89.494501   \n",
       "1                                   91.242209   \n",
       "2                                   82.547808   \n",
       "3                                  108.751222   \n",
       "4                                  100.842777   \n",
       "\n",
       "   ed_val_original_shape_SurfaceArea  ed_val_original_shape_Maximum3DDiameter  \\\n",
       "0                       14611.078910                                93.411054   \n",
       "1                       15848.950767                                92.011718   \n",
       "2                       12633.063217                                85.237261   \n",
       "3                       19440.135711                               120.465067   \n",
       "4                       18885.775024                               102.946360   \n",
       "\n",
       "   mean_original_shape_SurfaceArea  median_original_shape_MinorAxisLength  \\\n",
       "0                     10936.135230                              39.435757   \n",
       "1                     12814.214611                              47.963631   \n",
       "2                      9945.222198                              37.743858   \n",
       "3                     15551.672444                              43.245158   \n",
       "4                     13585.015101                              44.172514   \n",
       "\n",
       "   ...   lvmc_vol_min    lvmc_vol_ed        lv_std  stroke_volume  \\\n",
       "0  ...   73305.562500   85015.500000   7965.467931   66604.500000   \n",
       "1  ...   94762.500000  103155.750000   9425.673423   84000.187500   \n",
       "2  ...   67416.750000   71071.875000   4889.557224   42507.750000   \n",
       "3  ...  103040.360091  103040.360091   6097.426044   93230.790206   \n",
       "4  ...  111413.625000  126507.937500  15817.902632  111007.500000   \n",
       "\n",
       "       lv_vol_ed  lv_min_slope  lvmc_min_slope  pkvo2  dyspnea  petco2  \n",
       "0  106269.375000      1.963456        2.224151   1.14      1.0    22.0  \n",
       "1  130027.687500      2.186582        2.288623   1.87      0.0    30.0  \n",
       "2   81428.062500      2.074160        2.137551   0.59      1.0    14.0  \n",
       "3  151888.828014      2.322868        2.354578   1.67      1.0    36.0  \n",
       "4  153447.562500      2.048207        2.335396   1.23      1.0    27.0  \n",
       "\n",
       "[5 rows x 29 columns]"
      ]
     },
     "execution_count": 83,
     "metadata": {},
     "output_type": "execute_result"
    }
   ],
   "source": [
    "important_features_df.head()"
   ]
  },
  {
   "cell_type": "code",
   "execution_count": 84,
   "id": "99ad66c2-06b9-412f-b26f-c78b2b4c71f2",
   "metadata": {},
   "outputs": [
    {
     "name": "stdout",
     "output_type": "stream",
     "text": [
      "significant features: \n",
      "(feature name, R^2, p-value)\n",
      "\n",
      "('lvmc_vol_min', 0.279, 6.8e-05)\n",
      "('min_original_shape_VoxelVolume', 0.263, 0.00012)\n",
      "('lvmc_vol_ed', 0.255, 0.000157)\n",
      "('median_original_shape_SurfaceVolumeRatio', 0.246, 0.000217)\n",
      "('lv_vol_ed', 0.234, 0.000323)\n",
      "('max_original_shape_MeshVolume', 0.232, 0.000341)\n",
      "('mean_original_shape_LeastAxisLength', 0.218, 0.000555)\n",
      "('median_original_shape_MinorAxisLength', 0.218, 0.000558)\n",
      "('lvmc_vol_max', 0.211, 0.000693)\n",
      "('mean_original_shape_SurfaceArea', 0.201, 0.000962)\n",
      "('ed_val_original_shape_SurfaceArea', 0.187, 0.001529)\n",
      "('ed_val_original_shape_Maximum3DDiameter', 0.185, 0.001642)\n",
      "('max_original_shape_Maximum2DDiameterColumn', 0.183, 0.001734)\n",
      "('max_original_shape_SurfaceArea', 0.178, 0.002041)\n",
      "('mean_original_shape_Maximum3DDiameter', 0.158, 0.003931)\n",
      "('max_original_shape_Maximum2DDiameterRow', 0.14, 0.006786)\n",
      "('ed_val_original_shape_MajorAxisLength', 0.105, 0.020087)\n"
     ]
    }
   ],
   "source": [
    "response = important_features_df['pkvo2'] \n",
    "predictors = numerical_columns\n",
    "pearson_r_vals = []\n",
    "for predictor in predictors:\n",
    "    pearson_val = pearsonr(important_features_df[predictor],response)\n",
    "    pearson_r_vals.append((predictor, round(pearson_val[0]**2,3), round(pearson_val[1],6)))\n",
    "print('significant features: \\n(feature name, R^2, p-value)\\n')\n",
    "[print(ent) for ent in sorted(pearson_r_vals, key=lambda x: x[1], reverse=True) if ent[1] > 0.1];"
   ]
  },
  {
   "cell_type": "code",
   "execution_count": 85,
   "id": "6c416d48-3485-4068-ac73-af8f9faee3df",
   "metadata": {},
   "outputs": [
    {
     "data": {
      "image/png": "[encoded data removed]",
      "text/plain": [
       "<Figure size 432x288 with 2 Axes>"
      ]
     },
     "metadata": {
      "needs_background": "light"
     },
     "output_type": "display_data"
    }
   ],
   "source": [
    "sns.heatmap(important_features_df[[ent[0] for ent in sorted(pearson_r_vals, key=lambda x: x[1], reverse=True) \\\n",
    "                                   if ent[1] > 0.1]].corr(),cmap = 'RdBu', center = 0.0);"
   ]
  },
  {
   "cell_type": "code",
   "execution_count": 86,
   "id": "d6262f60-58fe-4474-9bf4-924c6bccee8b",
   "metadata": {},
   "outputs": [
    {
     "name": "stdout",
     "output_type": "stream",
     "text": [
      "VIF values: (feature, value)\n",
      "\n",
      "median_original_shape_SurfaceVolumeRatio 1.6\n",
      "lvmc_vol_min 1.6\n"
     ]
    }
   ],
   "source": [
    "important_features_subset = ['lvmc_vol_min', 'median_original_shape_SurfaceVolumeRatio']\n",
    "vif_values = [vif(important_features_df_scaled[important_features_subset].values, i) for i in range(len(important_features_subset))]\n",
    "vif_feat_vals = {important_features_subset[ind]: vals for ind,vals in enumerate(vif_values)}\n",
    "vif_feat_vals = sorted(vif_feat_vals.items(), key = lambda item: item[1], reverse = True)\n",
    "print('VIF values: (feature, value)\\n')\n",
    "[print(ent[0], round(ent[1],3)) for ent in vif_feat_vals];"
   ]
  },
  {
   "cell_type": "code",
   "execution_count": 87,
   "id": "fdd3d8b9-bec2-4027-8916-74085c0b5f74",
   "metadata": {},
   "outputs": [],
   "source": [
    "multivariate_x = important_features_df_scaled[important_features_subset]\n",
    "multivariate_y = important_features_df[['pkvo2']]"
   ]
  },
  {
   "cell_type": "code",
   "execution_count": 88,
   "id": "b4cf70dd-dfc7-4da2-877e-e2e183f28e5b",
   "metadata": {},
   "outputs": [
    {
     "name": "stdout",
     "output_type": "stream",
     "text": [
      "R^2 score = 0.383\n"
     ]
    }
   ],
   "source": [
    "reg = LinearRegression().fit(multivariate_x, multivariate_y)\n",
    "print('R^2 score =',round(reg.score(multivariate_x, multivariate_y),3))"
   ]
  },
  {
   "cell_type": "code",
   "execution_count": 89,
   "id": "1fae0a63-5971-4cfc-b089-7cb2d27d6732",
   "metadata": {},
   "outputs": [],
   "source": [
    "data = pd.DataFrame({'x0': multivariate_x[important_features_subset[0]], \\\n",
    "                     'x1': multivariate_x[important_features_subset[1]], \\\n",
    "                     'y': multivariate_y.pkvo2.values})"
   ]
  },
  {
   "cell_type": "code",
   "execution_count": 90,
   "id": "509cd3d1-e5dc-4e9f-acee-59dd63af72f9",
   "metadata": {},
   "outputs": [
    {
     "name": "stdout",
     "output_type": "stream",
     "text": [
      "                            OLS Regression Results                            \n",
      "==============================================================================\n",
      "Dep. Variable:                      y   R-squared:                       0.383\n",
      "Model:                            OLS   Adj. R-squared:                  0.358\n",
      "Method:                 Least Squares   F-statistic:                     14.92\n",
      "Date:                Mon, 25 Jul 2022   Prob (F-statistic):           9.15e-06\n",
      "Time:                        10:24:32   Log-Likelihood:                -33.424\n",
      "No. Observations:                  51   AIC:                             72.85\n",
      "Df Residuals:                      48   BIC:                             78.64\n",
      "Df Model:                           2                                         \n",
      "Covariance Type:            nonrobust                                         \n",
      "==============================================================================\n",
      "                 coef    std err          t      P>|t|      [0.025      0.975]\n",
      "------------------------------------------------------------------------------\n",
      "Intercept      1.7620      0.204      8.650      0.000       1.352       2.172\n",
      "x0             1.1758      0.359      3.273      0.002       0.454       1.898\n",
      "x1            -0.9048      0.318     -2.848      0.006      -1.544      -0.266\n",
      "==============================================================================\n",
      "Omnibus:                        0.526   Durbin-Watson:                   2.285\n",
      "Prob(Omnibus):                  0.769   Jarque-Bera (JB):                0.317\n",
      "Skew:                          -0.193   Prob(JB):                        0.854\n",
      "Kurtosis:                       2.974   Cond. No.                         7.35\n",
      "==============================================================================\n",
      "\n",
      "Notes:\n",
      "[1] Standard Errors assume that the covariance matrix of the errors is correctly specified.\n"
     ]
    }
   ],
   "source": [
    "model = ols(\"y ~ x0 + x1 \", data).fit()\n",
    "print(model.summary())"
   ]
  },
  {
   "cell_type": "code",
   "execution_count": 91,
   "id": "33eac8f8-6d32-4896-b9d3-a0eaccad75d0",
   "metadata": {},
   "outputs": [
    {
     "name": "stdout",
     "output_type": "stream",
     "text": [
      "significant features: \n",
      "(feature name, R^2, p-value)\n",
      "\n",
      "('max_original_shape_Maximum2DDiameterRow', 0.409, 1e-06)\n",
      "('ed_val_original_shape_Maximum3DDiameter', 0.382, 2e-06)\n",
      "('mean_original_shape_Maximum3DDiameter', 0.337, 1e-05)\n",
      "('max_original_shape_MeshVolume', 0.321, 1.8e-05)\n",
      "('lv_vol_ed', 0.321, 1.8e-05)\n",
      "('max_original_shape_Maximum2DDiameterColumn', 0.314, 2.3e-05)\n",
      "('ed_val_original_shape_MajorAxisLength', 0.289, 5.7e-05)\n",
      "('ed_val_original_shape_SurfaceArea', 0.277, 8.7e-05)\n",
      "('max_original_shape_SurfaceArea', 0.277, 8.6e-05)\n",
      "('mean_original_shape_SurfaceArea', 0.242, 0.000287)\n",
      "('stroke_volume', 0.238, 0.000328)\n",
      "('mean_original_shape_LeastAxisLength', 0.201, 0.001103)\n",
      "('min_original_shape_VoxelVolume', 0.184, 0.001898)\n",
      "('median_original_shape_SurfaceVolumeRatio', 0.18, 0.002129)\n",
      "('lvmc_vol_max', 0.151, 0.005288)\n",
      "('median_original_shape_MinorAxisLength', 0.15, 0.005466)\n",
      "('lvmc_vol_min', 0.141, 0.007303)\n",
      "('lvmc_vol_ed', 0.13, 0.010188)\n",
      "('lv_min_slope', 0.112, 0.017418)\n"
     ]
    }
   ],
   "source": [
    "response = important_features_df[~important_features_df_scaled['patient_id'].isin(null_petco2_pids)]['petco2'] \n",
    "predictors = numerical_columns\n",
    "pearson_r_vals = []\n",
    "for predictor in predictors:\n",
    "    pearson_val = pearsonr(important_features_df[~important_features_df_scaled['patient_id'].isin(null_petco2_pids)][predictor],response)\n",
    "    pearson_r_vals.append((predictor, round(pearson_val[0]**2,3), round(pearson_val[1],6)))\n",
    "print('significant features: \\n(feature name, R^2, p-value)\\n')\n",
    "[print(ent) for ent in sorted(pearson_r_vals, key=lambda x: x[1], reverse=True) if ent[1] > 0.1];"
   ]
  },
  {
   "cell_type": "code",
   "execution_count": 92,
   "id": "251078a1-4c1d-4660-a8df-a099c0ab7e30",
   "metadata": {},
   "outputs": [
    {
     "data": {
      "image/png": "[encoded data removed]",
      "text/plain": [
       "<Figure size 432x288 with 2 Axes>"
      ]
     },
     "metadata": {
      "needs_background": "light"
     },
     "output_type": "display_data"
    }
   ],
   "source": [
    "sns.heatmap(important_features_df[[ent[0] for ent in sorted(pearson_r_vals, key=lambda x: x[1], reverse=True) \\\n",
    "                                   if ent[1] > 0.1]].corr(),cmap = 'RdBu', center = 0.0);"
   ]
  },
  {
   "cell_type": "code",
   "execution_count": 93,
   "id": "3ecb9781-9ec8-4ba0-9392-5e8e2ae91283",
   "metadata": {},
   "outputs": [
    {
     "name": "stdout",
     "output_type": "stream",
     "text": [
      "VIF values: (feature, value)\n",
      "\n",
      "max_original_shape_Maximum2DDiameterRow 1.839\n",
      "median_original_shape_SurfaceVolumeRatio 1.839\n"
     ]
    }
   ],
   "source": [
    "important_features_subset = ['max_original_shape_Maximum2DDiameterRow', 'median_original_shape_SurfaceVolumeRatio']\n",
    "vif_values = [vif(important_features_df_scaled[important_features_subset].values, i) for i in range(len(important_features_subset))]\n",
    "vif_feat_vals = {important_features_subset[ind]: vals for ind,vals in enumerate(vif_values)}\n",
    "vif_feat_vals = sorted(vif_feat_vals.items(), key = lambda item: item[1], reverse = True)\n",
    "print('VIF values: (feature, value)\\n')\n",
    "[print(ent[0], round(ent[1],3)) for ent in vif_feat_vals];"
   ]
  },
  {
   "cell_type": "code",
   "execution_count": 94,
   "id": "52e81d60-9b3f-463f-be51-5a957b61521e",
   "metadata": {},
   "outputs": [],
   "source": [
    "multivariate_x = important_features_df_scaled[~important_features_df_scaled['patient_id'].isin(null_petco2_pids)][important_features_subset]\n",
    "multivariate_y = important_features_df[~important_features_df_scaled['patient_id'].isin(null_petco2_pids)][['petco2']]"
   ]
  },
  {
   "cell_type": "code",
   "execution_count": 95,
   "id": "32e859bb-2edb-4b54-86af-260f92a30106",
   "metadata": {},
   "outputs": [
    {
     "name": "stdout",
     "output_type": "stream",
     "text": [
      "R^2 score = 0.498\n"
     ]
    }
   ],
   "source": [
    "reg = LinearRegression().fit(multivariate_x, multivariate_y)\n",
    "print('R^2 score =',round(reg.score(multivariate_x, multivariate_y),3))"
   ]
  },
  {
   "cell_type": "code",
   "execution_count": 96,
   "id": "94a44136-9c9b-448e-9737-8927c78eba39",
   "metadata": {},
   "outputs": [],
   "source": [
    "data = pd.DataFrame({'x0': multivariate_x[important_features_subset[0]], \\\n",
    "                     'x1': multivariate_x[important_features_subset[1]], \\\n",
    "                     #'x2': multivariate_x[important_features_subset[2]], \\\n",
    "                     #'x3': multivariate_x[important_features_subset[3]], \\\n",
    "                     'y': multivariate_y.petco2.values})"
   ]
  },
  {
   "cell_type": "code",
   "execution_count": 97,
   "id": "05849b9d-a6f5-496c-99e8-02fff0d70bcb",
   "metadata": {},
   "outputs": [
    {
     "name": "stdout",
     "output_type": "stream",
     "text": [
      "                            OLS Regression Results                            \n",
      "==============================================================================\n",
      "Dep. Variable:                      y   R-squared:                       0.498\n",
      "Model:                            OLS   Adj. R-squared:                  0.476\n",
      "Method:                 Least Squares   F-statistic:                     23.27\n",
      "Date:                Mon, 25 Jul 2022   Prob (F-statistic):           9.45e-08\n",
      "Time:                        10:25:07   Log-Likelihood:                -142.85\n",
      "No. Observations:                  50   AIC:                             291.7\n",
      "Df Residuals:                      47   BIC:                             297.4\n",
      "Df Model:                           2                                         \n",
      "Covariance Type:            nonrobust                                         \n",
      "==============================================================================\n",
      "                 coef    std err          t      P>|t|      [0.025      0.975]\n",
      "------------------------------------------------------------------------------\n",
      "Intercept     24.2358      1.740     13.927      0.000      20.735      27.737\n",
      "x0            15.2284      2.794      5.450      0.000       9.607      20.850\n",
      "x1            -7.8767      2.730     -2.885      0.006     -13.369      -2.385\n",
      "==============================================================================\n",
      "Omnibus:                        1.668   Durbin-Watson:                   2.405\n",
      "Prob(Omnibus):                  0.434   Jarque-Bera (JB):                0.866\n",
      "Skew:                          -0.062   Prob(JB):                        0.648\n",
      "Kurtosis:                       3.633   Cond. No.                         6.41\n",
      "==============================================================================\n",
      "\n",
      "Notes:\n",
      "[1] Standard Errors assume that the covariance matrix of the errors is correctly specified.\n"
     ]
    }
   ],
   "source": [
    "model = ols(\"y ~ x0 + x1\", data).fit()\n",
    "print(model.summary())"
   ]
  },
  {
   "cell_type": "markdown",
   "id": "9b85a222-fb76-405c-9212-46f6a7583492",
   "metadata": {},
   "source": [
    "### Hierarchical clustering"
   ]
  },
  {
   "cell_type": "code",
   "execution_count": 98,
   "id": "bebfb910-ca0a-4615-8a4e-fada05d31b5a",
   "metadata": {},
   "outputs": [],
   "source": [
    "from scipy.cluster.hierarchy import dendrogram\n",
    "from sklearn.cluster import AgglomerativeClustering\n",
    "from matplotlib.pyplot import figure"
   ]
  },
  {
   "cell_type": "code",
   "execution_count": 99,
   "id": "3eb2a134-13d4-4e72-a081-98c5a27a8694",
   "metadata": {},
   "outputs": [],
   "source": [
    "def plot_dendrogram(model, **kwargs):\n",
    "    # Create linkage matrix and then plot the dendrogram\n",
    "\n",
    "    # create the counts of samples under each node\n",
    "    counts = np.zeros(model.children_.shape[0])\n",
    "    n_samples = len(model.labels_)\n",
    "    for i, merge in enumerate(model.children_):\n",
    "        current_count = 0\n",
    "        for child_idx in merge:\n",
    "            if child_idx < n_samples:\n",
    "                current_count += 1  # leaf node\n",
    "            else:\n",
    "                current_count += counts[child_idx - n_samples]\n",
    "        counts[i] = current_count\n",
    "\n",
    "    linkage_matrix = np.column_stack(\n",
    "        [model.children_, model.distances_, counts]\n",
    "    ).astype(float)\n",
    "\n",
    "    # Plot the corresponding dendrogram\n",
    "    dendrogram(linkage_matrix, leaf_font_size = 12, leaf_rotation = 0)\n",
    "    return linkage_matrix"
   ]
  },
  {
   "cell_type": "code",
   "execution_count": 200,
   "id": "accb6829-e5c7-4ac1-b0e5-c941cd193c3e",
   "metadata": {},
   "outputs": [],
   "source": [
    "important_features_subset_shortlist =['lvmc_vol_min', 'median_original_shape_SurfaceVolumeRatio',\\\n",
    "            'max_original_shape_Maximum2DDiameterRow', \\\n",
    "            'lvmc_vol_ed', 'lv_std',\\\n",
    "            'min_original_shape_Sphericity',\n",
    " 'max_original_shape_SurfaceArea',\n",
    " 'mean_original_shape_Sphericity',\n",
    " 'mean_original_shape_SurfaceArea',\n",
    " 'median_original_shape_Sphericity',\n",
    " 'es_val_original_shape_Sphericity',\n",
    " 'ed_val_original_shape_SurfaceArea',\n",
    " 'lv_min_slope',\n",
    " 'lvmc_min_slope']"
   ]
  },
  {
   "cell_type": "code",
   "execution_count": 201,
   "id": "6ae27ebc-81f9-4e51-aa5f-75f7003f02fd",
   "metadata": {},
   "outputs": [
    {
     "data": {
      "image/png": "[encoded data removed]",
      "text/plain": [
       "<Figure size 432x288 with 2 Axes>"
      ]
     },
     "metadata": {
      "needs_background": "light"
     },
     "output_type": "display_data"
    }
   ],
   "source": [
    "sns.heatmap(important_features_df[important_features_subset_shortlist].corr(),cmap = 'RdBu', center = 0.0);"
   ]
  },
  {
   "cell_type": "code",
   "execution_count": 204,
   "id": "bfce969d-be0d-4629-8e0a-be5e67994b01",
   "metadata": {},
   "outputs": [
    {
     "name": "stdout",
     "output_type": "stream",
     "text": [
      "VIF values: (feature, value)\n",
      "\n",
      "lv_std 4.372\n",
      "max_original_shape_Maximum2DDiameterRow 3.717\n",
      "median_original_shape_Sphericity 3.093\n",
      "median_original_shape_SurfaceVolumeRatio 2.116\n"
     ]
    }
   ],
   "source": [
    "important_features_subset_hcluster = ['lv_std', 'median_original_shape_Sphericity',\\\n",
    " 'median_original_shape_SurfaceVolumeRatio','max_original_shape_Maximum2DDiameterRow']\n",
    "vif_values = [vif(important_features_df_scaled[important_features_subset_hcluster].values, i) for i in range(len(important_features_subset_hcluster))]\n",
    "vif_feat_vals = {important_features_subset_hcluster[ind]: vals for ind,vals in enumerate(vif_values)}\n",
    "vif_feat_vals = sorted(vif_feat_vals.items(), key = lambda item: item[1], reverse = True)\n",
    "print('VIF values: (feature, value)\\n')\n",
    "[print(ent[0], round(ent[1],3)) for ent in vif_feat_vals];"
   ]
  },
  {
   "cell_type": "code",
   "execution_count": 212,
   "id": "202b1d3b-737e-4d97-9b45-94c3ff9aacfd",
   "metadata": {},
   "outputs": [],
   "source": [
    "model = AgglomerativeClustering(distance_threshold=0, n_clusters=None)\n",
    "important_features_subset =['lv_std', 'median_original_shape_Sphericity']\n",
    "multivariate_x = important_features_df_scaled[important_features_subset_hcluster]\n",
    "model = model.fit(multivariate_x)"
   ]
  },
  {
   "cell_type": "code",
   "execution_count": 213,
   "id": "7bbcc6a2-9176-4b42-a243-3bdd99b65124",
   "metadata": {},
   "outputs": [
    {
     "data": {
      "image/png": "[encoded data removed]",
      "text/plain": [
       "<Figure size 1296x432 with 1 Axes>"
      ]
     },
     "metadata": {
      "needs_background": "light"
     },
     "output_type": "display_data"
    }
   ],
   "source": [
    "figure(figsize=(18, 6))\n",
    "linkage_matrix = plot_dendrogram(model)"
   ]
  },
  {
   "cell_type": "code",
   "execution_count": 216,
   "id": "6e7e914e-acce-4045-a170-6b0667df2454",
   "metadata": {},
   "outputs": [
    {
     "data": {
      "text/plain": [
       "array([1, 1, 0, 0, 2, 2, 1, 1, 1, 2, 0, 1, 0, 0, 0, 1, 0, 2, 0, 1, 1, 1,\n",
       "       1, 1, 1, 0, 1, 1, 1, 1, 1, 1, 1, 2, 2, 1, 1, 0, 1, 0, 2, 1, 2, 1,\n",
       "       1, 1, 0, 1, 1, 1, 0])"
      ]
     },
     "execution_count": 216,
     "metadata": {},
     "output_type": "execute_result"
    }
   ],
   "source": [
    "clustering_model = AgglomerativeClustering(n_clusters=3)\n",
    "clustering_model.fit(multivariate_x)\n",
    "clustering_model.labels_"
   ]
  },
  {
   "cell_type": "code",
   "execution_count": 140,
   "id": "ce15eb2c-5963-48c3-a8de-2d089fac5ec8",
   "metadata": {},
   "outputs": [],
   "source": [
    "cluster_0 = [ind for ind, ent in enumerate(clustering_model.labels_) if ent == 0]\n",
    "cluster_1 = [ind for ind, ent in enumerate(clustering_model.labels_) if ent == 1]\n",
    "cluster_2 = [ind for ind, ent in enumerate(clustering_model.labels_) if ent == 2]"
   ]
  },
  {
   "cell_type": "code",
   "execution_count": 141,
   "id": "3530137b-232d-4589-b24c-c4c765c889c9",
   "metadata": {},
   "outputs": [],
   "source": [
    "df = important_features_df_scaled.reset_index(drop=True)"
   ]
  },
  {
   "cell_type": "code",
   "execution_count": 142,
   "id": "230acf8f-14f9-421a-8847-ec4366aeb850",
   "metadata": {},
   "outputs": [],
   "source": [
    "cluster_0_ids = df.loc[cluster_0].patient_id.values\n",
    "cluster_1_ids = df.loc[cluster_1].patient_id.values\n",
    "cluster_2_ids = df.loc[cluster_2].patient_id.values"
   ]
  },
  {
   "cell_type": "code",
   "execution_count": 143,
   "id": "00b1c4b6-323e-4d4a-9fac-7fe0d33874d9",
   "metadata": {},
   "outputs": [],
   "source": [
    "def cluster_condition(cluster):\n",
    "    condition_arr = []\n",
    "    for pid in cluster:\n",
    "        num_pid = int(pid[0:3])\n",
    "        cpet_record = cpet_data[cpet_data['Record ID'].values == num_pid]\n",
    "        condition = cpet_record['dyspnea']\n",
    "        if condition.values[0] == 1.:\n",
    "            condition_arr.append((pid,1))\n",
    "        else:\n",
    "            condition_arr.append((pid,0))\n",
    "    return condition_arr"
   ]
  },
  {
   "cell_type": "code",
   "execution_count": 144,
   "id": "b31640fc-8fbe-4edd-a63d-43240776280e",
   "metadata": {},
   "outputs": [],
   "source": [
    "condition_arr_cluster_0 = cluster_condition(cluster_0_ids)\n",
    "condition_arr_cluster_1 = cluster_condition(cluster_1_ids)\n",
    "condition_arr_cluster_2 = cluster_condition(cluster_2_ids)"
   ]
  },
  {
   "cell_type": "code",
   "execution_count": 145,
   "id": "340b72e2-e82b-43b3-a5d6-075f76d7c69b",
   "metadata": {},
   "outputs": [],
   "source": [
    "def count_high_low_vo2(condition_arr_cluster):\n",
    "    count_0 = len([ent for ent in condition_arr_cluster if ent[1] == 0])\n",
    "    count_1 = len([ent for ent in condition_arr_cluster if ent[1] == 1])\n",
    "    \n",
    "    return count_0, count_1"
   ]
  },
  {
   "cell_type": "code",
   "execution_count": 146,
   "id": "d792d50e-f538-4b32-9f43-ea3c699640ce",
   "metadata": {},
   "outputs": [],
   "source": [
    "count_0_cluster_0, count_1_cluster_0 = count_high_low_vo2(condition_arr_cluster_0)\n",
    "count_0_cluster_1, count_1_cluster_1 = count_high_low_vo2(condition_arr_cluster_1)\n",
    "count_0_cluster_2, count_1_cluster_2 = count_high_low_vo2(condition_arr_cluster_2)"
   ]
  },
  {
   "cell_type": "code",
   "execution_count": 147,
   "id": "ec4836ea-04f7-405c-9ae8-db060feb8bb6",
   "metadata": {},
   "outputs": [
    {
     "name": "stdout",
     "output_type": "stream",
     "text": [
      "Cluster 0: 0:2,  1:11\n",
      "Cluster 1: 0:14,  1:16\n",
      "Cluster 2: 0:3,  1:5\n"
     ]
    }
   ],
   "source": [
    "print(f'Cluster 0: 0:{count_0_cluster_0},  1:{count_1_cluster_0}')\n",
    "print(f'Cluster 1: 0:{count_0_cluster_1},  1:{count_1_cluster_1}')\n",
    "print(f'Cluster 2: 0:{count_0_cluster_2},  1:{count_1_cluster_2}')"
   ]
  },
  {
   "cell_type": "code",
   "execution_count": 159,
   "id": "a91d4fa5-fc18-4d76-ac27-e160cee05338",
   "metadata": {},
   "outputs": [
    {
     "data": {
      "image/png": "[encoded data removed]",
      "text/plain": [
       "<Figure size 1296x432 with 1 Axes>"
      ]
     },
     "metadata": {
      "needs_background": "light"
     },
     "output_type": "display_data"
    }
   ],
   "source": [
    "figure(figsize=(18, 6))\n",
    "linkage_matrix = plot_dendrogram(model)\n",
    "y_pos = -0.3\n",
    "plt.text(300,y_pos,f'cluster 1 (0:{count_0_cluster_1},  1:{count_1_cluster_1})',size=16, c='red')\n",
    "plt.text(10,y_pos,f'cluster 0 (0:{count_0_cluster_0},  1:{count_1_cluster_0})',size=16, c='chocolate');\n",
    "plt.text(130,y_pos,f'cluster 2 (0:{count_0_cluster_2},  1:{count_1_cluster_2})',size=16, c='green');"
   ]
  },
  {
   "cell_type": "markdown",
   "id": "a79a69c2-17d3-4a3f-8096-e5c90bf0c750",
   "metadata": {},
   "source": [
    "## Appendix"
   ]
  },
  {
   "cell_type": "markdown",
   "id": "c2775ead-f25f-469e-8d71-2c51fd586b93",
   "metadata": {},
   "source": [
    "### 2D fractals"
   ]
  },
  {
   "cell_type": "code",
   "execution_count": 381,
   "id": "953776da-10c4-480b-934c-619b422d7244",
   "metadata": {},
   "outputs": [
    {
     "data": {
      "text/html": [
       "<div>\n",
       "<style scoped>\n",
       "    .dataframe tbody tr th:only-of-type {\n",
       "        vertical-align: middle;\n",
       "    }\n",
       "\n",
       "    .dataframe tbody tr th {\n",
       "        vertical-align: top;\n",
       "    }\n",
       "\n",
       "    .dataframe thead th {\n",
       "        text-align: right;\n",
       "    }\n",
       "</style>\n",
       "<table border=\"1\" class=\"dataframe\">\n",
       "  <thead>\n",
       "    <tr style=\"text-align: right;\">\n",
       "      <th></th>\n",
       "      <th>0</th>\n",
       "      <th>1</th>\n",
       "      <th>2</th>\n",
       "      <th>3</th>\n",
       "      <th>4</th>\n",
       "      <th>5</th>\n",
       "      <th>6</th>\n",
       "      <th>7</th>\n",
       "      <th>8</th>\n",
       "      <th>9</th>\n",
       "      <th>...</th>\n",
       "      <th>67</th>\n",
       "      <th>68</th>\n",
       "      <th>69</th>\n",
       "      <th>70</th>\n",
       "      <th>71</th>\n",
       "      <th>72</th>\n",
       "      <th>73</th>\n",
       "      <th>74</th>\n",
       "      <th>75</th>\n",
       "      <th>76</th>\n",
       "    </tr>\n",
       "  </thead>\n",
       "  <tbody>\n",
       "    <tr>\n",
       "      <th>0</th>\n",
       "      <td>PatientId</td>\n",
       "      <td>101B</td>\n",
       "      <td>101B</td>\n",
       "      <td>103</td>\n",
       "      <td>103</td>\n",
       "      <td>109</td>\n",
       "      <td>109</td>\n",
       "      <td>113B</td>\n",
       "      <td>113B</td>\n",
       "      <td>114</td>\n",
       "      <td>...</td>\n",
       "      <td>174</td>\n",
       "      <td>174</td>\n",
       "      <td>179</td>\n",
       "      <td>179</td>\n",
       "      <td>181</td>\n",
       "      <td>181</td>\n",
       "      <td>183</td>\n",
       "      <td>183</td>\n",
       "      <td>185</td>\n",
       "      <td>185</td>\n",
       "    </tr>\n",
       "    <tr>\n",
       "      <th>1</th>\n",
       "      <td>Phase</td>\n",
       "      <td>ed0</td>\n",
       "      <td>es4</td>\n",
       "      <td>ed0</td>\n",
       "      <td>es3</td>\n",
       "      <td>ed6</td>\n",
       "      <td>es2</td>\n",
       "      <td>ed7</td>\n",
       "      <td>es3</td>\n",
       "      <td>ed11</td>\n",
       "      <td>...</td>\n",
       "      <td>ed0</td>\n",
       "      <td>es3</td>\n",
       "      <td>ed0</td>\n",
       "      <td>es3</td>\n",
       "      <td>ed0</td>\n",
       "      <td>es3</td>\n",
       "      <td>ed0</td>\n",
       "      <td>es4</td>\n",
       "      <td>ed0</td>\n",
       "      <td>es3</td>\n",
       "    </tr>\n",
       "    <tr>\n",
       "      <th>2</th>\n",
       "      <td>lv_slope_1</td>\n",
       "      <td>-7.17244797022851e-07</td>\n",
       "      <td>-7.17244797022851e-07</td>\n",
       "      <td>-2.35006480096061</td>\n",
       "      <td>-2.60447083323098</td>\n",
       "      <td>-7.17244797022851e-07</td>\n",
       "      <td>-7.17244797022851e-07</td>\n",
       "      <td>-7.17244797022851e-07</td>\n",
       "      <td>-7.17244797022851e-07</td>\n",
       "      <td>-3.40636875910898e-07</td>\n",
       "      <td>...</td>\n",
       "      <td>1.62022785767115</td>\n",
       "      <td>-4.23819458745847e-07</td>\n",
       "      <td>0.277345495270733</td>\n",
       "      <td>-7.17244797022851e-07</td>\n",
       "      <td>1.6700525232077e-14</td>\n",
       "      <td>1.6700525232077e-14</td>\n",
       "      <td>-7.17244797022851e-07</td>\n",
       "      <td>-7.17244797022851e-07</td>\n",
       "      <td>-7.17244797022851e-07</td>\n",
       "      <td>-7.17244797022851e-07</td>\n",
       "    </tr>\n",
       "    <tr>\n",
       "      <th>3</th>\n",
       "      <td>lv_intercept_1</td>\n",
       "      <td>-13.8155093021575</td>\n",
       "      <td>-13.8155093021575</td>\n",
       "      <td>12.6947251769305</td>\n",
       "      <td>13.7171534320888</td>\n",
       "      <td>-13.8155093021575</td>\n",
       "      <td>-13.8155093021575</td>\n",
       "      <td>-13.8155093021575</td>\n",
       "      <td>-13.8155093021575</td>\n",
       "      <td>-13.8155102541196</td>\n",
       "      <td>...</td>\n",
       "      <td>-0.573086769984424</td>\n",
       "      <td>-13.8155100200713</td>\n",
       "      <td>2.89753876193571</td>\n",
       "      <td>-13.8155093021575</td>\n",
       "      <td>-13.8155105579643</td>\n",
       "      <td>-13.8155105579643</td>\n",
       "      <td>-13.8155093021575</td>\n",
       "      <td>-13.8155093021575</td>\n",
       "      <td>-13.8155093021575</td>\n",
       "      <td>-13.8155093021575</td>\n",
       "    </tr>\n",
       "    <tr>\n",
       "      <th>4</th>\n",
       "      <td>lv_slope_2</td>\n",
       "      <td>-6.08596281514944e-07</td>\n",
       "      <td>-6.08596281514944e-07</td>\n",
       "      <td>-2.43939199316937</td>\n",
       "      <td>-2.4479288165968</td>\n",
       "      <td>-6.08596281514944e-07</td>\n",
       "      <td>-6.08596281514944e-07</td>\n",
       "      <td>-6.08596281514944e-07</td>\n",
       "      <td>-6.08596281514944e-07</td>\n",
       "      <td>-3.35609746781348e-07</td>\n",
       "      <td>...</td>\n",
       "      <td>0.434298727343355</td>\n",
       "      <td>-1.33087932498926e-07</td>\n",
       "      <td>-0.291314529158718</td>\n",
       "      <td>-6.08596281514944e-07</td>\n",
       "      <td>2.4855571198563e-14</td>\n",
       "      <td>2.4855571198563e-14</td>\n",
       "      <td>-6.08596281514944e-07</td>\n",
       "      <td>-6.08596281514944e-07</td>\n",
       "      <td>-6.08596281514944e-07</td>\n",
       "      <td>-6.08596281514944e-07</td>\n",
       "    </tr>\n",
       "  </tbody>\n",
       "</table>\n",
       "<p>5 rows × 77 columns</p>\n",
       "</div>"
      ],
      "text/plain": [
       "               0                      1                      2   \\\n",
       "0       PatientId                   101B                   101B   \n",
       "1           Phase                    ed0                    es4   \n",
       "2      lv_slope_1  -7.17244797022851e-07  -7.17244797022851e-07   \n",
       "3  lv_intercept_1      -13.8155093021575      -13.8155093021575   \n",
       "4      lv_slope_2  -6.08596281514944e-07  -6.08596281514944e-07   \n",
       "\n",
       "                  3                  4                      5   \\\n",
       "0                103                103                    109   \n",
       "1                ed0                es3                    ed6   \n",
       "2  -2.35006480096061  -2.60447083323098  -7.17244797022851e-07   \n",
       "3   12.6947251769305   13.7171534320888      -13.8155093021575   \n",
       "4  -2.43939199316937   -2.4479288165968  -6.08596281514944e-07   \n",
       "\n",
       "                      6                      7                      8   \\\n",
       "0                    109                   113B                   113B   \n",
       "1                    es2                    ed7                    es3   \n",
       "2  -7.17244797022851e-07  -7.17244797022851e-07  -7.17244797022851e-07   \n",
       "3      -13.8155093021575      -13.8155093021575      -13.8155093021575   \n",
       "4  -6.08596281514944e-07  -6.08596281514944e-07  -6.08596281514944e-07   \n",
       "\n",
       "                      9   ...                  67                     68  \\\n",
       "0                    114  ...                 174                    174   \n",
       "1                   ed11  ...                 ed0                    es3   \n",
       "2  -3.40636875910898e-07  ...    1.62022785767115  -4.23819458745847e-07   \n",
       "3      -13.8155102541196  ...  -0.573086769984424      -13.8155100200713   \n",
       "4  -3.35609746781348e-07  ...   0.434298727343355  -1.33087932498926e-07   \n",
       "\n",
       "                   69                     70                   71  \\\n",
       "0                 179                    179                  181   \n",
       "1                 ed0                    es3                  ed0   \n",
       "2   0.277345495270733  -7.17244797022851e-07  1.6700525232077e-14   \n",
       "3    2.89753876193571      -13.8155093021575    -13.8155105579643   \n",
       "4  -0.291314529158718  -6.08596281514944e-07  2.4855571198563e-14   \n",
       "\n",
       "                    72                     73                     74  \\\n",
       "0                  181                    183                    183   \n",
       "1                  es3                    ed0                    es4   \n",
       "2  1.6700525232077e-14  -7.17244797022851e-07  -7.17244797022851e-07   \n",
       "3    -13.8155105579643      -13.8155093021575      -13.8155093021575   \n",
       "4  2.4855571198563e-14  -6.08596281514944e-07  -6.08596281514944e-07   \n",
       "\n",
       "                      75                     76  \n",
       "0                    185                    185  \n",
       "1                    ed0                    es3  \n",
       "2  -7.17244797022851e-07  -7.17244797022851e-07  \n",
       "3      -13.8155093021575      -13.8155093021575  \n",
       "4  -6.08596281514944e-07  -6.08596281514944e-07  \n",
       "\n",
       "[5 rows x 77 columns]"
      ]
     },
     "execution_count": 381,
     "metadata": {},
     "output_type": "execute_result"
    }
   ],
   "source": [
    "fractals_2d_csv = pd.read_csv(path+'/Golnoushs_fractals/fractals_2d.csv',header=None)\n",
    "fractals_2d_csv.head()"
   ]
  },
  {
   "cell_type": "code",
   "execution_count": 382,
   "id": "1737e847-6ce4-459d-85cc-e75ad7511f92",
   "metadata": {},
   "outputs": [
    {
     "data": {
      "text/html": [
       "<div>\n",
       "<style scoped>\n",
       "    .dataframe tbody tr th:only-of-type {\n",
       "        vertical-align: middle;\n",
       "    }\n",
       "\n",
       "    .dataframe tbody tr th {\n",
       "        vertical-align: top;\n",
       "    }\n",
       "\n",
       "    .dataframe thead th {\n",
       "        text-align: right;\n",
       "    }\n",
       "</style>\n",
       "<table border=\"1\" class=\"dataframe\">\n",
       "  <thead>\n",
       "    <tr style=\"text-align: right;\">\n",
       "      <th></th>\n",
       "      <th>PatientId</th>\n",
       "      <th>Phase</th>\n",
       "      <th>lv_slope_1</th>\n",
       "      <th>lv_intercept_1</th>\n",
       "      <th>lv_slope_2</th>\n",
       "      <th>lv_intercept_2</th>\n",
       "      <th>lv_slope_3</th>\n",
       "      <th>lv_intercept_3</th>\n",
       "      <th>lv_slope_4</th>\n",
       "      <th>lv_intercept_4</th>\n",
       "      <th>...</th>\n",
       "      <th>lvmc_slope_21</th>\n",
       "      <th>lvmc_intercept_21</th>\n",
       "      <th>lvmc_slope_22</th>\n",
       "      <th>lvmc_intercept_22</th>\n",
       "      <th>lvmc_slope_23</th>\n",
       "      <th>lvmc_intercept_23</th>\n",
       "      <th>lvmc_slope_24</th>\n",
       "      <th>lvmc_intercept_24</th>\n",
       "      <th>lvmc_avg_slope</th>\n",
       "      <th>lvmc_avg_intercept</th>\n",
       "    </tr>\n",
       "  </thead>\n",
       "  <tbody>\n",
       "    <tr>\n",
       "      <th>1</th>\n",
       "      <td>101B</td>\n",
       "      <td>ed0</td>\n",
       "      <td>-7.17244797022851e-07</td>\n",
       "      <td>-13.8155093021575</td>\n",
       "      <td>-6.08596281514944e-07</td>\n",
       "      <td>-13.815509705509</td>\n",
       "      <td>-7.34981750675452e-07</td>\n",
       "      <td>-13.8155093109137</td>\n",
       "      <td>-7.61377304336471e-07</td>\n",
       "      <td>-13.8155093940655</td>\n",
       "      <td>...</td>\n",
       "      <td>-7.34981750675452e-07</td>\n",
       "      <td>-13.8155093109137</td>\n",
       "      <td>-7.61377304336471e-07</td>\n",
       "      <td>-13.8155093940655</td>\n",
       "      <td>-6.08596281514944e-07</td>\n",
       "      <td>-13.815509705509</td>\n",
       "      <td>-7.17244797022851e-07</td>\n",
       "      <td>-13.8155093021575</td>\n",
       "      <td>9.41778075697639e-06</td>\n",
       "      <td>-13.8155254939051</td>\n",
       "    </tr>\n",
       "    <tr>\n",
       "      <th>2</th>\n",
       "      <td>101B</td>\n",
       "      <td>es4</td>\n",
       "      <td>-7.17244797022851e-07</td>\n",
       "      <td>-13.8155093021575</td>\n",
       "      <td>-6.08596281514944e-07</td>\n",
       "      <td>-13.815509705509</td>\n",
       "      <td>-7.34981750675452e-07</td>\n",
       "      <td>-13.8155093109137</td>\n",
       "      <td>-7.61377304336471e-07</td>\n",
       "      <td>-13.8155093940655</td>\n",
       "      <td>...</td>\n",
       "      <td>-7.34981750675452e-07</td>\n",
       "      <td>-13.8155093109137</td>\n",
       "      <td>-7.61377304336471e-07</td>\n",
       "      <td>-13.8155093940655</td>\n",
       "      <td>-6.08596281514944e-07</td>\n",
       "      <td>-13.815509705509</td>\n",
       "      <td>-7.17244797022851e-07</td>\n",
       "      <td>-13.8155093021575</td>\n",
       "      <td>9.41778075697639e-06</td>\n",
       "      <td>-13.8155254939051</td>\n",
       "    </tr>\n",
       "    <tr>\n",
       "      <th>3</th>\n",
       "      <td>103</td>\n",
       "      <td>ed0</td>\n",
       "      <td>-2.35006480096061</td>\n",
       "      <td>12.6947251769305</td>\n",
       "      <td>-2.43939199316937</td>\n",
       "      <td>12.9484620635241</td>\n",
       "      <td>-2.19220729127321</td>\n",
       "      <td>12.4161561492411</td>\n",
       "      <td>-2.10934424464303</td>\n",
       "      <td>11.967453763633</td>\n",
       "      <td>...</td>\n",
       "      <td>-2.81107435327764</td>\n",
       "      <td>13.327957478684</td>\n",
       "      <td>-3.05523401881432</td>\n",
       "      <td>14.1246362416685</td>\n",
       "      <td>-2.93141522958304</td>\n",
       "      <td>14.0178112699712</td>\n",
       "      <td>-2.98359681478104</td>\n",
       "      <td>14.1905277669756</td>\n",
       "      <td>-3.01555112093158</td>\n",
       "      <td>13.9224312935949</td>\n",
       "    </tr>\n",
       "    <tr>\n",
       "      <th>4</th>\n",
       "      <td>103</td>\n",
       "      <td>es3</td>\n",
       "      <td>-2.60447083323098</td>\n",
       "      <td>13.7171534320888</td>\n",
       "      <td>-2.4479288165968</td>\n",
       "      <td>13.1313412419052</td>\n",
       "      <td>-2.38185813403835</td>\n",
       "      <td>13.1508977626358</td>\n",
       "      <td>-2.36853101956377</td>\n",
       "      <td>12.5691216719384</td>\n",
       "      <td>...</td>\n",
       "      <td>-2.86080586867664</td>\n",
       "      <td>13.0201765724558</td>\n",
       "      <td>-3.02104624435245</td>\n",
       "      <td>13.7312840087983</td>\n",
       "      <td>-3.25400883841704</td>\n",
       "      <td>14.3806431536753</td>\n",
       "      <td>-2.99251575713431</td>\n",
       "      <td>14.6044052778162</td>\n",
       "      <td>-3.02894422463501</td>\n",
       "      <td>13.8165311315163</td>\n",
       "    </tr>\n",
       "    <tr>\n",
       "      <th>5</th>\n",
       "      <td>109</td>\n",
       "      <td>ed6</td>\n",
       "      <td>-7.17244797022851e-07</td>\n",
       "      <td>-13.8155093021575</td>\n",
       "      <td>-6.08596281514944e-07</td>\n",
       "      <td>-13.815509705509</td>\n",
       "      <td>-7.34981750675452e-07</td>\n",
       "      <td>-13.8155093109137</td>\n",
       "      <td>-7.61377304336471e-07</td>\n",
       "      <td>-13.8155093940655</td>\n",
       "      <td>...</td>\n",
       "      <td>-7.34981750675452e-07</td>\n",
       "      <td>-13.8155093109137</td>\n",
       "      <td>-7.61377304336471e-07</td>\n",
       "      <td>-13.8155093940655</td>\n",
       "      <td>-6.08596281514944e-07</td>\n",
       "      <td>-13.815509705509</td>\n",
       "      <td>-7.17244797022851e-07</td>\n",
       "      <td>-13.8155093021575</td>\n",
       "      <td>9.41778075697639e-06</td>\n",
       "      <td>-13.8155254939051</td>\n",
       "    </tr>\n",
       "  </tbody>\n",
       "</table>\n",
       "<p>5 rows × 102 columns</p>\n",
       "</div>"
      ],
      "text/plain": [
       "0 PatientId Phase             lv_slope_1     lv_intercept_1  \\\n",
       "1      101B   ed0  -7.17244797022851e-07  -13.8155093021575   \n",
       "2      101B   es4  -7.17244797022851e-07  -13.8155093021575   \n",
       "3       103   ed0      -2.35006480096061   12.6947251769305   \n",
       "4       103   es3      -2.60447083323098   13.7171534320888   \n",
       "5       109   ed6  -7.17244797022851e-07  -13.8155093021575   \n",
       "\n",
       "0             lv_slope_2    lv_intercept_2             lv_slope_3  \\\n",
       "1  -6.08596281514944e-07  -13.815509705509  -7.34981750675452e-07   \n",
       "2  -6.08596281514944e-07  -13.815509705509  -7.34981750675452e-07   \n",
       "3      -2.43939199316937  12.9484620635241      -2.19220729127321   \n",
       "4       -2.4479288165968  13.1313412419052      -2.38185813403835   \n",
       "5  -6.08596281514944e-07  -13.815509705509  -7.34981750675452e-07   \n",
       "\n",
       "0     lv_intercept_3             lv_slope_4     lv_intercept_4  ...  \\\n",
       "1  -13.8155093109137  -7.61377304336471e-07  -13.8155093940655  ...   \n",
       "2  -13.8155093109137  -7.61377304336471e-07  -13.8155093940655  ...   \n",
       "3   12.4161561492411      -2.10934424464303    11.967453763633  ...   \n",
       "4   13.1508977626358      -2.36853101956377   12.5691216719384  ...   \n",
       "5  -13.8155093109137  -7.61377304336471e-07  -13.8155093940655  ...   \n",
       "\n",
       "0          lvmc_slope_21  lvmc_intercept_21          lvmc_slope_22  \\\n",
       "1  -7.34981750675452e-07  -13.8155093109137  -7.61377304336471e-07   \n",
       "2  -7.34981750675452e-07  -13.8155093109137  -7.61377304336471e-07   \n",
       "3      -2.81107435327764    13.327957478684      -3.05523401881432   \n",
       "4      -2.86080586867664   13.0201765724558      -3.02104624435245   \n",
       "5  -7.34981750675452e-07  -13.8155093109137  -7.61377304336471e-07   \n",
       "\n",
       "0  lvmc_intercept_22          lvmc_slope_23 lvmc_intercept_23  \\\n",
       "1  -13.8155093940655  -6.08596281514944e-07  -13.815509705509   \n",
       "2  -13.8155093940655  -6.08596281514944e-07  -13.815509705509   \n",
       "3   14.1246362416685      -2.93141522958304  14.0178112699712   \n",
       "4   13.7312840087983      -3.25400883841704  14.3806431536753   \n",
       "5  -13.8155093940655  -6.08596281514944e-07  -13.815509705509   \n",
       "\n",
       "0          lvmc_slope_24  lvmc_intercept_24        lvmc_avg_slope  \\\n",
       "1  -7.17244797022851e-07  -13.8155093021575  9.41778075697639e-06   \n",
       "2  -7.17244797022851e-07  -13.8155093021575  9.41778075697639e-06   \n",
       "3      -2.98359681478104   14.1905277669756     -3.01555112093158   \n",
       "4      -2.99251575713431   14.6044052778162     -3.02894422463501   \n",
       "5  -7.17244797022851e-07  -13.8155093021575  9.41778075697639e-06   \n",
       "\n",
       "0 lvmc_avg_intercept  \n",
       "1  -13.8155254939051  \n",
       "2  -13.8155254939051  \n",
       "3   13.9224312935949  \n",
       "4   13.8165311315163  \n",
       "5  -13.8155254939051  \n",
       "\n",
       "[5 rows x 102 columns]"
      ]
     },
     "execution_count": 382,
     "metadata": {},
     "output_type": "execute_result"
    }
   ],
   "source": [
    "fractals_2d_df = fractals_2d_csv.T\n",
    "header = fractals_2d_df.iloc[0]\n",
    "fractals_2d_df = fractals_2d_df[1:] #take the data less the header row\n",
    "fractals_2d_df.columns = header\n",
    "fractals_2d_df.head()"
   ]
  },
  {
   "cell_type": "code",
   "execution_count": 383,
   "id": "e63e7213-3cdb-4933-a872-347e168a19d5",
   "metadata": {},
   "outputs": [],
   "source": [
    "fractals_2d_df_cols = fractals_2d_df.columns\n",
    "\n",
    "for i in range(2,len(fractals_2d_df_cols)):\n",
    "    fractals_2d_df[fractals_2d_df_cols[i]] = pd.to_numeric(fractals_2d_df[fractals_2d_df_cols[i]], errors='coerce')"
   ]
  },
  {
   "cell_type": "code",
   "execution_count": 384,
   "id": "7fa8938d-efa7-42af-bde4-b7ce5ec5d5ac",
   "metadata": {},
   "outputs": [],
   "source": [
    "num_rows = fractals_2d_df.shape[0]\n",
    "for n in range(num_rows//2):\n",
    "    fractals_2d_df.iat[2*n,1] = 'ed'\n",
    "    \n",
    "for n in range(num_rows//2):\n",
    "    fractals_2d_df.iat[2*n+1,1] = 'es'"
   ]
  },
  {
   "cell_type": "code",
   "execution_count": 385,
   "id": "bf2dd420-459d-4655-8dd8-cd72bcf97d07",
   "metadata": {},
   "outputs": [],
   "source": [
    "fractals_2d_ed = fractals_2d_df[fractals_2d_df.Phase=='ed']\n",
    "fractals_2d_es = fractals_2d_df[fractals_2d_df.Phase=='es']"
   ]
  },
  {
   "cell_type": "code",
   "execution_count": 386,
   "id": "5893ae86-700d-470f-aaea-3114d045fa0d",
   "metadata": {},
   "outputs": [
    {
     "data": {
      "text/html": [
       "<div>\n",
       "<style scoped>\n",
       "    .dataframe tbody tr th:only-of-type {\n",
       "        vertical-align: middle;\n",
       "    }\n",
       "\n",
       "    .dataframe tbody tr th {\n",
       "        vertical-align: top;\n",
       "    }\n",
       "\n",
       "    .dataframe thead th {\n",
       "        text-align: right;\n",
       "    }\n",
       "</style>\n",
       "<table border=\"1\" class=\"dataframe\">\n",
       "  <thead>\n",
       "    <tr style=\"text-align: right;\">\n",
       "      <th></th>\n",
       "      <th>PatientId</th>\n",
       "      <th>Phase</th>\n",
       "      <th>lv_slope_1</th>\n",
       "      <th>lv_intercept_1</th>\n",
       "      <th>lv_slope_2</th>\n",
       "      <th>lv_intercept_2</th>\n",
       "      <th>lv_slope_3</th>\n",
       "      <th>lv_intercept_3</th>\n",
       "      <th>lv_slope_4</th>\n",
       "      <th>lv_intercept_4</th>\n",
       "      <th>...</th>\n",
       "      <th>lvmc_slope_21</th>\n",
       "      <th>lvmc_intercept_21</th>\n",
       "      <th>lvmc_slope_22</th>\n",
       "      <th>lvmc_intercept_22</th>\n",
       "      <th>lvmc_slope_23</th>\n",
       "      <th>lvmc_intercept_23</th>\n",
       "      <th>lvmc_slope_24</th>\n",
       "      <th>lvmc_intercept_24</th>\n",
       "      <th>lvmc_avg_slope</th>\n",
       "      <th>lvmc_avg_intercept</th>\n",
       "    </tr>\n",
       "  </thead>\n",
       "  <tbody>\n",
       "    <tr>\n",
       "      <th>1</th>\n",
       "      <td>101B</td>\n",
       "      <td>ed</td>\n",
       "      <td>-7.172448e-07</td>\n",
       "      <td>-13.815509</td>\n",
       "      <td>-6.085963e-07</td>\n",
       "      <td>-13.815510</td>\n",
       "      <td>-7.349818e-07</td>\n",
       "      <td>-13.815509</td>\n",
       "      <td>-7.613773e-07</td>\n",
       "      <td>-13.815509</td>\n",
       "      <td>...</td>\n",
       "      <td>-7.349818e-07</td>\n",
       "      <td>-13.815509</td>\n",
       "      <td>-7.613773e-07</td>\n",
       "      <td>-13.815509</td>\n",
       "      <td>-6.085963e-07</td>\n",
       "      <td>-13.815510</td>\n",
       "      <td>-7.172448e-07</td>\n",
       "      <td>-13.815509</td>\n",
       "      <td>0.000009</td>\n",
       "      <td>-13.815525</td>\n",
       "    </tr>\n",
       "    <tr>\n",
       "      <th>3</th>\n",
       "      <td>103</td>\n",
       "      <td>ed</td>\n",
       "      <td>-2.350065e+00</td>\n",
       "      <td>12.694725</td>\n",
       "      <td>-2.439392e+00</td>\n",
       "      <td>12.948462</td>\n",
       "      <td>-2.192207e+00</td>\n",
       "      <td>12.416156</td>\n",
       "      <td>-2.109344e+00</td>\n",
       "      <td>11.967454</td>\n",
       "      <td>...</td>\n",
       "      <td>-2.811074e+00</td>\n",
       "      <td>13.327957</td>\n",
       "      <td>-3.055234e+00</td>\n",
       "      <td>14.124636</td>\n",
       "      <td>-2.931415e+00</td>\n",
       "      <td>14.017811</td>\n",
       "      <td>-2.983597e+00</td>\n",
       "      <td>14.190528</td>\n",
       "      <td>-3.015551</td>\n",
       "      <td>13.922431</td>\n",
       "    </tr>\n",
       "    <tr>\n",
       "      <th>5</th>\n",
       "      <td>109</td>\n",
       "      <td>ed</td>\n",
       "      <td>-7.172448e-07</td>\n",
       "      <td>-13.815509</td>\n",
       "      <td>-6.085963e-07</td>\n",
       "      <td>-13.815510</td>\n",
       "      <td>-7.349818e-07</td>\n",
       "      <td>-13.815509</td>\n",
       "      <td>-7.613773e-07</td>\n",
       "      <td>-13.815509</td>\n",
       "      <td>...</td>\n",
       "      <td>-7.349818e-07</td>\n",
       "      <td>-13.815509</td>\n",
       "      <td>-7.613773e-07</td>\n",
       "      <td>-13.815509</td>\n",
       "      <td>-6.085963e-07</td>\n",
       "      <td>-13.815510</td>\n",
       "      <td>-7.172448e-07</td>\n",
       "      <td>-13.815509</td>\n",
       "      <td>0.000009</td>\n",
       "      <td>-13.815525</td>\n",
       "    </tr>\n",
       "    <tr>\n",
       "      <th>7</th>\n",
       "      <td>113B</td>\n",
       "      <td>ed</td>\n",
       "      <td>-7.172448e-07</td>\n",
       "      <td>-13.815509</td>\n",
       "      <td>-6.085963e-07</td>\n",
       "      <td>-13.815510</td>\n",
       "      <td>-7.349818e-07</td>\n",
       "      <td>-13.815509</td>\n",
       "      <td>-7.613773e-07</td>\n",
       "      <td>-13.815509</td>\n",
       "      <td>...</td>\n",
       "      <td>-7.349818e-07</td>\n",
       "      <td>-13.815509</td>\n",
       "      <td>-7.613773e-07</td>\n",
       "      <td>-13.815509</td>\n",
       "      <td>-6.085963e-07</td>\n",
       "      <td>-13.815510</td>\n",
       "      <td>-7.172448e-07</td>\n",
       "      <td>-13.815509</td>\n",
       "      <td>0.000009</td>\n",
       "      <td>-13.815525</td>\n",
       "    </tr>\n",
       "    <tr>\n",
       "      <th>9</th>\n",
       "      <td>114</td>\n",
       "      <td>ed</td>\n",
       "      <td>-3.406369e-07</td>\n",
       "      <td>-13.815510</td>\n",
       "      <td>-3.356097e-07</td>\n",
       "      <td>-13.815510</td>\n",
       "      <td>-3.642006e-07</td>\n",
       "      <td>-13.815510</td>\n",
       "      <td>-4.502399e-07</td>\n",
       "      <td>-13.815510</td>\n",
       "      <td>...</td>\n",
       "      <td>-3.642006e-07</td>\n",
       "      <td>-13.815510</td>\n",
       "      <td>-4.502399e-07</td>\n",
       "      <td>-13.815510</td>\n",
       "      <td>-3.356097e-07</td>\n",
       "      <td>-13.815510</td>\n",
       "      <td>-3.406369e-07</td>\n",
       "      <td>-13.815510</td>\n",
       "      <td>0.000014</td>\n",
       "      <td>-13.815534</td>\n",
       "    </tr>\n",
       "  </tbody>\n",
       "</table>\n",
       "<p>5 rows × 102 columns</p>\n",
       "</div>"
      ],
      "text/plain": [
       "0 PatientId Phase    lv_slope_1  lv_intercept_1    lv_slope_2  lv_intercept_2  \\\n",
       "1      101B    ed -7.172448e-07      -13.815509 -6.085963e-07      -13.815510   \n",
       "3       103    ed -2.350065e+00       12.694725 -2.439392e+00       12.948462   \n",
       "5       109    ed -7.172448e-07      -13.815509 -6.085963e-07      -13.815510   \n",
       "7      113B    ed -7.172448e-07      -13.815509 -6.085963e-07      -13.815510   \n",
       "9       114    ed -3.406369e-07      -13.815510 -3.356097e-07      -13.815510   \n",
       "\n",
       "0    lv_slope_3  lv_intercept_3    lv_slope_4  lv_intercept_4  ...  \\\n",
       "1 -7.349818e-07      -13.815509 -7.613773e-07      -13.815509  ...   \n",
       "3 -2.192207e+00       12.416156 -2.109344e+00       11.967454  ...   \n",
       "5 -7.349818e-07      -13.815509 -7.613773e-07      -13.815509  ...   \n",
       "7 -7.349818e-07      -13.815509 -7.613773e-07      -13.815509  ...   \n",
       "9 -3.642006e-07      -13.815510 -4.502399e-07      -13.815510  ...   \n",
       "\n",
       "0  lvmc_slope_21  lvmc_intercept_21  lvmc_slope_22  lvmc_intercept_22  \\\n",
       "1  -7.349818e-07         -13.815509  -7.613773e-07         -13.815509   \n",
       "3  -2.811074e+00          13.327957  -3.055234e+00          14.124636   \n",
       "5  -7.349818e-07         -13.815509  -7.613773e-07         -13.815509   \n",
       "7  -7.349818e-07         -13.815509  -7.613773e-07         -13.815509   \n",
       "9  -3.642006e-07         -13.815510  -4.502399e-07         -13.815510   \n",
       "\n",
       "0  lvmc_slope_23  lvmc_intercept_23  lvmc_slope_24  lvmc_intercept_24  \\\n",
       "1  -6.085963e-07         -13.815510  -7.172448e-07         -13.815509   \n",
       "3  -2.931415e+00          14.017811  -2.983597e+00          14.190528   \n",
       "5  -6.085963e-07         -13.815510  -7.172448e-07         -13.815509   \n",
       "7  -6.085963e-07         -13.815510  -7.172448e-07         -13.815509   \n",
       "9  -3.356097e-07         -13.815510  -3.406369e-07         -13.815510   \n",
       "\n",
       "0  lvmc_avg_slope  lvmc_avg_intercept  \n",
       "1        0.000009          -13.815525  \n",
       "3       -3.015551           13.922431  \n",
       "5        0.000009          -13.815525  \n",
       "7        0.000009          -13.815525  \n",
       "9        0.000014          -13.815534  \n",
       "\n",
       "[5 rows x 102 columns]"
      ]
     },
     "execution_count": 386,
     "metadata": {},
     "output_type": "execute_result"
    }
   ],
   "source": [
    "fractals_2d_ed.head()"
   ]
  },
  {
   "cell_type": "code",
   "execution_count": 388,
   "id": "6a312485-f683-4b70-803b-1c74a0e0b48e",
   "metadata": {
    "tags": []
   },
   "outputs": [],
   "source": [
    "num_rows = fractals_2d_ed.shape[0]\n",
    "num_cols = fractals_2d_ed.shape[1] - 2\n",
    "scores = []\n",
    "\n",
    "for c in range(2,num_cols):\n",
    "    dyspnea_arr = []\n",
    "    normal_arr = []\n",
    "\n",
    "    for r in range(num_rows):\n",
    "        arr = fractals_2d_ed.iloc[r][fractals_2d_ed.columns[c]]\n",
    "        pid = fractals_2d_ed.iloc[r]['PatientId']\n",
    "        num_pid = int(pid[0:3])\n",
    "        cpet_record = cpet_data[cpet_data['Record ID'].values == num_pid]\n",
    "        condition = cpet_record['dyspnea']\n",
    "        #print(condition.values[0])\n",
    "        if condition.values[0] == 1.:\n",
    "            dyspnea_arr.append(arr)\n",
    "        else:\n",
    "            normal_arr.append(arr)\n",
    "    res = scipy.stats.mannwhitneyu(dyspnea_arr,normal_arr)\n",
    "    scores.append((fractals_2d_ed.columns[c], res.pvalue))"
   ]
  },
  {
   "cell_type": "code",
   "execution_count": 389,
   "id": "8b87c350-29f5-4e52-a808-14a0d3bc378f",
   "metadata": {},
   "outputs": [],
   "source": [
    "significant_scores_ed = [score for score in scores if score[1] < 0.05]\n",
    "significant_scores_ed = sorted(significant_scores_ed, key=lambda significant_scores_ed: significant_scores_ed[1])"
   ]
  },
  {
   "cell_type": "code",
   "execution_count": 390,
   "id": "dc23f28e-c05d-4426-bf54-1e6686b58937",
   "metadata": {
    "tags": []
   },
   "outputs": [],
   "source": [
    "scores = []\n",
    "\n",
    "for c in range(2,num_cols):\n",
    "    dyspnea_arr = []\n",
    "    normal_arr = []\n",
    "\n",
    "    for r in range(num_rows):\n",
    "        arr = fractals_2d_es.iloc[r][fractals_2d_es.columns[c]]\n",
    "        pid = fractals_2d_es.iloc[r]['PatientId']\n",
    "        num_pid = int(pid[0:3])\n",
    "        cpet_record = cpet_data[cpet_data['Record ID'].values == num_pid]\n",
    "        condition = cpet_record['dyspnea']\n",
    "        #print(condition.values[0])\n",
    "        if condition.values[0] == 1.:\n",
    "            dyspnea_arr.append(arr)\n",
    "        else:\n",
    "            normal_arr.append(arr)\n",
    "    res = scipy.stats.mannwhitneyu(dyspnea_arr,normal_arr)\n",
    "    scores.append((fractals_2d_es.columns[c], res.pvalue))"
   ]
  },
  {
   "cell_type": "code",
   "execution_count": 391,
   "id": "f1d75dca-4ba5-4195-882d-64e92b83a793",
   "metadata": {},
   "outputs": [],
   "source": [
    "significant_scores_es = [score for score in scores if score[1] < 0.05]\n",
    "significant_scores_es = sorted(significant_scores_es, key=lambda significant_scores_es: significant_scores_es[1])"
   ]
  },
  {
   "cell_type": "code",
   "execution_count": 392,
   "id": "fc5728ca-a166-43c4-b877-a0fad0b06795",
   "metadata": {},
   "outputs": [
    {
     "data": {
      "text/plain": [
       "<matplotlib.collections.PathCollection at 0x7f8cc5ada4f0>"
      ]
     },
     "execution_count": 392,
     "metadata": {},
     "output_type": "execute_result"
    },
    {
     "data": {
      "image/png": "[encoded data removed]",
      "text/plain": [
       "<Figure size 432x288 with 1 Axes>"
      ]
     },
     "metadata": {
      "needs_background": "light"
     },
     "output_type": "display_data"
    }
   ],
   "source": [
    "plt.scatter(fractals_2d_es['lv_slope_19'],fractals_2d_es['lvmc_slope_22'])"
   ]
  },
  {
   "cell_type": "code",
   "execution_count": 394,
   "id": "ee35ac7c-6d1b-48b8-afde-2093b275b1ff",
   "metadata": {},
   "outputs": [
    {
     "data": {
      "text/plain": [
       "MannwhitneyuResult(statistic=112.5, pvalue=0.024502933797889932)"
      ]
     },
     "execution_count": 394,
     "metadata": {},
     "output_type": "execute_result"
    }
   ],
   "source": [
    "dyspnea_arr = []\n",
    "normal_arr = []\n",
    "\n",
    "for r in range(num_rows):\n",
    "    arr = fractals_2d_es.iloc[r]['lv_slope_2']\n",
    "    pid = fractals_2d_es.iloc[r]['PatientId']\n",
    "    num_pid = int(pid[0:3])\n",
    "    cpet_record = cpet_data[cpet_data['Record ID'].values == num_pid]\n",
    "    condition = cpet_record['dyspnea']\n",
    "    #print(condition.values[0])\n",
    "    if condition.values[0] == 1.:\n",
    "        dyspnea_arr.append(arr)\n",
    "    else:\n",
    "        normal_arr.append(arr)\n",
    "scipy.stats.mannwhitneyu(dyspnea_arr,normal_arr)\n"
   ]
  },
  {
   "cell_type": "code",
   "execution_count": 395,
   "id": "8cf952dc-d00e-45c9-8b56-c6efdb3dee92",
   "metadata": {},
   "outputs": [
    {
     "data": {
      "text/plain": [
       "Counter({-6.08596281514944e-07: 16,\n",
       "         -2.4479288165968: 1,\n",
       "         -3.35609746781348e-07: 1,\n",
       "         -1.75320950347884: 1,\n",
       "         -1.33087932498926e-07: 2,\n",
       "         -0.36167615891756: 1,\n",
       "         -0.33555203104179: 1,\n",
       "         2.4855571198562998e-14: 1})"
      ]
     },
     "execution_count": 395,
     "metadata": {},
     "output_type": "execute_result"
    }
   ],
   "source": [
    "Counter(dyspnea_arr)"
   ]
  },
  {
   "cell_type": "code",
   "execution_count": 901,
   "id": "78460dac-5a9e-4e78-887d-25ead2a1da0f",
   "metadata": {},
   "outputs": [],
   "source": [
    "significant_features_es = [tup[0] for tup in significant_scores_es]\n",
    "significant_features_ed = [tup[0] for tup in significant_scores_ed]"
   ]
  },
  {
   "cell_type": "code",
   "execution_count": 902,
   "id": "95684998-fb97-4bfa-a96f-978c76dca4d7",
   "metadata": {},
   "outputs": [],
   "source": [
    "fractal_2d_es_df = fractals_2d_es[significant_features_es]\n",
    "fractal_2d_ed_df = fractals_2d_ed[significant_features_ed]"
   ]
  },
  {
   "cell_type": "code",
   "execution_count": 904,
   "id": "3fdd46cb-a4ec-48ac-be22-a99690880562",
   "metadata": {},
   "outputs": [],
   "source": [
    "fractal_2d_es_df.to_csv('fractal_2d_es.csv')"
   ]
  },
  {
   "cell_type": "markdown",
   "id": "fcffc180-f145-4d1b-b1c4-1587e87e9fbe",
   "metadata": {},
   "source": []
  }
 ],
 "metadata": {
  "kernelspec": {
   "display_name": "Python 3",
   "language": "python",
   "name": "python3"
  },
  "language_info": {
   "codemirror_mode": {
    "name": "ipython",
    "version": 3
   },
   "file_extension": ".py",
   "mimetype": "text/x-python",
   "name": "python",
   "nbconvert_exporter": "python",
   "pygments_lexer": "ipython3",
   "version": "3.8.8"
  },
  "widgets": {
   "application/vnd.jupyter.widget-state+json": {
    "state": {},
    "version_major": 2,
    "version_minor": 0
   }
  }
 },
 "nbformat": 4,
 "nbformat_minor": 5
}
